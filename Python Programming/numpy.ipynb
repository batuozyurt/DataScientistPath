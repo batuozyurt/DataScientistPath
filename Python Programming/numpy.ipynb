{
 "cells": [
  {
   "cell_type": "markdown",
   "id": "4fabb369",
   "metadata": {},
   "source": [
    "# NumPy (Numerical Python)\n",
    "---\n",
    "- Python'da programlama dünyasından, veri analitiği dünyasına kapan açan kütüphanedir. Bilimsel hesaplamalar için kullanılır.\n",
    "- **Neden NumPy?**; \n",
    "    - İçerisinde tek bir veri tipi barındırdığından dolayı daha hızlıdır. (fix type)\n",
    "    - Verimli veri saklama ve vektörel operasyonları gerçekleştirir.\n",
    "    - Daha az çaba ile daha fazla iş yapar.\n",
    "    - Array'ler, çok boyutlu array'ler ve matrisler üzerinde yüksek performanslı çalışma imkanı sağlar.\n",
    "- Bu yönleriyle Python listelerinden farklıdır. Bundan dolayı NumPy tercih edilir.\n",
    "---\n",
    "### Numpy Array Oluşturma\n",
    "- **NumPy**'ın kendine has bir veri yapısı vardır; **_ndarray_**\n",
    "- **NumPy array**'ler _Python_'da bulunan veri yapıları gibi bir veri yapısıdır.\n",
    "- NumPy'da işlem gerçekleştirirken **ndarray**'a ihtiyaç duyarız."
   ]
  },
  {
   "cell_type": "code",
   "execution_count": 1,
   "id": "f19d9887",
   "metadata": {},
   "outputs": [
    {
     "data": {
      "text/plain": [
       "array([ 1,  2,  3,  4,  5,  6,  7,  8,  9, 10])"
      ]
     },
     "execution_count": 1,
     "metadata": {},
     "output_type": "execute_result"
    }
   ],
   "source": [
    "import numpy as np\n",
    "np.array([1, 2, 3, 4, 5, 6, 7, 8, 9, 10])"
   ]
  },
  {
   "cell_type": "markdown",
   "id": "67f61a26",
   "metadata": {},
   "source": [
    "- liste yapısını üzerinde array oluşturduk."
   ]
  },
  {
   "cell_type": "code",
   "execution_count": 2,
   "id": "9dc73a3a",
   "metadata": {},
   "outputs": [
    {
     "data": {
      "text/plain": [
       "numpy.ndarray"
      ]
     },
     "execution_count": 2,
     "metadata": {},
     "output_type": "execute_result"
    }
   ],
   "source": [
    "type(np.array([1, 2, 3, 4, 5, 6, 7, 8, 9, 10]))"
   ]
  },
  {
   "cell_type": "markdown",
   "id": "ca02390c",
   "metadata": {},
   "source": [
    "- Kendimiz istediğimiz düzeyde, sınırda ve sıralamada array oluşturabiliriz."
   ]
  },
  {
   "cell_type": "code",
   "execution_count": 3,
   "id": "e482a5a3",
   "metadata": {},
   "outputs": [
    {
     "data": {
      "text/plain": [
       "array([0, 0, 0, 0, 0])"
      ]
     },
     "execution_count": 3,
     "metadata": {},
     "output_type": "execute_result"
    }
   ],
   "source": [
    "np.zeros(5, dtype = int)"
   ]
  },
  {
   "cell_type": "markdown",
   "id": "22dabf35",
   "metadata": {},
   "source": [
    "- 0'lardan oluşan tipi integer olan bir array oluşturduk."
   ]
  },
  {
   "cell_type": "code",
   "execution_count": 4,
   "id": "b759fa5c",
   "metadata": {},
   "outputs": [
    {
     "data": {
      "text/plain": [
       "array([13, 11, 15, 10, 11,  1, 19,  3, 11,  2])"
      ]
     },
     "execution_count": 4,
     "metadata": {},
     "output_type": "execute_result"
    }
   ],
   "source": [
    "np.random.randint(0, 20, size = 10)"
   ]
  },
  {
   "cell_type": "markdown",
   "id": "c8607ffb",
   "metadata": {},
   "source": [
    "- içerisinde 0' dan 20'e kadar rastgele 10 adet integer bulunduran bir array oluşturduk."
   ]
  },
  {
   "cell_type": "code",
   "execution_count": 5,
   "id": "fda4e6f3",
   "metadata": {},
   "outputs": [
    {
     "data": {
      "text/plain": [
       "array([[ 2.54749671, 11.00366467, 13.72260572, 15.92689659],\n",
       "       [12.65816083, 13.8305289 , 11.41818336,  4.75763456],\n",
       "       [10.14114885, 17.43829675, 17.15991687,  8.87276502]])"
      ]
     },
     "execution_count": 5,
     "metadata": {},
     "output_type": "execute_result"
    }
   ],
   "source": [
    "np.random.normal(10, 4, (3, 4))"
   ]
  },
  {
   "cell_type": "markdown",
   "id": "9cf07a66",
   "metadata": {},
   "source": [
    "- ortalaması 10, standart sapması 4 olan üçe dörtlük bir array oluşturduk."
   ]
  },
  {
   "cell_type": "markdown",
   "id": "f7a93001",
   "metadata": {},
   "source": [
    "### NumPy Array Özellikleri\n",
    "---\n",
    "- **ndim**; boyut sayısı\n",
    "- **shape**; boyut bilgisi\n",
    "- **size**; toplam eleman sayısı\n",
    "- **dtype**; array'in içinde barındırılan verinin tipi"
   ]
  },
  {
   "cell_type": "code",
   "execution_count": 6,
   "id": "30a78702",
   "metadata": {},
   "outputs": [],
   "source": [
    "a = np.random.randint(10, size = 5)"
   ]
  },
  {
   "cell_type": "code",
   "execution_count": 7,
   "id": "8a73b622",
   "metadata": {},
   "outputs": [
    {
     "data": {
      "text/plain": [
       "1"
      ]
     },
     "execution_count": 7,
     "metadata": {},
     "output_type": "execute_result"
    }
   ],
   "source": [
    "a.ndim"
   ]
  },
  {
   "cell_type": "code",
   "execution_count": 8,
   "id": "1d14c444",
   "metadata": {},
   "outputs": [
    {
     "data": {
      "text/plain": [
       "(5,)"
      ]
     },
     "execution_count": 8,
     "metadata": {},
     "output_type": "execute_result"
    }
   ],
   "source": [
    "a.shape"
   ]
  },
  {
   "cell_type": "code",
   "execution_count": 9,
   "id": "de75009a",
   "metadata": {},
   "outputs": [
    {
     "data": {
      "text/plain": [
       "5"
      ]
     },
     "execution_count": 9,
     "metadata": {},
     "output_type": "execute_result"
    }
   ],
   "source": [
    "a.size"
   ]
  },
  {
   "cell_type": "code",
   "execution_count": 10,
   "id": "8a00d3f6",
   "metadata": {},
   "outputs": [
    {
     "data": {
      "text/plain": [
       "dtype('int64')"
      ]
     },
     "execution_count": 10,
     "metadata": {},
     "output_type": "execute_result"
    }
   ],
   "source": [
    "a.dtype"
   ]
  },
  {
   "cell_type": "markdown",
   "id": "a2245537",
   "metadata": {},
   "source": [
    "#### Reshaping\n",
    "---\n",
    "- Bir array'in boyutunu değiştirmek için kullanıyoruz."
   ]
  },
  {
   "cell_type": "code",
   "execution_count": 11,
   "id": "f473cbf2",
   "metadata": {},
   "outputs": [
    {
     "data": {
      "text/plain": [
       "array([4, 3, 6, 9, 7, 8, 3, 9, 9])"
      ]
     },
     "execution_count": 11,
     "metadata": {},
     "output_type": "execute_result"
    }
   ],
   "source": [
    "np.random.randint(1, 10, size = 9)"
   ]
  },
  {
   "cell_type": "markdown",
   "id": "41fec124",
   "metadata": {},
   "source": [
    "- 1'den 10'a kadar tek boyutlu rastgele integer barındıran bir array oluşturduk."
   ]
  },
  {
   "cell_type": "code",
   "execution_count": 12,
   "id": "a8764ae2",
   "metadata": {},
   "outputs": [
    {
     "data": {
      "text/plain": [
       "array([[5, 1, 7],\n",
       "       [6, 2, 2],\n",
       "       [6, 1, 2]])"
      ]
     },
     "execution_count": 12,
     "metadata": {},
     "output_type": "execute_result"
    }
   ],
   "source": [
    "np.random.randint(1, 10, size = 9).reshape(3, 3)"
   ]
  },
  {
   "cell_type": "markdown",
   "id": "de324b15",
   "metadata": {},
   "source": [
    "- oluşturduğumuz array'i üçe üçlük iki boyutlu bir array'e dönüştürdük."
   ]
  },
  {
   "cell_type": "code",
   "execution_count": 13,
   "id": "704ab9ed",
   "metadata": {},
   "outputs": [
    {
     "data": {
      "text/plain": [
       "array([[1, 2, 6],\n",
       "       [2, 6, 7],\n",
       "       [4, 8, 2]])"
      ]
     },
     "execution_count": 13,
     "metadata": {},
     "output_type": "execute_result"
    }
   ],
   "source": [
    "ar = np.random.randint(1, 10, size = 9)\n",
    "ar.reshape(3, 3)"
   ]
  },
  {
   "cell_type": "markdown",
   "id": "23d33251",
   "metadata": {},
   "source": [
    "- Bir değişkene atayıp o değişken üzerinden de _reshaping_ yapabilirdik.\n",
    "- Dikkat edilmesi gereken nokta; array'in eleman sayısı ile dönüştürülecek satır, sütun sayısı."
   ]
  },
  {
   "cell_type": "markdown",
   "id": "56ac1884",
   "metadata": {},
   "source": [
    "#### Index Selection\n",
    "---\n",
    "- Veri yapılarının üzerinde çalışırken, bu veri yapılarının içerisinde barındırdığı verilere ulaşmak isteyebiliriz.\n",
    "- **Index Selection**; bu verilere ulaşmak için kullandığımız yöntemlerdir."
   ]
  },
  {
   "cell_type": "code",
   "execution_count": 14,
   "id": "47f5a70e",
   "metadata": {},
   "outputs": [],
   "source": [
    "a = np.random.randint(10, size = 10)"
   ]
  },
  {
   "cell_type": "code",
   "execution_count": 15,
   "id": "02c4f8cc",
   "metadata": {},
   "outputs": [
    {
     "data": {
      "text/plain": [
       "array([5, 9, 0, 8, 0, 4, 2, 4, 7, 2])"
      ]
     },
     "execution_count": 15,
     "metadata": {},
     "output_type": "execute_result"
    }
   ],
   "source": [
    "a"
   ]
  },
  {
   "cell_type": "code",
   "execution_count": 16,
   "id": "0c44ddc6",
   "metadata": {},
   "outputs": [
    {
     "data": {
      "text/plain": [
       "5"
      ]
     },
     "execution_count": 16,
     "metadata": {},
     "output_type": "execute_result"
    }
   ],
   "source": [
    "a[0] # 0. index'e ulaşmak istersek."
   ]
  },
  {
   "cell_type": "code",
   "execution_count": 17,
   "id": "f4ea2b95",
   "metadata": {},
   "outputs": [
    {
     "data": {
      "text/plain": [
       "array([5, 9, 0, 8, 0])"
      ]
     },
     "execution_count": 17,
     "metadata": {},
     "output_type": "execute_result"
    }
   ],
   "source": [
    "a[0:5] # 0'dan (0 dahil) 5'e kadar (5 hariç) slicing işlemi."
   ]
  },
  {
   "cell_type": "code",
   "execution_count": 18,
   "id": "030f7171",
   "metadata": {},
   "outputs": [],
   "source": [
    "m = np.random.randint(10, size = (3, 5))"
   ]
  },
  {
   "cell_type": "code",
   "execution_count": 19,
   "id": "ff172d56",
   "metadata": {},
   "outputs": [
    {
     "data": {
      "text/plain": [
       "array([[9, 8, 0, 7, 4],\n",
       "       [8, 4, 2, 9, 9],\n",
       "       [6, 3, 7, 9, 8]])"
      ]
     },
     "execution_count": 19,
     "metadata": {},
     "output_type": "execute_result"
    }
   ],
   "source": [
    "m # 3 satırlı, 5 sütunlu bir array'de index işlemleri"
   ]
  },
  {
   "cell_type": "code",
   "execution_count": 20,
   "id": "2a16336d",
   "metadata": {},
   "outputs": [
    {
     "data": {
      "text/plain": [
       "9"
      ]
     },
     "execution_count": 20,
     "metadata": {},
     "output_type": "execute_result"
    }
   ],
   "source": [
    "m[0, 0]"
   ]
  },
  {
   "cell_type": "code",
   "execution_count": 21,
   "id": "3789679e",
   "metadata": {},
   "outputs": [
    {
     "data": {
      "text/plain": [
       "9"
      ]
     },
     "execution_count": 21,
     "metadata": {},
     "output_type": "execute_result"
    }
   ],
   "source": [
    "m[2, 3]"
   ]
  },
  {
   "cell_type": "markdown",
   "id": "9cde0222",
   "metadata": {},
   "source": [
    "### Fancy Index\n",
    "---\n",
    "- Bazı zamanlarda elimizde birçok index bilgisi olabilir. İlgili array'e indexleri liste şeklinde gönderdiğimizde o liste değerlerine karşılık gelen index bilgilerini bize döndürür."
   ]
  },
  {
   "cell_type": "code",
   "execution_count": 22,
   "id": "c05f3754",
   "metadata": {},
   "outputs": [],
   "source": [
    "v = np.arange(0, 30, 3)"
   ]
  },
  {
   "cell_type": "code",
   "execution_count": 23,
   "id": "c27089aa",
   "metadata": {},
   "outputs": [
    {
     "data": {
      "text/plain": [
       "3"
      ]
     },
     "execution_count": 23,
     "metadata": {},
     "output_type": "execute_result"
    }
   ],
   "source": [
    "v[1]"
   ]
  },
  {
   "cell_type": "code",
   "execution_count": 24,
   "id": "f7878a07",
   "metadata": {},
   "outputs": [
    {
     "data": {
      "text/plain": [
       "9"
      ]
     },
     "execution_count": 24,
     "metadata": {},
     "output_type": "execute_result"
    }
   ],
   "source": [
    "v[3]"
   ]
  },
  {
   "cell_type": "code",
   "execution_count": 25,
   "id": "af8348ec",
   "metadata": {},
   "outputs": [
    {
     "data": {
      "text/plain": [
       "array([3, 6, 9])"
      ]
     },
     "execution_count": 25,
     "metadata": {},
     "output_type": "execute_result"
    }
   ],
   "source": [
    "catch = [1, 2, 3]\n",
    "v[catch]"
   ]
  },
  {
   "cell_type": "markdown",
   "id": "e956e175",
   "metadata": {},
   "source": [
    "### Conditions on NumPy\n",
    "---\n",
    "- Amacımız oluşturduğumuz np.array'de 3'den küçük değerlere erişmek."
   ]
  },
  {
   "cell_type": "code",
   "execution_count": 26,
   "id": "e14f8f57",
   "metadata": {},
   "outputs": [],
   "source": [
    "v = np.array([1, 2, 3, 4, 5])"
   ]
  },
  {
   "cell_type": "code",
   "execution_count": 27,
   "id": "eb2f9055",
   "metadata": {},
   "outputs": [
    {
     "data": {
      "text/plain": [
       "[1, 2]"
      ]
     },
     "execution_count": 27,
     "metadata": {},
     "output_type": "execute_result"
    }
   ],
   "source": [
    "# klasik döngü ile\n",
    "\n",
    "ab = []\n",
    "for i in v:\n",
    "    if i < 3:\n",
    "        ab.append(i)\n",
    "\n",
    "ab"
   ]
  },
  {
   "cell_type": "code",
   "execution_count": 28,
   "id": "6b427635",
   "metadata": {},
   "outputs": [
    {
     "data": {
      "text/plain": [
       "array([ True,  True, False, False, False])"
      ]
     },
     "execution_count": 28,
     "metadata": {},
     "output_type": "execute_result"
    }
   ],
   "source": [
    "# NumPy ile\n",
    "\n",
    "v < 3 # koşulu sağlayan, sağlamayan tüm değerleri boolean tipinde bize döndürdü."
   ]
  },
  {
   "cell_type": "code",
   "execution_count": 29,
   "id": "c5687c97",
   "metadata": {},
   "outputs": [
    {
     "data": {
      "text/plain": [
       "array([1, 2])"
      ]
     },
     "execution_count": 29,
     "metadata": {},
     "output_type": "execute_result"
    }
   ],
   "source": [
    "v[v < 3] # koşulu sağlayan değerleri görmek için;"
   ]
  },
  {
   "cell_type": "markdown",
   "id": "d2ca976f",
   "metadata": {},
   "source": [
    "### Mathematical Operations"
   ]
  },
  {
   "cell_type": "code",
   "execution_count": 30,
   "id": "ac26488b",
   "metadata": {},
   "outputs": [
    {
     "data": {
      "text/plain": [
       "array([1, 2, 3, 4, 5])"
      ]
     },
     "execution_count": 30,
     "metadata": {},
     "output_type": "execute_result"
    }
   ],
   "source": [
    "v = np.array([1, 2, 3, 4, 5])\n",
    "v"
   ]
  },
  {
   "cell_type": "code",
   "execution_count": 31,
   "id": "6bc2ff3d",
   "metadata": {},
   "outputs": [
    {
     "data": {
      "text/plain": [
       "array([0.2, 0.4, 0.6, 0.8, 1. ])"
      ]
     },
     "execution_count": 31,
     "metadata": {},
     "output_type": "execute_result"
    }
   ],
   "source": [
    "v / 5"
   ]
  },
  {
   "cell_type": "code",
   "execution_count": 32,
   "id": "d8e1b1a1",
   "metadata": {},
   "outputs": [
    {
     "data": {
      "text/plain": [
       "array([0.5, 1. , 1.5, 2. , 2.5])"
      ]
     },
     "execution_count": 32,
     "metadata": {},
     "output_type": "execute_result"
    }
   ],
   "source": [
    "v * 5 / 10"
   ]
  },
  {
   "cell_type": "markdown",
   "id": "02bdcb0a",
   "metadata": {},
   "source": [
    "- **NumPy metodları** ile matematiksel işlemler gerçekleştirelim;"
   ]
  },
  {
   "cell_type": "code",
   "execution_count": 34,
   "id": "55a1805d",
   "metadata": {},
   "outputs": [
    {
     "data": {
      "text/plain": [
       "array([1, 2, 3, 4, 5])"
      ]
     },
     "execution_count": 34,
     "metadata": {},
     "output_type": "execute_result"
    }
   ],
   "source": [
    "v"
   ]
  },
  {
   "cell_type": "code",
   "execution_count": 33,
   "id": "6a461a50",
   "metadata": {},
   "outputs": [
    {
     "data": {
      "text/plain": [
       "array([0, 1, 2, 3, 4])"
      ]
     },
     "execution_count": 33,
     "metadata": {},
     "output_type": "execute_result"
    }
   ],
   "source": [
    "np.subtract(v, 1)"
   ]
  },
  {
   "cell_type": "markdown",
   "id": "3228430d",
   "metadata": {},
   "source": [
    "- array içerisinde bulunan elemanlardan \"1\" çıkarttı."
   ]
  },
  {
   "cell_type": "code",
   "execution_count": 35,
   "id": "12f7703e",
   "metadata": {},
   "outputs": [
    {
     "data": {
      "text/plain": [
       "array([2, 3, 4, 5, 6])"
      ]
     },
     "execution_count": 35,
     "metadata": {},
     "output_type": "execute_result"
    }
   ],
   "source": [
    "np.add(v, 1)"
   ]
  },
  {
   "cell_type": "markdown",
   "id": "7c3d377b",
   "metadata": {},
   "source": [
    "- array içerisinde bulunan elemanlara \"1\" ekledi."
   ]
  },
  {
   "cell_type": "code",
   "execution_count": 36,
   "id": "8b23e360",
   "metadata": {},
   "outputs": [
    {
     "data": {
      "text/plain": [
       "3.0"
      ]
     },
     "execution_count": 36,
     "metadata": {},
     "output_type": "execute_result"
    }
   ],
   "source": [
    "np.mean(v)"
   ]
  },
  {
   "cell_type": "markdown",
   "id": "cf6475a7",
   "metadata": {},
   "source": [
    "- array'in ortalamasını aldı."
   ]
  },
  {
   "cell_type": "code",
   "execution_count": 37,
   "id": "498a7c78",
   "metadata": {},
   "outputs": [
    {
     "data": {
      "text/plain": [
       "15"
      ]
     },
     "execution_count": 37,
     "metadata": {},
     "output_type": "execute_result"
    }
   ],
   "source": [
    "np.sum(v)"
   ]
  },
  {
   "cell_type": "markdown",
   "id": "b8ff1276",
   "metadata": {},
   "source": [
    "- array içerisinde bulunan tüm elemanları topladı."
   ]
  },
  {
   "cell_type": "code",
   "execution_count": 38,
   "id": "62c92f15",
   "metadata": {},
   "outputs": [
    {
     "data": {
      "text/plain": [
       "1"
      ]
     },
     "execution_count": 38,
     "metadata": {},
     "output_type": "execute_result"
    }
   ],
   "source": [
    "np.min(v)"
   ]
  },
  {
   "cell_type": "markdown",
   "id": "713148a5",
   "metadata": {},
   "source": [
    "- array içerisinde bulunan minimum değerde olan eleman."
   ]
  },
  {
   "cell_type": "code",
   "execution_count": 39,
   "id": "ac9f1acf",
   "metadata": {},
   "outputs": [
    {
     "data": {
      "text/plain": [
       "5"
      ]
     },
     "execution_count": 39,
     "metadata": {},
     "output_type": "execute_result"
    }
   ],
   "source": [
    "np.max(v)"
   ]
  },
  {
   "cell_type": "markdown",
   "id": "ec62e5c5",
   "metadata": {},
   "source": [
    "- array içerisinde bulunan maksimum değerde olan eleman."
   ]
  },
  {
   "cell_type": "code",
   "execution_count": 40,
   "id": "335924c0",
   "metadata": {},
   "outputs": [
    {
     "data": {
      "text/plain": [
       "2.0"
      ]
     },
     "execution_count": 40,
     "metadata": {},
     "output_type": "execute_result"
    }
   ],
   "source": [
    "np.var(v)"
   ]
  },
  {
   "cell_type": "markdown",
   "id": "7a2af055",
   "metadata": {},
   "source": [
    "- array varyans"
   ]
  },
  {
   "cell_type": "markdown",
   "id": "5e872eab",
   "metadata": {},
   "source": [
    "### NumPy ile iki bilinmeyenli denklem çözümü;\n",
    "- 5*x0 + x1 = 12\n",
    "- x0 + 3*x1 = 10"
   ]
  },
  {
   "cell_type": "code",
   "execution_count": 41,
   "id": "c35847bd",
   "metadata": {},
   "outputs": [
    {
     "data": {
      "text/plain": [
       "array([1.85714286, 2.71428571])"
      ]
     },
     "execution_count": 41,
     "metadata": {},
     "output_type": "execute_result"
    }
   ],
   "source": [
    "a = np.array([[5, 1], [1, 3]])\n",
    "b = np.array([12, 10])\n",
    "\n",
    "np.linalg.solve(a, b)"
   ]
  }
 ],
 "metadata": {
  "kernelspec": {
   "display_name": "Python 3 (ipykernel)",
   "language": "python",
   "name": "python3"
  },
  "language_info": {
   "codemirror_mode": {
    "name": "ipython",
    "version": 3
   },
   "file_extension": ".py",
   "mimetype": "text/x-python",
   "name": "python",
   "nbconvert_exporter": "python",
   "pygments_lexer": "ipython3",
   "version": "3.9.12"
  }
 },
 "nbformat": 4,
 "nbformat_minor": 5
}
