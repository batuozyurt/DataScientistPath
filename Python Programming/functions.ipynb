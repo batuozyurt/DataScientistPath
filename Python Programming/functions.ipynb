{
 "cells": [
  {
   "cell_type": "markdown",
   "id": "ad929592",
   "metadata": {},
   "source": [
    "# Functions (Fonksiyonlar)\n",
    "---\n",
    "## Fonksiyon Okuryazalığı\n",
    "- **Fonksiyon**; belirli görevleri kendimizi tekrar etmememiz adına yerine getiren, tekrar tekrar kullanılabilen kod parçalarıdır.\n",
    "- **Parametre**; Fonksiyon tanımlanması esnasında ifade edilen değişkenlerdir.\n",
    "- **Argüman**; Fonksiyonlar çağırıldığında **_parametre_** değerlerine karşılık girilen değerlerdir.\n",
    "    - Fonksiyonun _genel amacını biçimlendirmek_ üzere kullanılan alt görevilerdir.\n",
    "- Bir fonksiyonun ne işlevi olduğunu, hangi parametre/argümanlara sahip olduğunu öğrenmek için;"
   ]
  },
  {
   "cell_type": "code",
   "execution_count": null,
   "id": "55de33f9",
   "metadata": {},
   "outputs": [],
   "source": [
    "# help(function_name)\n",
    "help(print)"
   ]
  },
  {
   "cell_type": "code",
   "execution_count": 1,
   "id": "994059f1",
   "metadata": {},
   "outputs": [
    {
     "name": "stdout",
     "output_type": "stream",
     "text": [
      "a b\n"
     ]
    }
   ],
   "source": [
    "print(\"a\", \"b\")"
   ]
  },
  {
   "cell_type": "code",
   "execution_count": 2,
   "id": "47e29e57",
   "metadata": {},
   "outputs": [
    {
     "name": "stdout",
     "output_type": "stream",
     "text": [
      "a__b\n"
     ]
    }
   ],
   "source": [
    "print(\"a\", \"b\", sep=\"__\") # ön tanımlı sep argümanını biçimlendirdik."
   ]
  },
  {
   "cell_type": "markdown",
   "id": "6cd1c157",
   "metadata": {},
   "source": [
    "## Fonksiyon Tanımlama"
   ]
  },
  {
   "cell_type": "code",
   "execution_count": 3,
   "id": "1dc8334c",
   "metadata": {},
   "outputs": [],
   "source": [
    "def calculate(x):\n",
    "    print(x * 2)\n",
    "\n",
    "# x, fonksiyon çağırıldığında fonksiyonu kullanırken girilecek olan değerleri temsil ediyor."
   ]
  },
  {
   "cell_type": "code",
   "execution_count": 4,
   "id": "7b4c1913",
   "metadata": {},
   "outputs": [
    {
     "name": "stdout",
     "output_type": "stream",
     "text": [
      "6\n"
     ]
    }
   ],
   "source": [
    "calculate(3)"
   ]
  },
  {
   "cell_type": "markdown",
   "id": "fae4d7b0",
   "metadata": {},
   "source": [
    "- iki argümanlı/parametreli bir fonksiyon yazalım;"
   ]
  },
  {
   "cell_type": "code",
   "execution_count": 7,
   "id": "b1b7f28c",
   "metadata": {},
   "outputs": [],
   "source": [
    "def summer(arg1, arg2):\n",
    "    print(arg1 + arg2)"
   ]
  },
  {
   "cell_type": "code",
   "execution_count": 8,
   "id": "8bcb6be3",
   "metadata": {},
   "outputs": [
    {
     "name": "stdout",
     "output_type": "stream",
     "text": [
      "5\n"
     ]
    }
   ],
   "source": [
    "summer(2, 3)"
   ]
  },
  {
   "cell_type": "markdown",
   "id": "727704b7",
   "metadata": {},
   "source": [
    "## Docstring\n",
    "---\n",
    "- Python modülleri, fonksiyonları, işlevleri, sınıfları ve yöntemleri ile belgelerin ilişkilendirilmesi için uygun bir yol sağlar.\n",
    "- Belirli bir kod segmentini belgelemek için yorum gibi, kullanılan kaynak kodda belirtilir."
   ]
  },
  {
   "cell_type": "code",
   "execution_count": 9,
   "id": "2adc716b",
   "metadata": {},
   "outputs": [],
   "source": [
    "def summer(arg1, arg2):\n",
    "    \"\"\"\n",
    "    Sum of two numbers\n",
    "\n",
    "    Args:\n",
    "        arg1: int, float\n",
    "        arg2: int, float\n",
    "\n",
    "    Returns:\n",
    "        int, float\n",
    "\n",
    "    \"\"\"\n",
    "\n",
    "    print(arg1 + arg2)"
   ]
  },
  {
   "cell_type": "code",
   "execution_count": 10,
   "id": "13026954",
   "metadata": {},
   "outputs": [
    {
     "name": "stdout",
     "output_type": "stream",
     "text": [
      "8\n"
     ]
    }
   ],
   "source": [
    "summer(3, 5)"
   ]
  },
  {
   "cell_type": "code",
   "execution_count": null,
   "id": "76b7a6d7",
   "metadata": {},
   "outputs": [],
   "source": [
    "help(summer) # ile tanımladığımız fonksiyonun docstring'ine ulaşabiliriz."
   ]
  },
  {
   "cell_type": "markdown",
   "id": "4e204d2b",
   "metadata": {},
   "source": [
    "## Fonksiyonlarda statement/body bölümü\n",
    "---\n",
    "- def function_name(parameters/arguments):\n",
    "    - statements (function body)"
   ]
  },
  {
   "cell_type": "code",
   "execution_count": 11,
   "id": "dbfe89f5",
   "metadata": {},
   "outputs": [],
   "source": [
    "def say_hi():\n",
    "    print(\"Merhaba\") # statement \n",
    "    print(\"Hi\")\n",
    "    print(\"Hello\")"
   ]
  },
  {
   "cell_type": "code",
   "execution_count": 12,
   "id": "17b1e9d5",
   "metadata": {},
   "outputs": [
    {
     "name": "stdout",
     "output_type": "stream",
     "text": [
      "Merhaba\n",
      "Hi\n",
      "Hello\n"
     ]
    }
   ],
   "source": [
    "say_hi()"
   ]
  },
  {
   "cell_type": "code",
   "execution_count": 13,
   "id": "f088b5a2",
   "metadata": {},
   "outputs": [],
   "source": [
    "def say_hi(string):\n",
    "    print(string)\n",
    "    print(\"Hi\")\n",
    "    print(\"Hello\")"
   ]
  },
  {
   "cell_type": "code",
   "execution_count": 14,
   "id": "9cc5c416",
   "metadata": {},
   "outputs": [
    {
     "name": "stdout",
     "output_type": "stream",
     "text": [
      "miuul\n",
      "Hi\n",
      "Hello\n"
     ]
    }
   ],
   "source": [
    "say_hi(\"miuul\")"
   ]
  },
  {
   "cell_type": "code",
   "execution_count": 15,
   "id": "79480bd6",
   "metadata": {},
   "outputs": [],
   "source": [
    "def multiplication(a, b):\n",
    "    c = a * b\n",
    "    print(c)"
   ]
  },
  {
   "cell_type": "code",
   "execution_count": 16,
   "id": "c66317b9",
   "metadata": {},
   "outputs": [
    {
     "name": "stdout",
     "output_type": "stream",
     "text": [
      "12\n"
     ]
    }
   ],
   "source": [
    "multiplication(3, 4)"
   ]
  },
  {
   "cell_type": "markdown",
   "id": "68d588a1",
   "metadata": {},
   "source": [
    "- içerisinde üretmiş olduğu değerleri bir liste içerisinde saklayacak fonksiyon yazalım;"
   ]
  },
  {
   "cell_type": "code",
   "execution_count": 17,
   "id": "26af1d77",
   "metadata": {},
   "outputs": [],
   "source": [
    "list_store = []\n",
    "\n",
    "def add_element(a, b):\n",
    "    c = a * b\n",
    "    list_store.append(c)\n",
    "    print(list_store)"
   ]
  },
  {
   "cell_type": "code",
   "execution_count": 18,
   "id": "6620c548",
   "metadata": {},
   "outputs": [
    {
     "name": "stdout",
     "output_type": "stream",
     "text": [
      "[12]\n"
     ]
    }
   ],
   "source": [
    "add_element(3,4)"
   ]
  },
  {
   "cell_type": "code",
   "execution_count": 19,
   "id": "d1e8a8ac",
   "metadata": {},
   "outputs": [
    {
     "name": "stdout",
     "output_type": "stream",
     "text": [
      "[12, 20]\n"
     ]
    }
   ],
   "source": [
    "add_element(4,5)"
   ]
  },
  {
   "cell_type": "markdown",
   "id": "643f0b2f",
   "metadata": {},
   "source": [
    "## Default Parameters/Arguments\n",
    "- ön tanımlı parametreler/argümanlar"
   ]
  },
  {
   "cell_type": "code",
   "execution_count": 20,
   "id": "ebe6694b",
   "metadata": {},
   "outputs": [],
   "source": [
    "def divide(a, b):\n",
    "    print(a / b)"
   ]
  },
  {
   "cell_type": "code",
   "execution_count": 21,
   "id": "6a2a7e10",
   "metadata": {},
   "outputs": [
    {
     "ename": "TypeError",
     "evalue": "divide() missing 1 required positional argument: 'b'",
     "output_type": "error",
     "traceback": [
      "\u001b[0;31m---------------------------------------------------------------------------\u001b[0m",
      "\u001b[0;31mTypeError\u001b[0m                                 Traceback (most recent call last)",
      "Input \u001b[0;32mIn [21]\u001b[0m, in \u001b[0;36m<cell line: 1>\u001b[0;34m()\u001b[0m\n\u001b[0;32m----> 1\u001b[0m \u001b[43mdivide\u001b[49m\u001b[43m(\u001b[49m\u001b[38;5;241;43m1\u001b[39;49m\u001b[43m)\u001b[49m\n",
      "\u001b[0;31mTypeError\u001b[0m: divide() missing 1 required positional argument: 'b'"
     ]
    }
   ],
   "source": [
    "divide(1)\n",
    "# fonksiyonda bulunan ikinci argümanı girmediğimiz için hata alıyoruz."
   ]
  },
  {
   "cell_type": "markdown",
   "id": "02748ca9",
   "metadata": {},
   "source": [
    "- eğer fonksiyona ön tanımlı bir argüman girersek, ikinci değeri girmeyi unutsak bile tanımladığımız değer ile işleme devam edecektir."
   ]
  },
  {
   "cell_type": "code",
   "execution_count": 22,
   "id": "48f8b63a",
   "metadata": {},
   "outputs": [],
   "source": [
    "def divide(a, b=2):\n",
    "    print(a / b)"
   ]
  },
  {
   "cell_type": "code",
   "execution_count": 23,
   "id": "886a3431",
   "metadata": {},
   "outputs": [
    {
     "name": "stdout",
     "output_type": "stream",
     "text": [
      "0.5\n"
     ]
    }
   ],
   "source": [
    "divide(1)"
   ]
  },
  {
   "cell_type": "markdown",
   "id": "e1203615",
   "metadata": {},
   "source": [
    "## Ne zaman fonksiyon yazma ihtiyacımız olur?\n",
    "---\n",
    "- Eğer bir işlemi/işlemleri yazdığım script'te devamlı olarak kullanacaksam bu işlemi/işlemleri tekrar tekrar yazmak yerine bir fonksiyon oluşturup istediğim işlemi ihtiyacım olduğu zaman çağırıp kullanabilirim.\n",
    "- **temperature, moisture, charge**; değerlerini içeren bir veri setimiz olduğunu düşünelim. bu değerleri kullanarak bir hesaplama yapmamız gerekiyor. her seferinde değerleri kendimiz değiştirerek bu işlemi çok uzun süren bir çalışmayla gerçekleştirebiliriz. Bunu istemeyiz.."
   ]
  },
  {
   "cell_type": "code",
   "execution_count": 24,
   "id": "2da4df1c",
   "metadata": {},
   "outputs": [
    {
     "data": {
      "text/plain": [
       "0.8875"
      ]
     },
     "execution_count": 24,
     "metadata": {},
     "output_type": "execute_result"
    }
   ],
   "source": [
    "(56 + 15) / 80"
   ]
  },
  {
   "cell_type": "code",
   "execution_count": 25,
   "id": "7c1ed68f",
   "metadata": {},
   "outputs": [
    {
     "data": {
      "text/plain": [
       "0.8857142857142857"
      ]
     },
     "execution_count": 25,
     "metadata": {},
     "output_type": "execute_result"
    }
   ],
   "source": [
    "(17 + 45) / 70"
   ]
  },
  {
   "cell_type": "code",
   "execution_count": 26,
   "id": "a9e0b4e7",
   "metadata": {},
   "outputs": [
    {
     "data": {
      "text/plain": [
       "1.2125"
      ]
     },
     "execution_count": 26,
     "metadata": {},
     "output_type": "execute_result"
    }
   ],
   "source": [
    "(52 + 45) / 80"
   ]
  },
  {
   "cell_type": "markdown",
   "id": "de5644ae",
   "metadata": {},
   "source": [
    "- **DRY** mentalitesiyle ilerlememiz gerekiyor.\n",
    "---\n",
    "- **DRY**, _don't repeat yourself_; programlarımızı/script'lerimi yazarken kendimizi tekrar etmememiz gerekiyor.\n",
    "- Bu yüzden fonksiyonlara daha çok ihtiyaç duyarız.\n",
    "---\n",
    "- Şimdi **temperature, moisture, charge** değerlerini kullanarak, hesaplama yapacak bir fonksiyon yazalım."
   ]
  },
  {
   "cell_type": "code",
   "execution_count": 27,
   "id": "83437103",
   "metadata": {},
   "outputs": [],
   "source": [
    "def calculate(temperature, moisture, charge):\n",
    "    print((temperature + moisture) / charge)"
   ]
  },
  {
   "cell_type": "code",
   "execution_count": 28,
   "id": "0b7d1a1a",
   "metadata": {},
   "outputs": [
    {
     "name": "stdout",
     "output_type": "stream",
     "text": [
      "1.3076923076923077\n"
     ]
    }
   ],
   "source": [
    "calculate(90, 12, 78)"
   ]
  },
  {
   "cell_type": "markdown",
   "id": "55e55883",
   "metadata": {},
   "source": [
    "## return\n",
    "---\n",
    "- fonksiyon çıktılarını girdi olarak kullanmak istebiliriz. fonksiyonun bize vermiş olduğu çıktılarla tekrar başka işlemlerde kullanmak isteyebiliriz. Bunun için **_return_** fonksiyonunu kullanmamız gerekiyor."
   ]
  },
  {
   "cell_type": "code",
   "execution_count": 30,
   "id": "f2ff2e07",
   "metadata": {},
   "outputs": [],
   "source": [
    "def calculate(temperature, moisture, charge):\n",
    "    print((temperature + moisture) / charge)"
   ]
  },
  {
   "cell_type": "code",
   "execution_count": 31,
   "id": "ec782bb1",
   "metadata": {},
   "outputs": [
    {
     "name": "stdout",
     "output_type": "stream",
     "text": [
      "1.3076923076923077\n"
     ]
    }
   ],
   "source": [
    "calculate(90, 12, 78)"
   ]
  },
  {
   "cell_type": "code",
   "execution_count": 32,
   "id": "f7fabb88",
   "metadata": {},
   "outputs": [
    {
     "name": "stdout",
     "output_type": "stream",
     "text": [
      "1.3076923076923077\n"
     ]
    },
    {
     "ename": "TypeError",
     "evalue": "unsupported operand type(s) for *: 'NoneType' and 'int'",
     "output_type": "error",
     "traceback": [
      "\u001b[0;31m---------------------------------------------------------------------------\u001b[0m",
      "\u001b[0;31mTypeError\u001b[0m                                 Traceback (most recent call last)",
      "Input \u001b[0;32mIn [32]\u001b[0m, in \u001b[0;36m<cell line: 1>\u001b[0;34m()\u001b[0m\n\u001b[0;32m----> 1\u001b[0m \u001b[43mcalculate\u001b[49m\u001b[43m(\u001b[49m\u001b[38;5;241;43m90\u001b[39;49m\u001b[43m,\u001b[49m\u001b[43m \u001b[49m\u001b[38;5;241;43m12\u001b[39;49m\u001b[43m,\u001b[49m\u001b[43m \u001b[49m\u001b[38;5;241;43m78\u001b[39;49m\u001b[43m)\u001b[49m\u001b[43m \u001b[49m\u001b[38;5;241;43m*\u001b[39;49m\u001b[43m \u001b[49m\u001b[38;5;241;43m10\u001b[39;49m\n",
      "\u001b[0;31mTypeError\u001b[0m: unsupported operand type(s) for *: 'NoneType' and 'int'"
     ]
    }
   ],
   "source": [
    "calculate(90, 12, 78) * 10\n",
    "# fonksiyon içerisinde return kullanmadığımız için fonksiyon çıktısını girdi olarak kullanıp yeni bir işleme sokamadık."
   ]
  },
  {
   "cell_type": "code",
   "execution_count": 33,
   "id": "8a94d6f7",
   "metadata": {},
   "outputs": [],
   "source": [
    "def calculate(temperature, moisture, charge):\n",
    "    return (temperature + moisture) / charge"
   ]
  },
  {
   "cell_type": "code",
   "execution_count": 34,
   "id": "c137360e",
   "metadata": {},
   "outputs": [
    {
     "data": {
      "text/plain": [
       "13.076923076923077"
      ]
     },
     "execution_count": 34,
     "metadata": {},
     "output_type": "execute_result"
    }
   ],
   "source": [
    "calculate(90, 12, 78) * 10"
   ]
  },
  {
   "cell_type": "code",
   "execution_count": 35,
   "id": "c0db883c",
   "metadata": {},
   "outputs": [],
   "source": [
    "a = calculate(90, 12, 78)\n",
    "# return kullanarak çıktıyı bir değişkene atayabiliriz."
   ]
  },
  {
   "cell_type": "code",
   "execution_count": 36,
   "id": "b5db40c8",
   "metadata": {},
   "outputs": [
    {
     "name": "stdout",
     "output_type": "stream",
     "text": [
      "1.3076923076923077\n"
     ]
    }
   ],
   "source": [
    "print(a)"
   ]
  },
  {
   "cell_type": "code",
   "execution_count": 37,
   "id": "67760cd0",
   "metadata": {},
   "outputs": [],
   "source": [
    "def calculate(temperature, moisture, charge):\n",
    "    temperature = temperature * 2\n",
    "    moisture = moisture * 2\n",
    "    charge = charge * 2\n",
    "    output = (temperature + moisture) / charge\n",
    "    return temperature, moisture, charge, output"
   ]
  },
  {
   "cell_type": "code",
   "execution_count": 38,
   "id": "bcc17d36",
   "metadata": {},
   "outputs": [
    {
     "data": {
      "text/plain": [
       "tuple"
      ]
     },
     "execution_count": 38,
     "metadata": {},
     "output_type": "execute_result"
    }
   ],
   "source": [
    "type(calculate(98, 12, 78))"
   ]
  },
  {
   "cell_type": "code",
   "execution_count": 39,
   "id": "018498dc",
   "metadata": {},
   "outputs": [],
   "source": [
    "temperaturea, moisturea, chargea, outputa = calculate(98, 12, 78)"
   ]
  },
  {
   "cell_type": "code",
   "execution_count": 40,
   "id": "236dfaf0",
   "metadata": {},
   "outputs": [
    {
     "name": "stdout",
     "output_type": "stream",
     "text": [
      "196\n"
     ]
    }
   ],
   "source": [
    "print(temperaturea)"
   ]
  },
  {
   "cell_type": "code",
   "execution_count": 41,
   "id": "c9b2bda0",
   "metadata": {},
   "outputs": [
    {
     "name": "stdout",
     "output_type": "stream",
     "text": [
      "24\n"
     ]
    }
   ],
   "source": [
    "print(moisturea)"
   ]
  },
  {
   "cell_type": "markdown",
   "id": "a88313a9",
   "metadata": {},
   "source": [
    "- fonksiyon içerisinden başka bir fonksiyonu çağırmak;"
   ]
  },
  {
   "cell_type": "code",
   "execution_count": 42,
   "id": "212c1b45",
   "metadata": {},
   "outputs": [],
   "source": [
    "def calculate(temperature, moisture, charge):\n",
    "    return int((temperature + moisture) / charge)"
   ]
  },
  {
   "cell_type": "code",
   "execution_count": 43,
   "id": "7dc355ff",
   "metadata": {},
   "outputs": [
    {
     "data": {
      "text/plain": [
       "80"
      ]
     },
     "execution_count": 43,
     "metadata": {},
     "output_type": "execute_result"
    }
   ],
   "source": [
    "calculate(90, 12, 12) * 10"
   ]
  },
  {
   "cell_type": "code",
   "execution_count": 44,
   "id": "53ed28dc",
   "metadata": {},
   "outputs": [],
   "source": [
    "def standardization(a, p):\n",
    "    return a * 10 / 100 * p * p"
   ]
  },
  {
   "cell_type": "code",
   "execution_count": 45,
   "id": "068b1b11",
   "metadata": {},
   "outputs": [
    {
     "data": {
      "text/plain": [
       "4.5"
      ]
     },
     "execution_count": 45,
     "metadata": {},
     "output_type": "execute_result"
    }
   ],
   "source": [
    "standardization(45, 1)"
   ]
  },
  {
   "cell_type": "code",
   "execution_count": 46,
   "id": "3a512edd",
   "metadata": {},
   "outputs": [],
   "source": [
    "def all_calculation(temperature, moisture, charge, p):\n",
    "    a = calculate(temperature, moisture, charge)\n",
    "    b = standardization(a, p)\n",
    "    print(b * 10)"
   ]
  },
  {
   "cell_type": "code",
   "execution_count": 47,
   "id": "35eb24e6",
   "metadata": {},
   "outputs": [
    {
     "name": "stdout",
     "output_type": "stream",
     "text": [
      "0.0\n"
     ]
    }
   ],
   "source": [
    "all_calculation(1, 3, 5, 12)"
   ]
  }
 ],
 "metadata": {
  "kernelspec": {
   "display_name": "Python 3 (ipykernel)",
   "language": "python",
   "name": "python3"
  },
  "language_info": {
   "codemirror_mode": {
    "name": "ipython",
    "version": 3
   },
   "file_extension": ".py",
   "mimetype": "text/x-python",
   "name": "python",
   "nbconvert_exporter": "python",
   "pygments_lexer": "ipython3",
   "version": "3.9.12"
  }
 },
 "nbformat": 4,
 "nbformat_minor": 5
}
