{
 "cells": [
  {
   "cell_type": "markdown",
   "id": "3ba803d2",
   "metadata": {},
   "source": [
    "# Data Structures (Veri Yapıları)\n",
    "---\n",
    "- Bizlerin (kullanıcıların) bilgisayalara anlatmak istediklerimizi temsil eden programlamanın en küçük yapı taşlarıdır.\n",
    "---\n",
    "## Integer (int)\n",
    "- Tam sayıları ifade eder."
   ]
  },
  {
   "cell_type": "code",
   "execution_count": 26,
   "id": "6d17462b",
   "metadata": {},
   "outputs": [],
   "source": [
    "x = 35"
   ]
  },
  {
   "cell_type": "code",
   "execution_count": 27,
   "id": "c22a0835",
   "metadata": {},
   "outputs": [
    {
     "name": "stdout",
     "output_type": "stream",
     "text": [
      "35\n"
     ]
    }
   ],
   "source": [
    "print(x)"
   ]
  },
  {
   "cell_type": "code",
   "execution_count": 28,
   "id": "a4d40a81",
   "metadata": {},
   "outputs": [
    {
     "data": {
      "text/plain": [
       "int"
      ]
     },
     "execution_count": 28,
     "metadata": {},
     "output_type": "execute_result"
    }
   ],
   "source": [
    "type(x)"
   ]
  },
  {
   "cell_type": "markdown",
   "id": "b44471f5",
   "metadata": {},
   "source": [
    "## Float\n",
    "- Ondalıklı sayıları ifade eder."
   ]
  },
  {
   "cell_type": "code",
   "execution_count": 8,
   "id": "b340dff1",
   "metadata": {},
   "outputs": [],
   "source": [
    "y = 3.5"
   ]
  },
  {
   "cell_type": "code",
   "execution_count": 24,
   "id": "65f7b5be",
   "metadata": {},
   "outputs": [
    {
     "name": "stdout",
     "output_type": "stream",
     "text": [
      "3.5\n"
     ]
    }
   ],
   "source": [
    "print(y)"
   ]
  },
  {
   "cell_type": "code",
   "execution_count": 10,
   "id": "1926ffe9",
   "metadata": {},
   "outputs": [
    {
     "data": {
      "text/plain": [
       "float"
      ]
     },
     "execution_count": 10,
     "metadata": {},
     "output_type": "execute_result"
    }
   ],
   "source": [
    "type(y)"
   ]
  },
  {
   "cell_type": "markdown",
   "id": "bf020d40",
   "metadata": {},
   "source": [
    "## Complex\n",
    "- Karmaşık sayıları ifade eder."
   ]
  },
  {
   "cell_type": "code",
   "execution_count": 13,
   "id": "a0a4cf17",
   "metadata": {},
   "outputs": [],
   "source": [
    "z = 2j + 1"
   ]
  },
  {
   "cell_type": "code",
   "execution_count": 23,
   "id": "fa83634b",
   "metadata": {},
   "outputs": [
    {
     "name": "stdout",
     "output_type": "stream",
     "text": [
      "(1+2j)\n"
     ]
    }
   ],
   "source": [
    "print(z)"
   ]
  },
  {
   "cell_type": "code",
   "execution_count": 15,
   "id": "d317813c",
   "metadata": {},
   "outputs": [
    {
     "data": {
      "text/plain": [
       "complex"
      ]
     },
     "execution_count": 15,
     "metadata": {},
     "output_type": "execute_result"
    }
   ],
   "source": [
    "type(z)"
   ]
  },
  {
   "cell_type": "markdown",
   "id": "c1c6b73c",
   "metadata": {},
   "source": [
    "## String (str)\n",
    "- Karakter dizilerini ifade eder. Metinsel ifadelerdir."
   ]
  },
  {
   "cell_type": "code",
   "execution_count": 16,
   "id": "2200875d",
   "metadata": {},
   "outputs": [],
   "source": [
    "a = \"Hello AI Era!\""
   ]
  },
  {
   "cell_type": "code",
   "execution_count": 22,
   "id": "f015d3e1",
   "metadata": {},
   "outputs": [
    {
     "name": "stdout",
     "output_type": "stream",
     "text": [
      "Hello AI Era!\n"
     ]
    }
   ],
   "source": [
    "print(a)"
   ]
  },
  {
   "cell_type": "code",
   "execution_count": 18,
   "id": "0d3400c7",
   "metadata": {},
   "outputs": [
    {
     "data": {
      "text/plain": [
       "str"
      ]
     },
     "execution_count": 18,
     "metadata": {},
     "output_type": "execute_result"
    }
   ],
   "source": [
    "type(a)"
   ]
  },
  {
   "cell_type": "markdown",
   "id": "6727b534",
   "metadata": {},
   "source": [
    "- Çok satırlı karakter dizileri üç çift tırnak arasına yazılır."
   ]
  },
  {
   "cell_type": "code",
   "execution_count": 19,
   "id": "07d73668",
   "metadata": {},
   "outputs": [],
   "source": [
    "long_str = \"\"\"Data Structures Recap\n",
    "int: tam sayilari ifade eder.\n",
    "float: ondalikli sayilari ifade eder.\n",
    "complex: karmasik sayilari ifade eder.\n",
    "str: karakter dizilerini ifade eder.\n",
    "bool: true & false mantiksal ifadeler.\n",
    "\"\"\""
   ]
  },
  {
   "cell_type": "code",
   "execution_count": 21,
   "id": "0a09f3cf",
   "metadata": {},
   "outputs": [
    {
     "name": "stdout",
     "output_type": "stream",
     "text": [
      "Data Structures Recap\n",
      "int: tam sayilari ifade eder.\n",
      "float: ondalikli sayilari ifade eder.\n",
      "complex: karmasik sayilari ifade eder.\n",
      "str: karakter dizilerini ifade eder.\n",
      "bool: true & false mantiksal ifadeler.\n",
      "\n"
     ]
    }
   ],
   "source": [
    "print(long_str)"
   ]
  },
  {
   "cell_type": "markdown",
   "id": "b023e06c",
   "metadata": {},
   "source": [
    "- **string[i]** yapısıyla istediğimiz index'de ki elemana erişebiliriz.\n",
    "- _i = index bilgisi_\n",
    "- Python'da index 0'dan başlar."
   ]
  },
  {
   "cell_type": "code",
   "execution_count": 29,
   "id": "e85cf31e",
   "metadata": {},
   "outputs": [
    {
     "name": "stdout",
     "output_type": "stream",
     "text": [
      "Hello AI Era!\n"
     ]
    }
   ],
   "source": [
    "print(a)"
   ]
  },
  {
   "cell_type": "code",
   "execution_count": 31,
   "id": "24667e82",
   "metadata": {},
   "outputs": [
    {
     "data": {
      "text/plain": [
       "'A'"
      ]
     },
     "execution_count": 31,
     "metadata": {},
     "output_type": "execute_result"
    }
   ],
   "source": [
    "a[6] # 6. index'e denk gelen A harfini yazdırdık."
   ]
  },
  {
   "cell_type": "code",
   "execution_count": 32,
   "id": "c3195e7b",
   "metadata": {},
   "outputs": [
    {
     "data": {
      "text/plain": [
       "'H'"
      ]
     },
     "execution_count": 32,
     "metadata": {},
     "output_type": "execute_result"
    }
   ],
   "source": [
    "a[0]"
   ]
  },
  {
   "cell_type": "markdown",
   "id": "65c002f6",
   "metadata": {},
   "source": [
    "- Karakter dizilerinde **slice** (dilim) işlemi\n",
    "- **string[i:i2] yapısı ile **slice** işlemi gerçekleştirilir.\n",
    "    - **i**. indexten **i2**. index'**_e kadar._**"
   ]
  },
  {
   "cell_type": "code",
   "execution_count": 33,
   "id": "b916af57",
   "metadata": {},
   "outputs": [
    {
     "name": "stdout",
     "output_type": "stream",
     "text": [
      "Hello AI Era!\n"
     ]
    }
   ],
   "source": [
    "print(a)"
   ]
  },
  {
   "cell_type": "code",
   "execution_count": 34,
   "id": "a463b026",
   "metadata": {},
   "outputs": [
    {
     "data": {
      "text/plain": [
       "'lo AI'"
      ]
     },
     "execution_count": 34,
     "metadata": {},
     "output_type": "execute_result"
    }
   ],
   "source": [
    "a[3:8] # 3. indexten 8. index'e kadar. 8 dahil değil!"
   ]
  },
  {
   "cell_type": "code",
   "execution_count": 35,
   "id": "29a5c8e2",
   "metadata": {},
   "outputs": [
    {
     "data": {
      "text/plain": [
       "'Hello AI '"
      ]
     },
     "execution_count": 35,
     "metadata": {},
     "output_type": "execute_result"
    }
   ],
   "source": [
    "a[0:9]"
   ]
  },
  {
   "cell_type": "markdown",
   "id": "8d96e5b3",
   "metadata": {},
   "source": [
    "- Karakter dizileri içerisinde karakter sorgulama\n",
    "- Bir karakter dizisi içerisinde belirttiğimiz karakterin varlığını sorgulamak için kullanılır.\n",
    "- **_in_** operatörü ile gerçekleştirilir.\n",
    "- Python case-sensitive, yani büyük ve küçük harfe duyarlıdır."
   ]
  },
  {
   "cell_type": "code",
   "execution_count": 36,
   "id": "321aee4b",
   "metadata": {},
   "outputs": [
    {
     "name": "stdout",
     "output_type": "stream",
     "text": [
      "Hello AI Era!\n"
     ]
    }
   ],
   "source": [
    "print(a)"
   ]
  },
  {
   "cell_type": "code",
   "execution_count": 37,
   "id": "51542b3c",
   "metadata": {},
   "outputs": [
    {
     "data": {
      "text/plain": [
       "True"
      ]
     },
     "execution_count": 37,
     "metadata": {},
     "output_type": "execute_result"
    }
   ],
   "source": [
    "\"AI\" in a"
   ]
  },
  {
   "cell_type": "code",
   "execution_count": 38,
   "id": "b5388722",
   "metadata": {},
   "outputs": [
    {
     "data": {
      "text/plain": [
       "False"
      ]
     },
     "execution_count": 38,
     "metadata": {},
     "output_type": "execute_result"
    }
   ],
   "source": [
    "\"hello\" in a"
   ]
  },
  {
   "cell_type": "markdown",
   "id": "bfdc0ec2",
   "metadata": {},
   "source": [
    "### String Metodları\n",
    "---\n",
    "- **_dir(str)_** ile hangi metodları barındırdığını sorgulayabiliriz.\n",
    "---\n",
    "#### len()\n",
    "- string ifadenin kaç karakterden oluştuğunun bilgisini verir."
   ]
  },
  {
   "cell_type": "code",
   "execution_count": 39,
   "id": "cc7922ae",
   "metadata": {},
   "outputs": [
    {
     "name": "stdout",
     "output_type": "stream",
     "text": [
      "Hello AI Era!\n"
     ]
    }
   ],
   "source": [
    "print(a)"
   ]
  },
  {
   "cell_type": "code",
   "execution_count": 40,
   "id": "d7320f6c",
   "metadata": {},
   "outputs": [
    {
     "data": {
      "text/plain": [
       "13"
      ]
     },
     "execution_count": 40,
     "metadata": {},
     "output_type": "execute_result"
    }
   ],
   "source": [
    "len(a)"
   ]
  },
  {
   "cell_type": "markdown",
   "id": "9e4d1132",
   "metadata": {},
   "source": [
    "#### upper() & lower()\n",
    "- String içerisinde ki tün karakterlerinin büyük ve küçük karakter dönüşümlerini sağlar."
   ]
  },
  {
   "cell_type": "code",
   "execution_count": 41,
   "id": "138dfbe7",
   "metadata": {},
   "outputs": [
    {
     "name": "stdout",
     "output_type": "stream",
     "text": [
      "Hello AI Era!\n"
     ]
    }
   ],
   "source": [
    "print(a)"
   ]
  },
  {
   "cell_type": "code",
   "execution_count": 42,
   "id": "c6a0fb73",
   "metadata": {},
   "outputs": [
    {
     "data": {
      "text/plain": [
       "'HELLO AI ERA!'"
      ]
     },
     "execution_count": 42,
     "metadata": {},
     "output_type": "execute_result"
    }
   ],
   "source": [
    "a.upper()"
   ]
  },
  {
   "cell_type": "code",
   "execution_count": 43,
   "id": "502a9147",
   "metadata": {},
   "outputs": [
    {
     "data": {
      "text/plain": [
       "'hello ai era!'"
      ]
     },
     "execution_count": 43,
     "metadata": {},
     "output_type": "execute_result"
    }
   ],
   "source": [
    "a.lower()"
   ]
  },
  {
   "cell_type": "markdown",
   "id": "8d376d55",
   "metadata": {},
   "source": [
    "#### replace\n",
    "- string içersindeki belirtilen karakterlerin değişimini sağlar."
   ]
  },
  {
   "cell_type": "code",
   "execution_count": 44,
   "id": "85eb2129",
   "metadata": {},
   "outputs": [
    {
     "name": "stdout",
     "output_type": "stream",
     "text": [
      "Hello AI Era!\n"
     ]
    }
   ],
   "source": [
    "print(a)"
   ]
  },
  {
   "cell_type": "code",
   "execution_count": 46,
   "id": "6cbedef8",
   "metadata": {},
   "outputs": [
    {
     "data": {
      "text/plain": [
       "'bello AI Era!'"
      ]
     },
     "execution_count": 46,
     "metadata": {},
     "output_type": "execute_result"
    }
   ],
   "source": [
    "a.replace(\"H\", \"b\") # değişim kalıcı olmuyor. kalıcı olması için tekrardan atama işlemi yapmalıyız."
   ]
  },
  {
   "cell_type": "markdown",
   "id": "345e717f",
   "metadata": {},
   "source": [
    "#### split()\n",
    "- Belirlenen bir karaktere veya boşluğa göre bölme işlemi gerçekleştirir."
   ]
  },
  {
   "cell_type": "code",
   "execution_count": 47,
   "id": "705bdfff",
   "metadata": {},
   "outputs": [
    {
     "name": "stdout",
     "output_type": "stream",
     "text": [
      "Hello AI Era!\n"
     ]
    }
   ],
   "source": [
    "print(a)"
   ]
  },
  {
   "cell_type": "code",
   "execution_count": 48,
   "id": "e5c1e685",
   "metadata": {},
   "outputs": [
    {
     "data": {
      "text/plain": [
       "['Hello', 'AI', 'Era!']"
      ]
     },
     "execution_count": 48,
     "metadata": {},
     "output_type": "execute_result"
    }
   ],
   "source": [
    "a.split()"
   ]
  },
  {
   "cell_type": "markdown",
   "id": "0e625846",
   "metadata": {},
   "source": [
    "#### strip()\n",
    "- Baştan ve sondan belirlenen bir karaktere vey boşluk olarak kırpma işlemi gerçekleştirir."
   ]
  },
  {
   "cell_type": "code",
   "execution_count": 52,
   "id": "3a68042b",
   "metadata": {},
   "outputs": [
    {
     "data": {
      "text/plain": [
       "' ofofo '"
      ]
     },
     "execution_count": 52,
     "metadata": {},
     "output_type": "execute_result"
    }
   ],
   "source": [
    "\" ofofo \" "
   ]
  },
  {
   "cell_type": "code",
   "execution_count": 55,
   "id": "b5772f5f",
   "metadata": {},
   "outputs": [
    {
     "data": {
      "text/plain": [
       "'ofofo'"
      ]
     },
     "execution_count": 55,
     "metadata": {},
     "output_type": "execute_result"
    }
   ],
   "source": [
    "\" ofofo \".strip() # ön tanımlı olarak boşluklara göre kırpma işlemi gerçekleştiriyor."
   ]
  },
  {
   "cell_type": "code",
   "execution_count": 54,
   "id": "e08af02c",
   "metadata": {},
   "outputs": [
    {
     "data": {
      "text/plain": [
       "'fof'"
      ]
     },
     "execution_count": 54,
     "metadata": {},
     "output_type": "execute_result"
    }
   ],
   "source": [
    "\"ofofo\".strip(\"o\")"
   ]
  },
  {
   "cell_type": "markdown",
   "id": "e9174635",
   "metadata": {},
   "source": [
    "#### capitalize()\n",
    "- String ifadenin ilk harfini büyültür."
   ]
  },
  {
   "cell_type": "code",
   "execution_count": 56,
   "id": "763d1feb",
   "metadata": {},
   "outputs": [],
   "source": [
    "hi = \"hello ai era\""
   ]
  },
  {
   "cell_type": "code",
   "execution_count": 57,
   "id": "09fc76a2",
   "metadata": {},
   "outputs": [
    {
     "name": "stdout",
     "output_type": "stream",
     "text": [
      "hello ai era\n"
     ]
    }
   ],
   "source": [
    "print(hi)"
   ]
  },
  {
   "cell_type": "code",
   "execution_count": 58,
   "id": "14b672e3",
   "metadata": {},
   "outputs": [
    {
     "data": {
      "text/plain": [
       "'Hello ai era'"
      ]
     },
     "execution_count": 58,
     "metadata": {},
     "output_type": "execute_result"
    }
   ],
   "source": [
    "hi.capitalize()"
   ]
  },
  {
   "cell_type": "markdown",
   "id": "b86925bb",
   "metadata": {},
   "source": [
    "## Boolean (bool)\n",
    "- True veya False değerlerini döndüren **_mantıksal_** ifadelerdir."
   ]
  },
  {
   "cell_type": "code",
   "execution_count": 61,
   "id": "2e1f86e6",
   "metadata": {},
   "outputs": [],
   "source": [
    "b = 3"
   ]
  },
  {
   "cell_type": "code",
   "execution_count": 60,
   "id": "1645cd1d",
   "metadata": {},
   "outputs": [
    {
     "data": {
      "text/plain": [
       "True"
      ]
     },
     "execution_count": 60,
     "metadata": {},
     "output_type": "execute_result"
    }
   ],
   "source": [
    "b == 3 # == sorgu operatörüdür. 3 eşit midir 3'e?"
   ]
  },
  {
   "cell_type": "code",
   "execution_count": 63,
   "id": "d404858d",
   "metadata": {},
   "outputs": [
    {
     "data": {
      "text/plain": [
       "bool"
      ]
     },
     "execution_count": 63,
     "metadata": {},
     "output_type": "execute_result"
    }
   ],
   "source": [
    "type(True)"
   ]
  },
  {
   "cell_type": "code",
   "execution_count": 64,
   "id": "5a213cc0",
   "metadata": {},
   "outputs": [
    {
     "data": {
      "text/plain": [
       "False"
      ]
     },
     "execution_count": 64,
     "metadata": {},
     "output_type": "execute_result"
    }
   ],
   "source": [
    "3 == 5"
   ]
  },
  {
   "cell_type": "code",
   "execution_count": 65,
   "id": "dc2d5b13",
   "metadata": {},
   "outputs": [
    {
     "data": {
      "text/plain": [
       "bool"
      ]
     },
     "execution_count": 65,
     "metadata": {},
     "output_type": "execute_result"
    }
   ],
   "source": [
    "type(3 == 5)"
   ]
  },
  {
   "cell_type": "markdown",
   "id": "77040dd6",
   "metadata": {},
   "source": [
    "## List\n",
    "---\n",
    "- Sıralıdır. (index işlemleri yapılabilir.)\n",
    "- Değiştirilebilir.\n",
    "- Kapsayıcıdır. (içerisinde birden çok veri yapısı bulundurabilir.)"
   ]
  },
  {
   "cell_type": "code",
   "execution_count": 66,
   "id": "fe745252",
   "metadata": {},
   "outputs": [],
   "source": [
    "a = [1, 2, 3, \"a\", \"b\", 3.5, True, 2j+1]"
   ]
  },
  {
   "cell_type": "code",
   "execution_count": 67,
   "id": "779daa6d",
   "metadata": {},
   "outputs": [
    {
     "name": "stdout",
     "output_type": "stream",
     "text": [
      "[1, 2, 3, 'a', 'b', 3.5, True, (1+2j)]\n"
     ]
    }
   ],
   "source": [
    "print(a)"
   ]
  },
  {
   "cell_type": "code",
   "execution_count": 68,
   "id": "f34a1e7e",
   "metadata": {},
   "outputs": [
    {
     "data": {
      "text/plain": [
       "list"
      ]
     },
     "execution_count": 68,
     "metadata": {},
     "output_type": "execute_result"
    }
   ],
   "source": [
    "type(a)"
   ]
  },
  {
   "cell_type": "markdown",
   "id": "4c141cc4",
   "metadata": {},
   "source": [
    "### List Metodları\n",
    "---\n",
    "#### len()\n",
    "- Listenin kaç elemandan oluştuğu bilgisini verir."
   ]
  },
  {
   "cell_type": "code",
   "execution_count": 69,
   "id": "c77fc64d",
   "metadata": {},
   "outputs": [
    {
     "name": "stdout",
     "output_type": "stream",
     "text": [
      "[1, 2, 3, 'a', 'b', 3.5, True, (1+2j)]\n"
     ]
    }
   ],
   "source": [
    "print(a)"
   ]
  },
  {
   "cell_type": "code",
   "execution_count": 70,
   "id": "41a17dd3",
   "metadata": {},
   "outputs": [
    {
     "data": {
      "text/plain": [
       "8"
      ]
     },
     "execution_count": 70,
     "metadata": {},
     "output_type": "execute_result"
    }
   ],
   "source": [
    "len(a)"
   ]
  },
  {
   "cell_type": "markdown",
   "id": "ce52d605",
   "metadata": {},
   "source": [
    "#### append()\n",
    "- Listenin sonuna eleman ekler."
   ]
  },
  {
   "cell_type": "code",
   "execution_count": 71,
   "id": "bae62aa9",
   "metadata": {},
   "outputs": [
    {
     "name": "stdout",
     "output_type": "stream",
     "text": [
      "[1, 2, 3, 'a', 'b', 3.5, True, (1+2j)]\n"
     ]
    }
   ],
   "source": [
    "print(a)"
   ]
  },
  {
   "cell_type": "code",
   "execution_count": 72,
   "id": "396c63e9",
   "metadata": {},
   "outputs": [],
   "source": [
    "a.append(\"hello\")"
   ]
  },
  {
   "cell_type": "code",
   "execution_count": 73,
   "id": "5fa17c22",
   "metadata": {},
   "outputs": [
    {
     "name": "stdout",
     "output_type": "stream",
     "text": [
      "[1, 2, 3, 'a', 'b', 3.5, True, (1+2j), 'hello']\n"
     ]
    }
   ],
   "source": [
    "print(a)"
   ]
  },
  {
   "cell_type": "markdown",
   "id": "61c621b6",
   "metadata": {},
   "source": [
    "#### pop()\n",
    "- Verilen _index_ bilgisine göre listeden eleman siler ve silinen elemanı ekrana yazdırır."
   ]
  },
  {
   "cell_type": "code",
   "execution_count": 75,
   "id": "3c94dfa0",
   "metadata": {},
   "outputs": [
    {
     "name": "stdout",
     "output_type": "stream",
     "text": [
      "[1, 2, 3, 'a', 'b', 3.5, True, (1+2j), 'hello']\n"
     ]
    }
   ],
   "source": [
    "print(a)"
   ]
  },
  {
   "cell_type": "code",
   "execution_count": 76,
   "id": "0c708f3b",
   "metadata": {},
   "outputs": [
    {
     "data": {
      "text/plain": [
       "'hello'"
      ]
     },
     "execution_count": 76,
     "metadata": {},
     "output_type": "execute_result"
    }
   ],
   "source": [
    "a.pop(8)"
   ]
  },
  {
   "cell_type": "code",
   "execution_count": 77,
   "id": "5ebbdb63",
   "metadata": {},
   "outputs": [
    {
     "name": "stdout",
     "output_type": "stream",
     "text": [
      "[1, 2, 3, 'a', 'b', 3.5, True, (1+2j)]\n"
     ]
    }
   ],
   "source": [
    "print(a)"
   ]
  },
  {
   "cell_type": "markdown",
   "id": "56858a78",
   "metadata": {},
   "source": [
    "#### insert()\n",
    "- verilen _index_ bilgisine göre eleman ekler."
   ]
  },
  {
   "cell_type": "code",
   "execution_count": 78,
   "id": "7f741cbf",
   "metadata": {},
   "outputs": [
    {
     "name": "stdout",
     "output_type": "stream",
     "text": [
      "[1, 2, 3, 'a', 'b', 3.5, True, (1+2j)]\n"
     ]
    }
   ],
   "source": [
    "print(a)"
   ]
  },
  {
   "cell_type": "code",
   "execution_count": 79,
   "id": "71031165",
   "metadata": {},
   "outputs": [],
   "source": [
    "a.insert(3, \"hello\")"
   ]
  },
  {
   "cell_type": "code",
   "execution_count": 80,
   "id": "a7a7c055",
   "metadata": {},
   "outputs": [
    {
     "name": "stdout",
     "output_type": "stream",
     "text": [
      "[1, 2, 3, 'hello', 'a', 'b', 3.5, True, (1+2j)]\n"
     ]
    }
   ],
   "source": [
    "print(a)"
   ]
  },
  {
   "cell_type": "markdown",
   "id": "6ed26195",
   "metadata": {},
   "source": [
    "## Dictionary\n",
    "---\n",
    "- **Dictionary** yapısı **_key_** ve **_value_** argümanlarından oluşur.\n",
    "    - _dictionary = {key: value}_\n",
    "- Değiştirilebilir.\n",
    "- Kapsayıcıdır. (içerisinde birden çok veri yapısı bulundurabilir.\n",
    "- Sırasızdır. (Python 3.7 versiyonu ile _orderedDict_ eklenmiştir."
   ]
  },
  {
   "cell_type": "code",
   "execution_count": 81,
   "id": "70d95dbb",
   "metadata": {},
   "outputs": [],
   "source": [
    "d = {\"Name\": \"Joshua\", \"Age\": 32}"
   ]
  },
  {
   "cell_type": "code",
   "execution_count": 82,
   "id": "d415f6b5",
   "metadata": {},
   "outputs": [
    {
     "name": "stdout",
     "output_type": "stream",
     "text": [
      "{'Name': 'Joshua', 'Age': 32}\n"
     ]
    }
   ],
   "source": [
    "print(d)"
   ]
  },
  {
   "cell_type": "code",
   "execution_count": 83,
   "id": "0f1e172a",
   "metadata": {},
   "outputs": [
    {
     "data": {
      "text/plain": [
       "dict"
      ]
     },
     "execution_count": 83,
     "metadata": {},
     "output_type": "execute_result"
    }
   ],
   "source": [
    "type(d)"
   ]
  },
  {
   "cell_type": "markdown",
   "id": "f4269aba",
   "metadata": {},
   "source": [
    "- dictionary'de **_key_**'e göre **_value_** sorgulama;"
   ]
  },
  {
   "cell_type": "code",
   "execution_count": 84,
   "id": "47d4a51c",
   "metadata": {},
   "outputs": [],
   "source": [
    "dictionary = {\"REG\": \"Regression\",\n",
    "              \"LOG\": \"Logistic Regression\",\n",
    "              \"CART\": \"Classification and Reg\"}"
   ]
  },
  {
   "cell_type": "code",
   "execution_count": 85,
   "id": "afc065c8",
   "metadata": {},
   "outputs": [
    {
     "data": {
      "text/plain": [
       "'Regression'"
      ]
     },
     "execution_count": 85,
     "metadata": {},
     "output_type": "execute_result"
    }
   ],
   "source": [
    "dictionary[\"REG\"]"
   ]
  },
  {
   "cell_type": "code",
   "execution_count": 88,
   "id": "10800b54",
   "metadata": {
    "scrolled": true
   },
   "outputs": [
    {
     "data": {
      "text/plain": [
       "'Regression'"
      ]
     },
     "execution_count": 88,
     "metadata": {},
     "output_type": "execute_result"
    }
   ],
   "source": [
    "dictionary.get(\"REG\")"
   ]
  },
  {
   "cell_type": "code",
   "execution_count": 87,
   "id": "454aeb55",
   "metadata": {},
   "outputs": [
    {
     "data": {
      "text/plain": [
       "False"
      ]
     },
     "execution_count": 87,
     "metadata": {},
     "output_type": "execute_result"
    }
   ],
   "source": [
    "\"YSA\" in dictionary"
   ]
  },
  {
   "cell_type": "markdown",
   "id": "bb90a5fa",
   "metadata": {},
   "source": [
    "- value değerini değiştirmek;"
   ]
  },
  {
   "cell_type": "code",
   "execution_count": 89,
   "id": "b86cb1e3",
   "metadata": {},
   "outputs": [
    {
     "name": "stdout",
     "output_type": "stream",
     "text": [
      "{'REG': 'Regression', 'LOG': 'Logistic Regression', 'CART': 'Classification and Reg'}\n"
     ]
    }
   ],
   "source": [
    "print(dictionary)"
   ]
  },
  {
   "cell_type": "code",
   "execution_count": 90,
   "id": "8762a518",
   "metadata": {},
   "outputs": [],
   "source": [
    "dictionary[\"REG\"] = [\"YSA\", 10]"
   ]
  },
  {
   "cell_type": "code",
   "execution_count": 91,
   "id": "745a200b",
   "metadata": {},
   "outputs": [
    {
     "name": "stdout",
     "output_type": "stream",
     "text": [
      "{'REG': ['YSA', 10], 'LOG': 'Logistic Regression', 'CART': 'Classification and Reg'}\n"
     ]
    }
   ],
   "source": [
    "print(dictionary)"
   ]
  },
  {
   "cell_type": "markdown",
   "id": "d10e67a5",
   "metadata": {},
   "source": [
    "- tüm **_key_** değerlerine erişmek;"
   ]
  },
  {
   "cell_type": "code",
   "execution_count": 92,
   "id": "10fbe3b5",
   "metadata": {},
   "outputs": [
    {
     "data": {
      "text/plain": [
       "dict_keys(['REG', 'LOG', 'CART'])"
      ]
     },
     "execution_count": 92,
     "metadata": {},
     "output_type": "execute_result"
    }
   ],
   "source": [
    "dictionary.keys()"
   ]
  },
  {
   "cell_type": "markdown",
   "id": "f720c2c9",
   "metadata": {},
   "source": [
    "- tüm **_value_** değerlerine erişmek;"
   ]
  },
  {
   "cell_type": "code",
   "execution_count": 93,
   "id": "9b64c642",
   "metadata": {},
   "outputs": [
    {
     "data": {
      "text/plain": [
       "dict_values([['YSA', 10], 'Logistic Regression', 'Classification and Reg'])"
      ]
     },
     "execution_count": 93,
     "metadata": {},
     "output_type": "execute_result"
    }
   ],
   "source": [
    "dictionary.values()"
   ]
  },
  {
   "cell_type": "markdown",
   "id": "91703b56",
   "metadata": {},
   "source": [
    "- tüm **_key, value_** çiftlerini **_tuple_** halinde listeye çevirmek;"
   ]
  },
  {
   "cell_type": "code",
   "execution_count": 94,
   "id": "97b2d3a5",
   "metadata": {},
   "outputs": [
    {
     "data": {
      "text/plain": [
       "dict_items([('REG', ['YSA', 10]), ('LOG', 'Logistic Regression'), ('CART', 'Classification and Reg')])"
      ]
     },
     "execution_count": 94,
     "metadata": {},
     "output_type": "execute_result"
    }
   ],
   "source": [
    "dictionary.items()"
   ]
  },
  {
   "cell_type": "markdown",
   "id": "9fffd043",
   "metadata": {},
   "source": [
    "- **_key - value_** değerlerini güncellemek;"
   ]
  },
  {
   "cell_type": "code",
   "execution_count": 95,
   "id": "081f93df",
   "metadata": {},
   "outputs": [
    {
     "data": {
      "text/plain": [
       "{'REG': ['YSA', 10],\n",
       " 'LOG': 'Logistic Regression',\n",
       " 'CART': 'Classification and Reg'}"
      ]
     },
     "execution_count": 95,
     "metadata": {},
     "output_type": "execute_result"
    }
   ],
   "source": [
    "dictionary"
   ]
  },
  {
   "cell_type": "code",
   "execution_count": 96,
   "id": "93f9b37a",
   "metadata": {},
   "outputs": [],
   "source": [
    "dictionary.update({\"REG\": 11})"
   ]
  },
  {
   "cell_type": "code",
   "execution_count": 97,
   "id": "6ffc7b99",
   "metadata": {},
   "outputs": [
    {
     "data": {
      "text/plain": [
       "{'REG': 11, 'LOG': 'Logistic Regression', 'CART': 'Classification and Reg'}"
      ]
     },
     "execution_count": 97,
     "metadata": {},
     "output_type": "execute_result"
    }
   ],
   "source": [
    "dictionary"
   ]
  },
  {
   "cell_type": "markdown",
   "id": "61d0403a",
   "metadata": {},
   "source": [
    "- yeni **_key - value_** değerleri eklemek;"
   ]
  },
  {
   "cell_type": "code",
   "execution_count": 98,
   "id": "647bc8f9",
   "metadata": {},
   "outputs": [
    {
     "name": "stdout",
     "output_type": "stream",
     "text": [
      "{'REG': 11, 'LOG': 'Logistic Regression', 'CART': 'Classification and Reg'}\n"
     ]
    }
   ],
   "source": [
    "print(dictionary)"
   ]
  },
  {
   "cell_type": "code",
   "execution_count": 99,
   "id": "f4557189",
   "metadata": {},
   "outputs": [],
   "source": [
    "dictionary.update({\"RF\": 10}) # eğer dictionary yapısı içerisinde belirttiğimiz ifade yok ise yeni oluşturur."
   ]
  },
  {
   "cell_type": "code",
   "execution_count": 100,
   "id": "5af5698b",
   "metadata": {},
   "outputs": [
    {
     "name": "stdout",
     "output_type": "stream",
     "text": [
      "{'REG': 11, 'LOG': 'Logistic Regression', 'CART': 'Classification and Reg', 'RF': 10}\n"
     ]
    }
   ],
   "source": [
    "print(dictionary)"
   ]
  },
  {
   "cell_type": "markdown",
   "id": "859601db",
   "metadata": {},
   "source": [
    "## Tuple\n",
    "---\n",
    "- Değiştirilemez.\n",
    "- Sıralıdır. (index işlemleri yapılabilir.)\n",
    "- Kapsayıcıdır. (içerisinde birden çok veri yapısı bulundurabilir.)"
   ]
  },
  {
   "cell_type": "code",
   "execution_count": 101,
   "id": "ae2cdf6e",
   "metadata": {},
   "outputs": [],
   "source": [
    "t = (1, 2, 3, \"AI Era\") # tanımlama."
   ]
  },
  {
   "cell_type": "code",
   "execution_count": 102,
   "id": "52751cb2",
   "metadata": {},
   "outputs": [
    {
     "name": "stdout",
     "output_type": "stream",
     "text": [
      "(1, 2, 3, 'AI Era')\n"
     ]
    }
   ],
   "source": [
    "print(t)"
   ]
  },
  {
   "cell_type": "code",
   "execution_count": 103,
   "id": "ee4f5271",
   "metadata": {},
   "outputs": [
    {
     "data": {
      "text/plain": [
       "tuple"
      ]
     },
     "execution_count": 103,
     "metadata": {},
     "output_type": "execute_result"
    }
   ],
   "source": [
    "type(t)"
   ]
  },
  {
   "cell_type": "markdown",
   "id": "1883ad5a",
   "metadata": {},
   "source": [
    "## set (küme)\n",
    "---\n",
    "- Sırasız ve eşsizdir.\n",
    "- Kapsayıcıdır. (içerisinde birden çok veri yapısı bulundurabilir.)\n",
    "- Değiştirilebilir."
   ]
  },
  {
   "cell_type": "code",
   "execution_count": 104,
   "id": "bc505e6d",
   "metadata": {},
   "outputs": [],
   "source": [
    "s = {\"hello\", \"ai\", \"era\"}"
   ]
  },
  {
   "cell_type": "code",
   "execution_count": 105,
   "id": "b79c4af5",
   "metadata": {},
   "outputs": [
    {
     "name": "stdout",
     "output_type": "stream",
     "text": [
      "{'era', 'hello', 'ai'}\n"
     ]
    }
   ],
   "source": [
    "print(s)"
   ]
  },
  {
   "cell_type": "code",
   "execution_count": 106,
   "id": "65c87391",
   "metadata": {},
   "outputs": [
    {
     "data": {
      "text/plain": [
       "set"
      ]
     },
     "execution_count": 106,
     "metadata": {},
     "output_type": "execute_result"
    }
   ],
   "source": [
    "type(s)"
   ]
  },
  {
   "cell_type": "markdown",
   "id": "6aae1d80",
   "metadata": {},
   "source": [
    "#### difference()\n",
    "- iki kümenin farkı."
   ]
  },
  {
   "cell_type": "code",
   "execution_count": 107,
   "id": "ca27adff",
   "metadata": {},
   "outputs": [],
   "source": [
    "set1 = set([1, 3, 5])\n",
    "set2 = set([1, 2, 3])"
   ]
  },
  {
   "cell_type": "code",
   "execution_count": 108,
   "id": "bfd944fe",
   "metadata": {},
   "outputs": [
    {
     "data": {
      "text/plain": [
       "{5}"
      ]
     },
     "execution_count": 108,
     "metadata": {},
     "output_type": "execute_result"
    }
   ],
   "source": [
    "set1.difference(set2)"
   ]
  },
  {
   "cell_type": "code",
   "execution_count": 109,
   "id": "e9afd64c",
   "metadata": {},
   "outputs": [
    {
     "data": {
      "text/plain": [
       "{2}"
      ]
     },
     "execution_count": 109,
     "metadata": {},
     "output_type": "execute_result"
    }
   ],
   "source": [
    "set2.difference(set1)"
   ]
  },
  {
   "cell_type": "markdown",
   "id": "eb19dbba",
   "metadata": {},
   "source": [
    "#### symmetric_difference()\n",
    "- iki küme içerisinde birbirlerine göre olmayan elemanlar."
   ]
  },
  {
   "cell_type": "code",
   "execution_count": 110,
   "id": "75325e08",
   "metadata": {},
   "outputs": [
    {
     "data": {
      "text/plain": [
       "{2, 5}"
      ]
     },
     "execution_count": 110,
     "metadata": {},
     "output_type": "execute_result"
    }
   ],
   "source": [
    "set1.symmetric_difference(set2)"
   ]
  },
  {
   "cell_type": "code",
   "execution_count": 111,
   "id": "3f520f6c",
   "metadata": {},
   "outputs": [
    {
     "data": {
      "text/plain": [
       "{2, 5}"
      ]
     },
     "execution_count": 111,
     "metadata": {},
     "output_type": "execute_result"
    }
   ],
   "source": [
    "set2.symmetric_difference(set1)"
   ]
  },
  {
   "cell_type": "markdown",
   "id": "f3ddf696",
   "metadata": {},
   "source": [
    "#### intersection()\n",
    "- iki kümenin kesişimi."
   ]
  },
  {
   "cell_type": "code",
   "execution_count": 112,
   "id": "04eb2df7",
   "metadata": {},
   "outputs": [
    {
     "data": {
      "text/plain": [
       "{1, 3}"
      ]
     },
     "execution_count": 112,
     "metadata": {},
     "output_type": "execute_result"
    }
   ],
   "source": [
    "set1.intersection(set2)"
   ]
  },
  {
   "cell_type": "markdown",
   "id": "c7412ed6",
   "metadata": {},
   "source": [
    "#### union()\n",
    "- iki kümenin birleşimi."
   ]
  },
  {
   "cell_type": "code",
   "execution_count": 113,
   "id": "d1419649",
   "metadata": {},
   "outputs": [
    {
     "data": {
      "text/plain": [
       "{1, 2, 3, 5}"
      ]
     },
     "execution_count": 113,
     "metadata": {},
     "output_type": "execute_result"
    }
   ],
   "source": [
    "set1.union(set2)"
   ]
  },
  {
   "cell_type": "markdown",
   "id": "65c6c021",
   "metadata": {},
   "source": [
    "#### isdisjoint()\n",
    "- **_iki kümenin kesişimi boş küme mi?_** sorusunun cevabını verir."
   ]
  },
  {
   "cell_type": "code",
   "execution_count": 114,
   "id": "d5a0d1e0",
   "metadata": {},
   "outputs": [],
   "source": [
    "set1 = set([3, 4, 5])\n",
    "set2 = set([1, 2, 3, 4, 5, 6])"
   ]
  },
  {
   "cell_type": "code",
   "execution_count": 115,
   "id": "6a613747",
   "metadata": {},
   "outputs": [
    {
     "data": {
      "text/plain": [
       "False"
      ]
     },
     "execution_count": 115,
     "metadata": {},
     "output_type": "execute_result"
    }
   ],
   "source": [
    "set1.isdisjoint(set2)"
   ]
  },
  {
   "cell_type": "markdown",
   "id": "24bda589",
   "metadata": {},
   "source": [
    "#### issubset()\n",
    "- **_belirtilen küme diğer kümenin alt kümesi mi?_** sorusunun cevabını verir."
   ]
  },
  {
   "cell_type": "code",
   "execution_count": 116,
   "id": "7563de15",
   "metadata": {},
   "outputs": [
    {
     "data": {
      "text/plain": [
       "True"
      ]
     },
     "execution_count": 116,
     "metadata": {},
     "output_type": "execute_result"
    }
   ],
   "source": [
    "set1.issubset(set2)"
   ]
  },
  {
   "cell_type": "code",
   "execution_count": 117,
   "id": "5283363c",
   "metadata": {},
   "outputs": [
    {
     "data": {
      "text/plain": [
       "False"
      ]
     },
     "execution_count": 117,
     "metadata": {},
     "output_type": "execute_result"
    }
   ],
   "source": [
    "set2.issubset(set1)"
   ]
  },
  {
   "cell_type": "markdown",
   "id": "0a37c86b",
   "metadata": {},
   "source": [
    "#### issuperset()\n",
    "- **_belirtilen küme diğer kümeyi kapsıyor mu?_** sorusunun cevabını verir."
   ]
  },
  {
   "cell_type": "code",
   "execution_count": 118,
   "id": "6e2e6873",
   "metadata": {},
   "outputs": [
    {
     "data": {
      "text/plain": [
       "False"
      ]
     },
     "execution_count": 118,
     "metadata": {},
     "output_type": "execute_result"
    }
   ],
   "source": [
    "set1.issuperset(set2)"
   ]
  },
  {
   "cell_type": "code",
   "execution_count": 119,
   "id": "3ce0df91",
   "metadata": {},
   "outputs": [
    {
     "data": {
      "text/plain": [
       "True"
      ]
     },
     "execution_count": 119,
     "metadata": {},
     "output_type": "execute_result"
    }
   ],
   "source": [
    "set2.issuperset(set1)"
   ]
  }
 ],
 "metadata": {
  "kernelspec": {
   "display_name": "Python 3 (ipykernel)",
   "language": "python",
   "name": "python3"
  },
  "language_info": {
   "codemirror_mode": {
    "name": "ipython",
    "version": 3
   },
   "file_extension": ".py",
   "mimetype": "text/x-python",
   "name": "python",
   "nbconvert_exporter": "python",
   "pygments_lexer": "ipython3",
   "version": "3.9.12"
  }
 },
 "nbformat": 4,
 "nbformat_minor": 5
}
