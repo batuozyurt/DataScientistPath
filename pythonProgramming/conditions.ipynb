{
 "cells": [
  {
   "cell_type": "markdown",
   "id": "b13f4ce2",
   "metadata": {},
   "source": [
    "# Conditions (Koşullar)\n",
    "---\n",
    "- Python, matematikte bulunan mantıksal koşulları destekler.\n",
    "    - Eşit: **a == b**\n",
    "    - Eşit değil: **a != b**\n",
    "    - Küçüktür: **a < b**\n",
    "    - Küçük eşit: **a <= b**\n",
    "    - Büyüktür: **a > b**\n",
    "    - Büyük eşit: **a >= b**\n",
    "---\n",
    "## if \n",
    "---\n",
    "- **_eğer_** yapısı ile çalışır.\n",
    "- **eğer 1 == 1 ise şunu yap.** olarak özetleyebiliriz.\n",
    "- tek başına kullanıldığında istediğimiz koşulu sağlamaz ise herhangi bir çıktı üretmez."
   ]
  },
  {
   "cell_type": "code",
   "execution_count": 1,
   "id": "17d5ab9a",
   "metadata": {},
   "outputs": [
    {
     "name": "stdout",
     "output_type": "stream",
     "text": [
      "someting\n"
     ]
    }
   ],
   "source": [
    "if 1 == 1:\n",
    "    print(\"someting\")"
   ]
  },
  {
   "cell_type": "code",
   "execution_count": 2,
   "id": "94450d98",
   "metadata": {},
   "outputs": [],
   "source": [
    "if 1 == 2:\n",
    "    print(\"something\")"
   ]
  },
  {
   "cell_type": "code",
   "execution_count": 3,
   "id": "46d590bf",
   "metadata": {},
   "outputs": [
    {
     "name": "stdout",
     "output_type": "stream",
     "text": [
      "number is 10\n"
     ]
    }
   ],
   "source": [
    "number = 10\n",
    "\n",
    "if number == 10:\n",
    "    print(\"number is 10\")"
   ]
  },
  {
   "cell_type": "code",
   "execution_count": 4,
   "id": "317388a4",
   "metadata": {},
   "outputs": [],
   "source": [
    "def number_check(number):\n",
    "    if number == 10:\n",
    "        print(\"number is 10\")"
   ]
  },
  {
   "cell_type": "code",
   "execution_count": 5,
   "id": "a766b00d",
   "metadata": {},
   "outputs": [
    {
     "name": "stdout",
     "output_type": "stream",
     "text": [
      "number is 10\n"
     ]
    }
   ],
   "source": [
    "number_check(10)"
   ]
  },
  {
   "cell_type": "code",
   "execution_count": 6,
   "id": "8d1ec387",
   "metadata": {},
   "outputs": [],
   "source": [
    "number_check(11)"
   ]
  },
  {
   "cell_type": "markdown",
   "id": "e6d8f5aa",
   "metadata": {},
   "source": [
    "## else\n",
    "---\n",
    "- **_if_** yapısından sonra kullanılır.\n",
    "- _eğer 1 == 1 ise şunu yap._ **_değil ise şunu yap._** olarak özetleyebiliriz."
   ]
  },
  {
   "cell_type": "code",
   "execution_count": 7,
   "id": "7d15b58c",
   "metadata": {},
   "outputs": [],
   "source": [
    "def number_check(number):\n",
    "    if number == 10:\n",
    "        print(\"number is 10\")\n",
    "    else:\n",
    "        print(\"number is not 10\")"
   ]
  },
  {
   "cell_type": "code",
   "execution_count": 8,
   "id": "239043a0",
   "metadata": {},
   "outputs": [
    {
     "name": "stdout",
     "output_type": "stream",
     "text": [
      "number is not 10\n"
     ]
    }
   ],
   "source": [
    "number_check(11)"
   ]
  },
  {
   "cell_type": "markdown",
   "id": "639c0814",
   "metadata": {},
   "source": [
    "## elif\n",
    "---\n",
    "- birden çok koşulu sorgulamak istiyorsak **_elif_** kullanırız."
   ]
  },
  {
   "cell_type": "code",
   "execution_count": 9,
   "id": "6f234e9c",
   "metadata": {},
   "outputs": [],
   "source": [
    "def number_check(number):\n",
    "    if number > 10:\n",
    "        print(\"greater than 10\")\n",
    "    elif number < 10:\n",
    "        print(\"less than 10\")\n",
    "    else:\n",
    "        print(\"equal to 10\")"
   ]
  },
  {
   "cell_type": "code",
   "execution_count": 10,
   "id": "74be192d",
   "metadata": {},
   "outputs": [
    {
     "name": "stdout",
     "output_type": "stream",
     "text": [
      "less than 10\n"
     ]
    }
   ],
   "source": [
    "number_check(6)"
   ]
  },
  {
   "cell_type": "code",
   "execution_count": 11,
   "id": "021700fa",
   "metadata": {},
   "outputs": [
    {
     "name": "stdout",
     "output_type": "stream",
     "text": [
      "equal to 10\n"
     ]
    }
   ],
   "source": [
    "number_check(10)"
   ]
  },
  {
   "cell_type": "code",
   "execution_count": 12,
   "id": "d2d8336d",
   "metadata": {},
   "outputs": [
    {
     "name": "stdout",
     "output_type": "stream",
     "text": [
      "greater than 10\n"
     ]
    }
   ],
   "source": [
    "number_check(12)"
   ]
  }
 ],
 "metadata": {
  "kernelspec": {
   "display_name": "Python 3 (ipykernel)",
   "language": "python",
   "name": "python3"
  },
  "language_info": {
   "codemirror_mode": {
    "name": "ipython",
    "version": 3
   },
   "file_extension": ".py",
   "mimetype": "text/x-python",
   "name": "python",
   "nbconvert_exporter": "python",
   "pygments_lexer": "ipython3",
   "version": "3.9.12"
  }
 },
 "nbformat": 4,
 "nbformat_minor": 5
}
