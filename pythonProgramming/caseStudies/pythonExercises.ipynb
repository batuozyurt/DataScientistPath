{
 "cells": [
  {
   "cell_type": "markdown",
   "id": "d6c9c998",
   "metadata": {},
   "source": [
    "# Python Alıştırmalar\n",
    "---\n",
    "### GÖREV 1\n",
    "- Veri yapılarının tipleriniz inceleyiniz."
   ]
  },
  {
   "cell_type": "code",
   "execution_count": 1,
   "id": "cb3bef7d",
   "metadata": {},
   "outputs": [],
   "source": [
    "x = 8"
   ]
  },
  {
   "cell_type": "code",
   "execution_count": 2,
   "id": "d5d05612",
   "metadata": {},
   "outputs": [
    {
     "data": {
      "text/plain": [
       "int"
      ]
     },
     "execution_count": 2,
     "metadata": {},
     "output_type": "execute_result"
    }
   ],
   "source": [
    "type(x)"
   ]
  },
  {
   "cell_type": "code",
   "execution_count": 3,
   "id": "a77ffba6",
   "metadata": {},
   "outputs": [],
   "source": [
    "y = 3.2"
   ]
  },
  {
   "cell_type": "code",
   "execution_count": 4,
   "id": "a70eadeb",
   "metadata": {},
   "outputs": [
    {
     "data": {
      "text/plain": [
       "float"
      ]
     },
     "execution_count": 4,
     "metadata": {},
     "output_type": "execute_result"
    }
   ],
   "source": [
    "type(y)"
   ]
  },
  {
   "cell_type": "code",
   "execution_count": 5,
   "id": "66b75f8e",
   "metadata": {},
   "outputs": [],
   "source": [
    "z = 8j + 18"
   ]
  },
  {
   "cell_type": "code",
   "execution_count": 6,
   "id": "519c23fc",
   "metadata": {},
   "outputs": [
    {
     "data": {
      "text/plain": [
       "complex"
      ]
     },
     "execution_count": 6,
     "metadata": {},
     "output_type": "execute_result"
    }
   ],
   "source": [
    "type(z)"
   ]
  },
  {
   "cell_type": "code",
   "execution_count": 7,
   "id": "3a74021e",
   "metadata": {},
   "outputs": [],
   "source": [
    "a = \"Hello World\""
   ]
  },
  {
   "cell_type": "code",
   "execution_count": 8,
   "id": "4c69230c",
   "metadata": {},
   "outputs": [
    {
     "data": {
      "text/plain": [
       "str"
      ]
     },
     "execution_count": 8,
     "metadata": {},
     "output_type": "execute_result"
    }
   ],
   "source": [
    "type(a)"
   ]
  },
  {
   "cell_type": "code",
   "execution_count": 9,
   "id": "6520cbdc",
   "metadata": {},
   "outputs": [],
   "source": [
    "b = True"
   ]
  },
  {
   "cell_type": "code",
   "execution_count": 10,
   "id": "caf47131",
   "metadata": {},
   "outputs": [
    {
     "data": {
      "text/plain": [
       "bool"
      ]
     },
     "execution_count": 10,
     "metadata": {},
     "output_type": "execute_result"
    }
   ],
   "source": [
    "type(b)"
   ]
  },
  {
   "cell_type": "code",
   "execution_count": 11,
   "id": "452675a5",
   "metadata": {},
   "outputs": [],
   "source": [
    "c = 23 < 22"
   ]
  },
  {
   "cell_type": "code",
   "execution_count": 12,
   "id": "4fe5eff0",
   "metadata": {},
   "outputs": [
    {
     "data": {
      "text/plain": [
       "bool"
      ]
     },
     "execution_count": 12,
     "metadata": {},
     "output_type": "execute_result"
    }
   ],
   "source": [
    "type(c)"
   ]
  },
  {
   "cell_type": "code",
   "execution_count": 13,
   "id": "cfe67109",
   "metadata": {},
   "outputs": [],
   "source": [
    "l = [1, 2, 3, 4,\"String\",3.2, False]"
   ]
  },
  {
   "cell_type": "code",
   "execution_count": 14,
   "id": "c564df2e",
   "metadata": {},
   "outputs": [
    {
     "data": {
      "text/plain": [
       "list"
      ]
     },
     "execution_count": 14,
     "metadata": {},
     "output_type": "execute_result"
    }
   ],
   "source": [
    "type(l)"
   ]
  },
  {
   "cell_type": "code",
   "execution_count": 15,
   "id": "d5e312ca",
   "metadata": {},
   "outputs": [],
   "source": [
    "d = {\"Name\": \"Jake\",\n",
    "     \"Age\": [27,56],\n",
    "     \"Adress\": \"Downtown\"}"
   ]
  },
  {
   "cell_type": "code",
   "execution_count": 16,
   "id": "b806f909",
   "metadata": {},
   "outputs": [
    {
     "data": {
      "text/plain": [
       "dict"
      ]
     },
     "execution_count": 16,
     "metadata": {},
     "output_type": "execute_result"
    }
   ],
   "source": [
    "type(d)"
   ]
  },
  {
   "cell_type": "code",
   "execution_count": 17,
   "id": "9f8511a4",
   "metadata": {},
   "outputs": [],
   "source": [
    "t = (\"Machine Learning\", \"Data Science\")"
   ]
  },
  {
   "cell_type": "code",
   "execution_count": 18,
   "id": "a395fd84",
   "metadata": {},
   "outputs": [
    {
     "data": {
      "text/plain": [
       "tuple"
      ]
     },
     "execution_count": 18,
     "metadata": {},
     "output_type": "execute_result"
    }
   ],
   "source": [
    "type(t)"
   ]
  },
  {
   "cell_type": "code",
   "execution_count": 19,
   "id": "cd8bbce6",
   "metadata": {},
   "outputs": [],
   "source": [
    "s = {\"Python\", \"Machine Learning\", \"Data Science\",\"Python\"}"
   ]
  },
  {
   "cell_type": "code",
   "execution_count": 20,
   "id": "722f7422",
   "metadata": {},
   "outputs": [
    {
     "data": {
      "text/plain": [
       "set"
      ]
     },
     "execution_count": 20,
     "metadata": {},
     "output_type": "execute_result"
    }
   ],
   "source": [
    "type(s)"
   ]
  },
  {
   "cell_type": "markdown",
   "id": "441caf5f",
   "metadata": {},
   "source": [
    "### GÖREV 2\n",
    "- Verilen string ifadenin tüm harflerini büyük harfe çeviriniz. Virgül ve nokta yerine space koyunuz, kelime kelime ayırınız."
   ]
  },
  {
   "cell_type": "code",
   "execution_count": 21,
   "id": "33e530d1",
   "metadata": {},
   "outputs": [],
   "source": [
    "text = \"The goal is to turn data into information, and information into insight.\""
   ]
  },
  {
   "cell_type": "code",
   "execution_count": 22,
   "id": "7317ba3c",
   "metadata": {},
   "outputs": [
    {
     "data": {
      "text/plain": [
       "['THE',\n",
       " 'GOAL',\n",
       " 'IS',\n",
       " 'TO',\n",
       " 'TURN',\n",
       " 'DATA',\n",
       " 'INTO',\n",
       " 'INFORMATION',\n",
       " 'AND',\n",
       " 'INFORMATION',\n",
       " 'INTO',\n",
       " 'INSIGHT']"
      ]
     },
     "execution_count": 22,
     "metadata": {},
     "output_type": "execute_result"
    }
   ],
   "source": [
    "text.upper().replace(\",\",\" \").replace(\".\", \" \").split()"
   ]
  },
  {
   "cell_type": "markdown",
   "id": "79308a4e",
   "metadata": {},
   "source": [
    "### GÖREV 3\n",
    "- Verilen liste için aşağıdaki görevleri yapınız."
   ]
  },
  {
   "cell_type": "code",
   "execution_count": 23,
   "id": "c6edcd50",
   "metadata": {},
   "outputs": [],
   "source": [
    "lst = [\"D\",\"A\",\"T\",\"A\",\"S\",\"C\",\"I\",\"E\",\"N\",\"C\",\"E\"]"
   ]
  },
  {
   "cell_type": "markdown",
   "id": "f0318e51",
   "metadata": {},
   "source": [
    "- **Adım 1**: Verilen listenin eleman sayısına bakın."
   ]
  },
  {
   "cell_type": "code",
   "execution_count": 24,
   "id": "fbe6e0a5",
   "metadata": {},
   "outputs": [
    {
     "data": {
      "text/plain": [
       "11"
      ]
     },
     "execution_count": 24,
     "metadata": {},
     "output_type": "execute_result"
    }
   ],
   "source": [
    "len(lst)"
   ]
  },
  {
   "cell_type": "markdown",
   "id": "59613f59",
   "metadata": {},
   "source": [
    "- **Adım 2**: Sıfırıncı ve onuncu index'teki elemanları çağırın."
   ]
  },
  {
   "cell_type": "code",
   "execution_count": 25,
   "id": "07fcb029",
   "metadata": {},
   "outputs": [
    {
     "data": {
      "text/plain": [
       "'D'"
      ]
     },
     "execution_count": 25,
     "metadata": {},
     "output_type": "execute_result"
    }
   ],
   "source": [
    "lst[0]"
   ]
  },
  {
   "cell_type": "code",
   "execution_count": 26,
   "id": "2fc16065",
   "metadata": {},
   "outputs": [
    {
     "data": {
      "text/plain": [
       "'E'"
      ]
     },
     "execution_count": 26,
     "metadata": {},
     "output_type": "execute_result"
    }
   ],
   "source": [
    "lst[10]"
   ]
  },
  {
   "cell_type": "markdown",
   "id": "f04ecb7a",
   "metadata": {},
   "source": [
    "- **Adım 3**: Verilen liste üzerinden [\"D\",\"A\",\"T\",\"A\"] listesi oluşturun."
   ]
  },
  {
   "cell_type": "code",
   "execution_count": 27,
   "id": "83350999",
   "metadata": {},
   "outputs": [
    {
     "data": {
      "text/plain": [
       "['D', 'A', 'T', 'A']"
      ]
     },
     "execution_count": 27,
     "metadata": {},
     "output_type": "execute_result"
    }
   ],
   "source": [
    "lst[0:4]"
   ]
  },
  {
   "cell_type": "markdown",
   "id": "19a787ba",
   "metadata": {},
   "source": [
    "- **Adım 4**: Sekizinci index'teki elemanı silin."
   ]
  },
  {
   "cell_type": "code",
   "execution_count": 28,
   "id": "fdbb26c8",
   "metadata": {},
   "outputs": [
    {
     "data": {
      "text/plain": [
       "'N'"
      ]
     },
     "execution_count": 28,
     "metadata": {},
     "output_type": "execute_result"
    }
   ],
   "source": [
    "lst.pop(8)"
   ]
  },
  {
   "cell_type": "markdown",
   "id": "22c294c6",
   "metadata": {},
   "source": [
    "- **Adım 5**: Yeni bir eleman ekleyin."
   ]
  },
  {
   "cell_type": "code",
   "execution_count": 29,
   "id": "c64ec9e7",
   "metadata": {},
   "outputs": [],
   "source": [
    "lst.append(\"Hello AI Era!\")"
   ]
  },
  {
   "cell_type": "code",
   "execution_count": 30,
   "id": "86277770",
   "metadata": {},
   "outputs": [
    {
     "name": "stdout",
     "output_type": "stream",
     "text": [
      "['D', 'A', 'T', 'A', 'S', 'C', 'I', 'E', 'C', 'E', 'Hello AI Era!']\n"
     ]
    }
   ],
   "source": [
    "print(lst)"
   ]
  },
  {
   "cell_type": "markdown",
   "id": "e014af4b",
   "metadata": {},
   "source": [
    "- **Adım 6**: Sekizinci index'e  \"N\" elemanını tekrar ekleyin."
   ]
  },
  {
   "cell_type": "code",
   "execution_count": 31,
   "id": "9ae19bd8",
   "metadata": {},
   "outputs": [],
   "source": [
    "lst.insert(8, \"N\")"
   ]
  },
  {
   "cell_type": "code",
   "execution_count": 32,
   "id": "05377173",
   "metadata": {},
   "outputs": [
    {
     "name": "stdout",
     "output_type": "stream",
     "text": [
      "['D', 'A', 'T', 'A', 'S', 'C', 'I', 'E', 'N', 'C', 'E', 'Hello AI Era!']\n"
     ]
    }
   ],
   "source": [
    "print(lst)"
   ]
  },
  {
   "cell_type": "markdown",
   "id": "f02abd6c",
   "metadata": {},
   "source": [
    "### GÖREV 4 \n",
    "- Verilen sözlük yapısına aşağıdaki adımları uygulayınız."
   ]
  },
  {
   "cell_type": "code",
   "execution_count": 33,
   "id": "13b464ff",
   "metadata": {},
   "outputs": [],
   "source": [
    "dict = {'Christian': [\"America\",18],\n",
    "        'Daisy':[\"England\",12],\n",
    "        'Antonio':[\"Spain\",22],\n",
    "        'Dante':[\"Italy\",25]}"
   ]
  },
  {
   "cell_type": "markdown",
   "id": "55a1f19d",
   "metadata": {},
   "source": [
    "- **Adım 1**: Key değerlerine erişiniz."
   ]
  },
  {
   "cell_type": "code",
   "execution_count": 34,
   "id": "c7f4b468",
   "metadata": {},
   "outputs": [
    {
     "data": {
      "text/plain": [
       "dict_keys(['Christian', 'Daisy', 'Antonio', 'Dante'])"
      ]
     },
     "execution_count": 34,
     "metadata": {},
     "output_type": "execute_result"
    }
   ],
   "source": [
    "dict.keys()"
   ]
  },
  {
   "cell_type": "markdown",
   "id": "91d0d82d",
   "metadata": {},
   "source": [
    "- **Adım 2**: Value'lara erişiniz."
   ]
  },
  {
   "cell_type": "code",
   "execution_count": 35,
   "id": "dad70be6",
   "metadata": {},
   "outputs": [
    {
     "data": {
      "text/plain": [
       "dict_values([['America', 18], ['England', 12], ['Spain', 22], ['Italy', 25]])"
      ]
     },
     "execution_count": 35,
     "metadata": {},
     "output_type": "execute_result"
    }
   ],
   "source": [
    "dict.values()"
   ]
  },
  {
   "cell_type": "markdown",
   "id": "86a4528c",
   "metadata": {},
   "source": [
    "- **Adım 3**: Daisy key'ine ait 12 değerini 13 olarak güncelleyiniz."
   ]
  },
  {
   "cell_type": "code",
   "execution_count": 36,
   "id": "f29d0809",
   "metadata": {},
   "outputs": [],
   "source": [
    "dict[\"Daisy\"] = [\"England\", 13]"
   ]
  },
  {
   "cell_type": "code",
   "execution_count": 37,
   "id": "84d1205d",
   "metadata": {},
   "outputs": [
    {
     "name": "stdout",
     "output_type": "stream",
     "text": [
      "{'Christian': ['America', 18], 'Daisy': ['England', 13], 'Antonio': ['Spain', 22], 'Dante': ['Italy', 25]}\n"
     ]
    }
   ],
   "source": [
    "print(dict)"
   ]
  },
  {
   "cell_type": "markdown",
   "id": "b49b1d09",
   "metadata": {},
   "source": [
    "- **Adım 4**: Key değeri Ahmet value değeri [Turkey,24] olan yeni bir değer ekleyiniz."
   ]
  },
  {
   "cell_type": "code",
   "execution_count": 38,
   "id": "dd2e2e29",
   "metadata": {},
   "outputs": [],
   "source": [
    "dict[\"Ahmet\"] = [\"Turkey\", 24]"
   ]
  },
  {
   "cell_type": "code",
   "execution_count": 39,
   "id": "2645ec6f",
   "metadata": {},
   "outputs": [
    {
     "name": "stdout",
     "output_type": "stream",
     "text": [
      "{'Christian': ['America', 18], 'Daisy': ['England', 13], 'Antonio': ['Spain', 22], 'Dante': ['Italy', 25], 'Ahmet': ['Turkey', 24]}\n"
     ]
    }
   ],
   "source": [
    "print(dict)"
   ]
  },
  {
   "cell_type": "markdown",
   "id": "05ffb004",
   "metadata": {},
   "source": [
    "- **Adım 5**: Antonio'yu dictionary'den siliniz."
   ]
  },
  {
   "cell_type": "code",
   "execution_count": 40,
   "id": "bc2c458e",
   "metadata": {},
   "outputs": [
    {
     "data": {
      "text/plain": [
       "['Spain', 22]"
      ]
     },
     "execution_count": 40,
     "metadata": {},
     "output_type": "execute_result"
    }
   ],
   "source": [
    "dict.pop(\"Antonio\")"
   ]
  },
  {
   "cell_type": "code",
   "execution_count": 42,
   "id": "f5fd8368",
   "metadata": {},
   "outputs": [
    {
     "name": "stdout",
     "output_type": "stream",
     "text": [
      "{'Christian': ['America', 18], 'Daisy': ['England', 13], 'Dante': ['Italy', 25], 'Ahmet': ['Turkey', 24]}\n"
     ]
    }
   ],
   "source": [
    "print(dict)"
   ]
  },
  {
   "cell_type": "markdown",
   "id": "02a70a78",
   "metadata": {},
   "source": [
    "### GÖREV 5\n",
    "- Arguman olarak bir liste alan, listenin içerisindeki tek ve çift sayıları ayrı listelere atıyan ve bu listeleri return eden fonskiyon yazınız.\n"
   ]
  },
  {
   "cell_type": "code",
   "execution_count": 43,
   "id": "bdb91435",
   "metadata": {},
   "outputs": [],
   "source": [
    "l = [2,13,18,93,22]"
   ]
  },
  {
   "cell_type": "code",
   "execution_count": 44,
   "id": "1246d52f",
   "metadata": {},
   "outputs": [],
   "source": [
    "def evenOdd(list):\n",
    "    even = []\n",
    "    odd = []\n",
    "    for i in list:\n",
    "        if i % 2 == 0:\n",
    "            even.append(i)\n",
    "        else:\n",
    "            odd.append(i)\n",
    "            \n",
    "    return even, odd"
   ]
  },
  {
   "cell_type": "code",
   "execution_count": 45,
   "id": "43c298fe",
   "metadata": {},
   "outputs": [],
   "source": [
    "even, odd = evenOdd(l)"
   ]
  },
  {
   "cell_type": "code",
   "execution_count": 46,
   "id": "9fb18737",
   "metadata": {},
   "outputs": [
    {
     "name": "stdout",
     "output_type": "stream",
     "text": [
      "[2, 18, 22]\n"
     ]
    }
   ],
   "source": [
    "print(even)"
   ]
  },
  {
   "cell_type": "code",
   "execution_count": 47,
   "id": "0d3bc02a",
   "metadata": {},
   "outputs": [
    {
     "name": "stdout",
     "output_type": "stream",
     "text": [
      "[13, 93]\n"
     ]
    }
   ],
   "source": [
    "print(odd)"
   ]
  },
  {
   "cell_type": "markdown",
   "id": "fc00ff41",
   "metadata": {},
   "source": [
    "### GÖREV 6\n",
    "- Aşağıda verilen listede mühendislik ve tıp fakülterinde dereceye giren öğrencilerin isimleri bulunmaktadır.\n",
    "- Sırasıyla ilk üç öğrenci mühendislik fakültesinin başarı sırasını temsil ederken son üç öğrenci de tıp fakültesi öğrenci sırasına aittir.\n",
    "- Enumarate kullanarak öğrenci derecelerini fakülte özelinde yazdırınız."
   ]
  },
  {
   "cell_type": "code",
   "execution_count": 48,
   "id": "f6d97fc5",
   "metadata": {},
   "outputs": [],
   "source": [
    "ogrenciler = [\"Ali\",\"Veli\",\"Ayşe\",\"Talat\",\"Zeynep\",\"Ece\"]"
   ]
  },
  {
   "cell_type": "code",
   "execution_count": 50,
   "id": "f8431b6d",
   "metadata": {},
   "outputs": [
    {
     "name": "stdout",
     "output_type": "stream",
     "text": [
      "Ali Mühendislik Fakültesi\n",
      "Veli Mühendislik Fakültesi\n",
      "Ayşe Mühendislik Fakültesi\n",
      "Talat Tıp Fakültesi\n",
      "Zeynep Tıp Fakültesi\n",
      "Ece Tıp Fakültesi\n"
     ]
    }
   ],
   "source": [
    "for index, ogrenci in enumerate(ogrenciler):\n",
    "    if index <= 2:\n",
    "        print(ogrenci, \"Mühendislik Fakültesi\")\n",
    "    else:\n",
    "        print(ogrenci, \"Tıp Fakültesi\")"
   ]
  },
  {
   "cell_type": "markdown",
   "id": "5d410784",
   "metadata": {},
   "source": [
    "### GÖREV 7\n",
    "- Aşağıda 3 adet liste verilmiştir. Listelerde sırası ile bir dersin kodu, kredisi ve kontenjan bilgileri yer almaktadır. Zip kullanarak ders bilgilerini bastırınız.\n"
   ]
  },
  {
   "cell_type": "code",
   "execution_count": 51,
   "id": "4e2f7853",
   "metadata": {},
   "outputs": [],
   "source": [
    "ders_kodu = [\"CMP1005\",\"PSY1001\",\"HUK1005\",\"SEN2204\"]\n",
    "kredi = [3,4,2,4]\n",
    "kontenjan = [30,75,150,25]"
   ]
  },
  {
   "cell_type": "code",
   "execution_count": 52,
   "id": "fb3958bd",
   "metadata": {},
   "outputs": [
    {
     "data": {
      "text/plain": [
       "[('CMP1005', 3, 30),\n",
       " ('PSY1001', 4, 75),\n",
       " ('HUK1005', 2, 150),\n",
       " ('SEN2204', 4, 25)]"
      ]
     },
     "execution_count": 52,
     "metadata": {},
     "output_type": "execute_result"
    }
   ],
   "source": [
    "list(zip(ders_kodu, kredi, kontenjan))"
   ]
  },
  {
   "cell_type": "markdown",
   "id": "29d90fac",
   "metadata": {},
   "source": [
    "### GÖREV 8\n",
    "- Aşağıda 2 adet set verilmiştir.\n",
    "- Sizden istenilen eğer 1. küme 2. kümeyi kapsiyor ise ortak elemanlarını eğer kapsamıyor ise 2. kümenin 1. kümeden farkını yazdıracak fonksiyonu tanımlamanız beklenmektedir."
   ]
  },
  {
   "cell_type": "code",
   "execution_count": 53,
   "id": "445f20e6",
   "metadata": {},
   "outputs": [],
   "source": [
    "kume1 = set([\"data\", \"python\"])\n",
    "kume2 = set([\"data\", \"function\", \"qcut\", \"lambda\", \"python\", \"miuul\"])"
   ]
  },
  {
   "cell_type": "code",
   "execution_count": 54,
   "id": "0dffd2e3",
   "metadata": {},
   "outputs": [],
   "source": [
    "def differences_sets(set1, set2):\n",
    "    if set1.issuperset(set2):\n",
    "        print(set1.intersection(set2))\n",
    "    else:\n",
    "        print(set2.difference(set1))"
   ]
  },
  {
   "cell_type": "code",
   "execution_count": 55,
   "id": "a69c7ae8",
   "metadata": {},
   "outputs": [
    {
     "name": "stdout",
     "output_type": "stream",
     "text": [
      "{'qcut', 'lambda', 'miuul', 'function'}\n"
     ]
    }
   ],
   "source": [
    "differences_sets(kume1, kume2)"
   ]
  }
 ],
 "metadata": {
  "kernelspec": {
   "display_name": "Python 3 (ipykernel)",
   "language": "python",
   "name": "python3"
  },
  "language_info": {
   "codemirror_mode": {
    "name": "ipython",
    "version": 3
   },
   "file_extension": ".py",
   "mimetype": "text/x-python",
   "name": "python",
   "nbconvert_exporter": "python",
   "pygments_lexer": "ipython3",
   "version": "3.9.12"
  }
 },
 "nbformat": 4,
 "nbformat_minor": 5
}
