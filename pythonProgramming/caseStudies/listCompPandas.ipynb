{
 "cells": [
  {
   "cell_type": "markdown",
   "id": "40af96e0",
   "metadata": {},
   "source": [
    "# List Comprehensions\n",
    "---\n",
    "- **GÖREV 1**: List Comprehension yapısı kullanarak car_crashes verisindeki numeric değişkenlerin isimlerini büyük harfe çeviriniz ve başına NUM ekleyiniz.\n",
    "\n",
    "\n",
    "- **Beklenen Çıktı**\n",
    "- ['NUM_TOTAL',\n",
    "-  'NUM_SPEEDING',\n",
    "-  'NUM_ALCOHOL',\n",
    "-  'NUM_NOT_DISTRACTED',\n",
    "-  'NUM_NO_PREVIOUS',\n",
    "-  'NUM_INS_PREMIUM',\n",
    "-  'NUM_INS_LOSSES',\n",
    "-  'ABBREV']\n",
    "\n",
    "\n",
    "- Notlar:\n",
    "    - Numerik olmayanların da isimleri büyümeli.\n",
    "    - Tek bir list comp yapısı ile yapılmalı."
   ]
  },
  {
   "cell_type": "code",
   "execution_count": 1,
   "id": "7f33ea1e",
   "metadata": {},
   "outputs": [
    {
     "name": "stdout",
     "output_type": "stream",
     "text": [
      "<class 'pandas.core.frame.DataFrame'>\n",
      "RangeIndex: 51 entries, 0 to 50\n",
      "Data columns (total 8 columns):\n",
      " #   Column          Non-Null Count  Dtype  \n",
      "---  ------          --------------  -----  \n",
      " 0   total           51 non-null     float64\n",
      " 1   speeding        51 non-null     float64\n",
      " 2   alcohol         51 non-null     float64\n",
      " 3   not_distracted  51 non-null     float64\n",
      " 4   no_previous     51 non-null     float64\n",
      " 5   ins_premium     51 non-null     float64\n",
      " 6   ins_losses      51 non-null     float64\n",
      " 7   abbrev          51 non-null     object \n",
      "dtypes: float64(7), object(1)\n",
      "memory usage: 3.3+ KB\n"
     ]
    }
   ],
   "source": [
    "import seaborn as sns\n",
    "import pandas as pd\n",
    "pd.set_option(\"display.max_rows\", None)\n",
    "pd.set_option(\"display.max_columns\", None)\n",
    "pd.set_option(\"display.width\", 500)\n",
    "\n",
    "df = sns.load_dataset(\"car_crashes\")\n",
    "df.info()"
   ]
  },
  {
   "cell_type": "code",
   "execution_count": 2,
   "id": "987ad988",
   "metadata": {},
   "outputs": [
    {
     "data": {
      "text/plain": [
       "['NUM_TOTAL',\n",
       " 'NUM_SPEEDING',\n",
       " 'NUM_ALCOHOL',\n",
       " 'NUM_NOT_DISTRACTED',\n",
       " 'NUM_NO_PREVIOUS',\n",
       " 'NUM_INS_PREMIUM',\n",
       " 'NUM_INS_LOSSES',\n",
       " 'ABBREV']"
      ]
     },
     "execution_count": 2,
     "metadata": {},
     "output_type": "execute_result"
    }
   ],
   "source": [
    "[\"NUM_\" + col.upper() if df[col].dtype != \"O\" else col.upper() for col in df.columns]"
   ]
  },
  {
   "cell_type": "markdown",
   "id": "f3843b5b",
   "metadata": {},
   "source": [
    "- **GÖREV 2**: List Comprehension yapısı kullanarak car_crashes verisindeki isminde \"no\" barındırmayan değişkenlerin isimlerininin sonuna \"FLAG\" yazınız.\n",
    "\n",
    "\n",
    "- **Notlar**:\n",
    "- Tüm değişken isimleri büyük olmalı.\n",
    "- Tek bir list comp ile yapılmalı.\n",
    "\n",
    "\n",
    "- _Beklenen çıktı_:\n",
    "\n",
    "\n",
    "- ['TOTAL_FLAG',\n",
    "- 'SPEEDING_FLAG',\n",
    "-  'ALCOHOL_FLAG',\n",
    "-  'NOT_DISTRACTED',\n",
    "-  'NO_PREVIOUS',\n",
    "-  'INS_PREMIUM_FLAG',\n",
    "-  'INS_LOSSES_FLAG',\n",
    "-  'ABBREV_FLAG']"
   ]
  },
  {
   "cell_type": "code",
   "execution_count": 3,
   "id": "66daa801",
   "metadata": {},
   "outputs": [
    {
     "data": {
      "text/plain": [
       "['TOTAL_FLAG',\n",
       " 'SPEEDING_FLAG',\n",
       " 'ALCOHOL_FLAG',\n",
       " 'NOT_DISTRACTED',\n",
       " 'NO_PREVIOUS',\n",
       " 'INS_PREMIUM_FLAG',\n",
       " 'INS_LOSSES_FLAG',\n",
       " 'ABBREV_FLAG']"
      ]
     },
     "execution_count": 3,
     "metadata": {},
     "output_type": "execute_result"
    }
   ],
   "source": [
    "[col.upper() if \"no\" in col else col.upper() + \"_FLAG\" for col in df.columns]"
   ]
  },
  {
   "cell_type": "markdown",
   "id": "f595092b",
   "metadata": {},
   "source": [
    "- **Görev 3**: List Comprehension yapısı kullanarak aşağıda verilen değişken isimlerinden FARKLI olan değişkenlerin isimlerini seçiniz ve yeni bir dataframe oluşturunuz.\n",
    "\n",
    "- **Notlar**:\n",
    "- Önce yukarıdaki listeye göre list comprehension kullanarak new_cols adında yeni liste oluşturunuz.\n",
    "- Sonra df[new_cols] ile bu değişkenleri seçerek yeni bir df oluşturunuz adını new_df olarak isimlendiriniz."
   ]
  },
  {
   "cell_type": "code",
   "execution_count": 4,
   "id": "0ccbbd40",
   "metadata": {},
   "outputs": [],
   "source": [
    "og_list = [\"abbrev\", \"no_previous\"]"
   ]
  },
  {
   "cell_type": "code",
   "execution_count": 5,
   "id": "3e6f8106",
   "metadata": {},
   "outputs": [
    {
     "data": {
      "text/html": [
       "<div>\n",
       "<style scoped>\n",
       "    .dataframe tbody tr th:only-of-type {\n",
       "        vertical-align: middle;\n",
       "    }\n",
       "\n",
       "    .dataframe tbody tr th {\n",
       "        vertical-align: top;\n",
       "    }\n",
       "\n",
       "    .dataframe thead th {\n",
       "        text-align: right;\n",
       "    }\n",
       "</style>\n",
       "<table border=\"1\" class=\"dataframe\">\n",
       "  <thead>\n",
       "    <tr style=\"text-align: right;\">\n",
       "      <th></th>\n",
       "      <th>total</th>\n",
       "      <th>speeding</th>\n",
       "      <th>alcohol</th>\n",
       "      <th>not_distracted</th>\n",
       "      <th>ins_premium</th>\n",
       "      <th>ins_losses</th>\n",
       "    </tr>\n",
       "  </thead>\n",
       "  <tbody>\n",
       "    <tr>\n",
       "      <th>0</th>\n",
       "      <td>18.8</td>\n",
       "      <td>7.332</td>\n",
       "      <td>5.640</td>\n",
       "      <td>18.048</td>\n",
       "      <td>784.55</td>\n",
       "      <td>145.08</td>\n",
       "    </tr>\n",
       "    <tr>\n",
       "      <th>1</th>\n",
       "      <td>18.1</td>\n",
       "      <td>7.421</td>\n",
       "      <td>4.525</td>\n",
       "      <td>16.290</td>\n",
       "      <td>1053.48</td>\n",
       "      <td>133.93</td>\n",
       "    </tr>\n",
       "    <tr>\n",
       "      <th>2</th>\n",
       "      <td>18.6</td>\n",
       "      <td>6.510</td>\n",
       "      <td>5.208</td>\n",
       "      <td>15.624</td>\n",
       "      <td>899.47</td>\n",
       "      <td>110.35</td>\n",
       "    </tr>\n",
       "    <tr>\n",
       "      <th>3</th>\n",
       "      <td>22.4</td>\n",
       "      <td>4.032</td>\n",
       "      <td>5.824</td>\n",
       "      <td>21.056</td>\n",
       "      <td>827.34</td>\n",
       "      <td>142.39</td>\n",
       "    </tr>\n",
       "    <tr>\n",
       "      <th>4</th>\n",
       "      <td>12.0</td>\n",
       "      <td>4.200</td>\n",
       "      <td>3.360</td>\n",
       "      <td>10.920</td>\n",
       "      <td>878.41</td>\n",
       "      <td>165.63</td>\n",
       "    </tr>\n",
       "  </tbody>\n",
       "</table>\n",
       "</div>"
      ],
      "text/plain": [
       "   total  speeding  alcohol  not_distracted  ins_premium  ins_losses\n",
       "0   18.8     7.332    5.640          18.048       784.55      145.08\n",
       "1   18.1     7.421    4.525          16.290      1053.48      133.93\n",
       "2   18.6     6.510    5.208          15.624       899.47      110.35\n",
       "3   22.4     4.032    5.824          21.056       827.34      142.39\n",
       "4   12.0     4.200    3.360          10.920       878.41      165.63"
      ]
     },
     "execution_count": 5,
     "metadata": {},
     "output_type": "execute_result"
    }
   ],
   "source": [
    "new_cols = [col for col in df.columns if col not in og_list]\n",
    "df[new_cols].head()"
   ]
  },
  {
   "cell_type": "markdown",
   "id": "42bc6893",
   "metadata": {},
   "source": [
    "# Pandas Alıştırmalar\n",
    "---\n",
    "- **Görev 1**: Seaborn kütüphanesi içerisinden Titanic veri setini tanımlayınız."
   ]
  },
  {
   "cell_type": "code",
   "execution_count": 6,
   "id": "669b281e",
   "metadata": {},
   "outputs": [
    {
     "data": {
      "text/html": [
       "<div>\n",
       "<style scoped>\n",
       "    .dataframe tbody tr th:only-of-type {\n",
       "        vertical-align: middle;\n",
       "    }\n",
       "\n",
       "    .dataframe tbody tr th {\n",
       "        vertical-align: top;\n",
       "    }\n",
       "\n",
       "    .dataframe thead th {\n",
       "        text-align: right;\n",
       "    }\n",
       "</style>\n",
       "<table border=\"1\" class=\"dataframe\">\n",
       "  <thead>\n",
       "    <tr style=\"text-align: right;\">\n",
       "      <th></th>\n",
       "      <th>survived</th>\n",
       "      <th>pclass</th>\n",
       "      <th>sex</th>\n",
       "      <th>age</th>\n",
       "      <th>sibsp</th>\n",
       "      <th>parch</th>\n",
       "      <th>fare</th>\n",
       "      <th>embarked</th>\n",
       "      <th>class</th>\n",
       "      <th>who</th>\n",
       "      <th>adult_male</th>\n",
       "      <th>deck</th>\n",
       "      <th>embark_town</th>\n",
       "      <th>alive</th>\n",
       "      <th>alone</th>\n",
       "    </tr>\n",
       "  </thead>\n",
       "  <tbody>\n",
       "    <tr>\n",
       "      <th>0</th>\n",
       "      <td>0</td>\n",
       "      <td>3</td>\n",
       "      <td>male</td>\n",
       "      <td>22.0</td>\n",
       "      <td>1</td>\n",
       "      <td>0</td>\n",
       "      <td>7.2500</td>\n",
       "      <td>S</td>\n",
       "      <td>Third</td>\n",
       "      <td>man</td>\n",
       "      <td>True</td>\n",
       "      <td>NaN</td>\n",
       "      <td>Southampton</td>\n",
       "      <td>no</td>\n",
       "      <td>False</td>\n",
       "    </tr>\n",
       "    <tr>\n",
       "      <th>1</th>\n",
       "      <td>1</td>\n",
       "      <td>1</td>\n",
       "      <td>female</td>\n",
       "      <td>38.0</td>\n",
       "      <td>1</td>\n",
       "      <td>0</td>\n",
       "      <td>71.2833</td>\n",
       "      <td>C</td>\n",
       "      <td>First</td>\n",
       "      <td>woman</td>\n",
       "      <td>False</td>\n",
       "      <td>C</td>\n",
       "      <td>Cherbourg</td>\n",
       "      <td>yes</td>\n",
       "      <td>False</td>\n",
       "    </tr>\n",
       "    <tr>\n",
       "      <th>2</th>\n",
       "      <td>1</td>\n",
       "      <td>3</td>\n",
       "      <td>female</td>\n",
       "      <td>26.0</td>\n",
       "      <td>0</td>\n",
       "      <td>0</td>\n",
       "      <td>7.9250</td>\n",
       "      <td>S</td>\n",
       "      <td>Third</td>\n",
       "      <td>woman</td>\n",
       "      <td>False</td>\n",
       "      <td>NaN</td>\n",
       "      <td>Southampton</td>\n",
       "      <td>yes</td>\n",
       "      <td>True</td>\n",
       "    </tr>\n",
       "    <tr>\n",
       "      <th>3</th>\n",
       "      <td>1</td>\n",
       "      <td>1</td>\n",
       "      <td>female</td>\n",
       "      <td>35.0</td>\n",
       "      <td>1</td>\n",
       "      <td>0</td>\n",
       "      <td>53.1000</td>\n",
       "      <td>S</td>\n",
       "      <td>First</td>\n",
       "      <td>woman</td>\n",
       "      <td>False</td>\n",
       "      <td>C</td>\n",
       "      <td>Southampton</td>\n",
       "      <td>yes</td>\n",
       "      <td>False</td>\n",
       "    </tr>\n",
       "    <tr>\n",
       "      <th>4</th>\n",
       "      <td>0</td>\n",
       "      <td>3</td>\n",
       "      <td>male</td>\n",
       "      <td>35.0</td>\n",
       "      <td>0</td>\n",
       "      <td>0</td>\n",
       "      <td>8.0500</td>\n",
       "      <td>S</td>\n",
       "      <td>Third</td>\n",
       "      <td>man</td>\n",
       "      <td>True</td>\n",
       "      <td>NaN</td>\n",
       "      <td>Southampton</td>\n",
       "      <td>no</td>\n",
       "      <td>True</td>\n",
       "    </tr>\n",
       "  </tbody>\n",
       "</table>\n",
       "</div>"
      ],
      "text/plain": [
       "   survived  pclass     sex   age  sibsp  parch     fare embarked  class    who  adult_male deck  embark_town alive  alone\n",
       "0         0       3    male  22.0      1      0   7.2500        S  Third    man        True  NaN  Southampton    no  False\n",
       "1         1       1  female  38.0      1      0  71.2833        C  First  woman       False    C    Cherbourg   yes  False\n",
       "2         1       3  female  26.0      0      0   7.9250        S  Third  woman       False  NaN  Southampton   yes   True\n",
       "3         1       1  female  35.0      1      0  53.1000        S  First  woman       False    C  Southampton   yes  False\n",
       "4         0       3    male  35.0      0      0   8.0500        S  Third    man        True  NaN  Southampton    no   True"
      ]
     },
     "execution_count": 6,
     "metadata": {},
     "output_type": "execute_result"
    }
   ],
   "source": [
    "df = sns.load_dataset(\"titanic\")\n",
    "df.head()"
   ]
  },
  {
   "cell_type": "markdown",
   "id": "7fd77853",
   "metadata": {},
   "source": [
    "- **Görev 2**: Yukarıda tanımlanan Titanic veri setindeki kadın ve erkek yolcuların sayısını bulunuz."
   ]
  },
  {
   "cell_type": "code",
   "execution_count": 7,
   "id": "efeb6c5d",
   "metadata": {},
   "outputs": [
    {
     "data": {
      "text/plain": [
       "male      577\n",
       "female    314\n",
       "Name: sex, dtype: int64"
      ]
     },
     "execution_count": 7,
     "metadata": {},
     "output_type": "execute_result"
    }
   ],
   "source": [
    "df[\"sex\"].value_counts()"
   ]
  },
  {
   "cell_type": "markdown",
   "id": "4022320f",
   "metadata": {},
   "source": [
    "- **Görev 3**: Her bir sutuna ait unique değerlerin sayısını bulunuz."
   ]
  },
  {
   "cell_type": "code",
   "execution_count": 8,
   "id": "becb6445",
   "metadata": {},
   "outputs": [
    {
     "data": {
      "text/plain": [
       "survived         2\n",
       "pclass           3\n",
       "sex              2\n",
       "age             88\n",
       "sibsp            7\n",
       "parch            7\n",
       "fare           248\n",
       "embarked         3\n",
       "class            3\n",
       "who              3\n",
       "adult_male       2\n",
       "deck             7\n",
       "embark_town      3\n",
       "alive            2\n",
       "alone            2\n",
       "dtype: int64"
      ]
     },
     "execution_count": 8,
     "metadata": {},
     "output_type": "execute_result"
    }
   ],
   "source": [
    "df.nunique()"
   ]
  },
  {
   "cell_type": "markdown",
   "id": "dcd6da88",
   "metadata": {},
   "source": [
    "- **Görev 4**: pclass değişkeninin unique değerleri bulunuz."
   ]
  },
  {
   "cell_type": "code",
   "execution_count": 9,
   "id": "06761144",
   "metadata": {},
   "outputs": [
    {
     "data": {
      "text/plain": [
       "array([3, 1, 2])"
      ]
     },
     "execution_count": 9,
     "metadata": {},
     "output_type": "execute_result"
    }
   ],
   "source": [
    "df[\"pclass\"].unique()"
   ]
  },
  {
   "cell_type": "markdown",
   "id": "cb4deb8e",
   "metadata": {},
   "source": [
    "- **Görev 5**:  pclass ve parch değişkenlerinin unique değerlerinin sayısını bulunuz."
   ]
  },
  {
   "cell_type": "code",
   "execution_count": 10,
   "id": "11becbb3",
   "metadata": {},
   "outputs": [
    {
     "data": {
      "text/plain": [
       "pclass    3\n",
       "parch     7\n",
       "dtype: int64"
      ]
     },
     "execution_count": 10,
     "metadata": {},
     "output_type": "execute_result"
    }
   ],
   "source": [
    "l = [\"pclass\", \"parch\"]\n",
    "df[l].nunique()"
   ]
  },
  {
   "cell_type": "markdown",
   "id": "0f638a31",
   "metadata": {},
   "source": [
    "- **Görev 6**: embarked değişkeninin tipini kontrol ediniz. Tipini category olarak değiştiriniz. Tekrar tipini kontrol ediniz."
   ]
  },
  {
   "cell_type": "code",
   "execution_count": 11,
   "id": "b77b9a6b",
   "metadata": {},
   "outputs": [
    {
     "data": {
      "text/plain": [
       "dtype('O')"
      ]
     },
     "execution_count": 11,
     "metadata": {},
     "output_type": "execute_result"
    }
   ],
   "source": [
    "df[\"embarked\"].dtype"
   ]
  },
  {
   "cell_type": "code",
   "execution_count": 12,
   "id": "a61546f5",
   "metadata": {},
   "outputs": [
    {
     "data": {
      "text/plain": [
       "'object'"
      ]
     },
     "execution_count": 12,
     "metadata": {},
     "output_type": "execute_result"
    }
   ],
   "source": [
    "str(df[\"embarked\"].dtype)"
   ]
  },
  {
   "cell_type": "code",
   "execution_count": 13,
   "id": "605068c7",
   "metadata": {},
   "outputs": [],
   "source": [
    "df[\"embarked\"] = df[\"embarked\"].astype(\"category\")"
   ]
  },
  {
   "cell_type": "code",
   "execution_count": 14,
   "id": "8a21ffad",
   "metadata": {},
   "outputs": [
    {
     "data": {
      "text/plain": [
       "'category'"
      ]
     },
     "execution_count": 14,
     "metadata": {},
     "output_type": "execute_result"
    }
   ],
   "source": [
    "str(df[\"embarked\"].dtype)"
   ]
  },
  {
   "cell_type": "markdown",
   "id": "459d7f43",
   "metadata": {},
   "source": [
    "- **Görev 7**: embarked değeri C olanların tüm bilgelerini gösteriniz."
   ]
  },
  {
   "cell_type": "code",
   "execution_count": 15,
   "id": "d4b84a10",
   "metadata": {},
   "outputs": [
    {
     "data": {
      "text/html": [
       "<div>\n",
       "<style scoped>\n",
       "    .dataframe tbody tr th:only-of-type {\n",
       "        vertical-align: middle;\n",
       "    }\n",
       "\n",
       "    .dataframe tbody tr th {\n",
       "        vertical-align: top;\n",
       "    }\n",
       "\n",
       "    .dataframe thead th {\n",
       "        text-align: right;\n",
       "    }\n",
       "</style>\n",
       "<table border=\"1\" class=\"dataframe\">\n",
       "  <thead>\n",
       "    <tr style=\"text-align: right;\">\n",
       "      <th></th>\n",
       "      <th>survived</th>\n",
       "      <th>pclass</th>\n",
       "      <th>sex</th>\n",
       "      <th>age</th>\n",
       "      <th>sibsp</th>\n",
       "      <th>parch</th>\n",
       "      <th>fare</th>\n",
       "      <th>embarked</th>\n",
       "      <th>class</th>\n",
       "      <th>who</th>\n",
       "      <th>adult_male</th>\n",
       "      <th>deck</th>\n",
       "      <th>embark_town</th>\n",
       "      <th>alive</th>\n",
       "      <th>alone</th>\n",
       "    </tr>\n",
       "  </thead>\n",
       "  <tbody>\n",
       "    <tr>\n",
       "      <th>1</th>\n",
       "      <td>1</td>\n",
       "      <td>1</td>\n",
       "      <td>female</td>\n",
       "      <td>38.0</td>\n",
       "      <td>1</td>\n",
       "      <td>0</td>\n",
       "      <td>71.2833</td>\n",
       "      <td>C</td>\n",
       "      <td>First</td>\n",
       "      <td>woman</td>\n",
       "      <td>False</td>\n",
       "      <td>C</td>\n",
       "      <td>Cherbourg</td>\n",
       "      <td>yes</td>\n",
       "      <td>False</td>\n",
       "    </tr>\n",
       "    <tr>\n",
       "      <th>9</th>\n",
       "      <td>1</td>\n",
       "      <td>2</td>\n",
       "      <td>female</td>\n",
       "      <td>14.0</td>\n",
       "      <td>1</td>\n",
       "      <td>0</td>\n",
       "      <td>30.0708</td>\n",
       "      <td>C</td>\n",
       "      <td>Second</td>\n",
       "      <td>child</td>\n",
       "      <td>False</td>\n",
       "      <td>NaN</td>\n",
       "      <td>Cherbourg</td>\n",
       "      <td>yes</td>\n",
       "      <td>False</td>\n",
       "    </tr>\n",
       "    <tr>\n",
       "      <th>19</th>\n",
       "      <td>1</td>\n",
       "      <td>3</td>\n",
       "      <td>female</td>\n",
       "      <td>NaN</td>\n",
       "      <td>0</td>\n",
       "      <td>0</td>\n",
       "      <td>7.2250</td>\n",
       "      <td>C</td>\n",
       "      <td>Third</td>\n",
       "      <td>woman</td>\n",
       "      <td>False</td>\n",
       "      <td>NaN</td>\n",
       "      <td>Cherbourg</td>\n",
       "      <td>yes</td>\n",
       "      <td>True</td>\n",
       "    </tr>\n",
       "    <tr>\n",
       "      <th>26</th>\n",
       "      <td>0</td>\n",
       "      <td>3</td>\n",
       "      <td>male</td>\n",
       "      <td>NaN</td>\n",
       "      <td>0</td>\n",
       "      <td>0</td>\n",
       "      <td>7.2250</td>\n",
       "      <td>C</td>\n",
       "      <td>Third</td>\n",
       "      <td>man</td>\n",
       "      <td>True</td>\n",
       "      <td>NaN</td>\n",
       "      <td>Cherbourg</td>\n",
       "      <td>no</td>\n",
       "      <td>True</td>\n",
       "    </tr>\n",
       "    <tr>\n",
       "      <th>30</th>\n",
       "      <td>0</td>\n",
       "      <td>1</td>\n",
       "      <td>male</td>\n",
       "      <td>40.0</td>\n",
       "      <td>0</td>\n",
       "      <td>0</td>\n",
       "      <td>27.7208</td>\n",
       "      <td>C</td>\n",
       "      <td>First</td>\n",
       "      <td>man</td>\n",
       "      <td>True</td>\n",
       "      <td>NaN</td>\n",
       "      <td>Cherbourg</td>\n",
       "      <td>no</td>\n",
       "      <td>True</td>\n",
       "    </tr>\n",
       "    <tr>\n",
       "      <th>31</th>\n",
       "      <td>1</td>\n",
       "      <td>1</td>\n",
       "      <td>female</td>\n",
       "      <td>NaN</td>\n",
       "      <td>1</td>\n",
       "      <td>0</td>\n",
       "      <td>146.5208</td>\n",
       "      <td>C</td>\n",
       "      <td>First</td>\n",
       "      <td>woman</td>\n",
       "      <td>False</td>\n",
       "      <td>B</td>\n",
       "      <td>Cherbourg</td>\n",
       "      <td>yes</td>\n",
       "      <td>False</td>\n",
       "    </tr>\n",
       "    <tr>\n",
       "      <th>34</th>\n",
       "      <td>0</td>\n",
       "      <td>1</td>\n",
       "      <td>male</td>\n",
       "      <td>28.0</td>\n",
       "      <td>1</td>\n",
       "      <td>0</td>\n",
       "      <td>82.1708</td>\n",
       "      <td>C</td>\n",
       "      <td>First</td>\n",
       "      <td>man</td>\n",
       "      <td>True</td>\n",
       "      <td>NaN</td>\n",
       "      <td>Cherbourg</td>\n",
       "      <td>no</td>\n",
       "      <td>False</td>\n",
       "    </tr>\n",
       "    <tr>\n",
       "      <th>36</th>\n",
       "      <td>1</td>\n",
       "      <td>3</td>\n",
       "      <td>male</td>\n",
       "      <td>NaN</td>\n",
       "      <td>0</td>\n",
       "      <td>0</td>\n",
       "      <td>7.2292</td>\n",
       "      <td>C</td>\n",
       "      <td>Third</td>\n",
       "      <td>man</td>\n",
       "      <td>True</td>\n",
       "      <td>NaN</td>\n",
       "      <td>Cherbourg</td>\n",
       "      <td>yes</td>\n",
       "      <td>True</td>\n",
       "    </tr>\n",
       "    <tr>\n",
       "      <th>39</th>\n",
       "      <td>1</td>\n",
       "      <td>3</td>\n",
       "      <td>female</td>\n",
       "      <td>14.0</td>\n",
       "      <td>1</td>\n",
       "      <td>0</td>\n",
       "      <td>11.2417</td>\n",
       "      <td>C</td>\n",
       "      <td>Third</td>\n",
       "      <td>child</td>\n",
       "      <td>False</td>\n",
       "      <td>NaN</td>\n",
       "      <td>Cherbourg</td>\n",
       "      <td>yes</td>\n",
       "      <td>False</td>\n",
       "    </tr>\n",
       "    <tr>\n",
       "      <th>42</th>\n",
       "      <td>0</td>\n",
       "      <td>3</td>\n",
       "      <td>male</td>\n",
       "      <td>NaN</td>\n",
       "      <td>0</td>\n",
       "      <td>0</td>\n",
       "      <td>7.8958</td>\n",
       "      <td>C</td>\n",
       "      <td>Third</td>\n",
       "      <td>man</td>\n",
       "      <td>True</td>\n",
       "      <td>NaN</td>\n",
       "      <td>Cherbourg</td>\n",
       "      <td>no</td>\n",
       "      <td>True</td>\n",
       "    </tr>\n",
       "  </tbody>\n",
       "</table>\n",
       "</div>"
      ],
      "text/plain": [
       "    survived  pclass     sex   age  sibsp  parch      fare embarked   class    who  adult_male deck embark_town alive  alone\n",
       "1          1       1  female  38.0      1      0   71.2833        C   First  woman       False    C   Cherbourg   yes  False\n",
       "9          1       2  female  14.0      1      0   30.0708        C  Second  child       False  NaN   Cherbourg   yes  False\n",
       "19         1       3  female   NaN      0      0    7.2250        C   Third  woman       False  NaN   Cherbourg   yes   True\n",
       "26         0       3    male   NaN      0      0    7.2250        C   Third    man        True  NaN   Cherbourg    no   True\n",
       "30         0       1    male  40.0      0      0   27.7208        C   First    man        True  NaN   Cherbourg    no   True\n",
       "31         1       1  female   NaN      1      0  146.5208        C   First  woman       False    B   Cherbourg   yes  False\n",
       "34         0       1    male  28.0      1      0   82.1708        C   First    man        True  NaN   Cherbourg    no  False\n",
       "36         1       3    male   NaN      0      0    7.2292        C   Third    man        True  NaN   Cherbourg   yes   True\n",
       "39         1       3  female  14.0      1      0   11.2417        C   Third  child       False  NaN   Cherbourg   yes  False\n",
       "42         0       3    male   NaN      0      0    7.8958        C   Third    man        True  NaN   Cherbourg    no   True"
      ]
     },
     "execution_count": 15,
     "metadata": {},
     "output_type": "execute_result"
    }
   ],
   "source": [
    "df[df[\"embarked\"] == \"C\"].head(10)"
   ]
  },
  {
   "cell_type": "markdown",
   "id": "3cf053d8",
   "metadata": {},
   "source": [
    "- **Görev 8**: embarked değeri S olmayanların tüm bilgelerini gösteriniz."
   ]
  },
  {
   "cell_type": "code",
   "execution_count": 16,
   "id": "16dcecd6",
   "metadata": {},
   "outputs": [
    {
     "data": {
      "text/plain": [
       "<bound method DataFrame.info of      survived  pclass     sex    age  sibsp  parch      fare embarked   class    who  adult_male deck embark_town alive  alone\n",
       "1           1       1  female  38.00      1      0   71.2833        C   First  woman       False    C   Cherbourg   yes  False\n",
       "5           0       3    male    NaN      0      0    8.4583        Q   Third    man        True  NaN  Queenstown    no   True\n",
       "9           1       2  female  14.00      1      0   30.0708        C  Second  child       False  NaN   Cherbourg   yes  False\n",
       "16          0       3    male   2.00      4      1   29.1250        Q   Third  child       False  NaN  Queenstown    no  False\n",
       "19          1       3  female    NaN      0      0    7.2250        C   Third  woman       False  NaN   Cherbourg   yes   True\n",
       "22          1       3  female  15.00      0      0    8.0292        Q   Third  child       False  NaN  Queenstown   yes   True\n",
       "26          0       3    male    NaN      0      0    7.2250        C   Third    man        True  NaN   Cherbourg    no   True\n",
       "28          1       3  female    NaN      0      0    7.8792        Q   Third  woman       False  NaN  Queenstown   yes   True\n",
       "30          0       1    male  40.00      0      0   27.7208        C   First    man        True  NaN   Cherbourg    no   True\n",
       "31          1       1  female    NaN      1      0  146.5208        C   First  woman       False    B   Cherbourg   yes  False\n",
       "32          1       3  female    NaN      0      0    7.7500        Q   Third  woman       False  NaN  Queenstown   yes   True\n",
       "34          0       1    male  28.00      1      0   82.1708        C   First    man        True  NaN   Cherbourg    no  False\n",
       "36          1       3    male    NaN      0      0    7.2292        C   Third    man        True  NaN   Cherbourg   yes   True\n",
       "39          1       3  female  14.00      1      0   11.2417        C   Third  child       False  NaN   Cherbourg   yes  False\n",
       "42          0       3    male    NaN      0      0    7.8958        C   Third    man        True  NaN   Cherbourg    no   True\n",
       "43          1       2  female   3.00      1      2   41.5792        C  Second  child       False  NaN   Cherbourg   yes  False\n",
       "44          1       3  female  19.00      0      0    7.8792        Q   Third  woman       False  NaN  Queenstown   yes   True\n",
       "46          0       3    male    NaN      1      0   15.5000        Q   Third    man        True  NaN  Queenstown    no  False\n",
       "47          1       3  female    NaN      0      0    7.7500        Q   Third  woman       False  NaN  Queenstown   yes   True\n",
       "48          0       3    male    NaN      2      0   21.6792        C   Third    man        True  NaN   Cherbourg    no  False\n",
       "52          1       1  female  49.00      1      0   76.7292        C   First  woman       False    D   Cherbourg   yes  False\n",
       "54          0       1    male  65.00      0      1   61.9792        C   First    man        True    B   Cherbourg    no  False\n",
       "57          0       3    male  28.50      0      0    7.2292        C   Third    man        True  NaN   Cherbourg    no   True\n",
       "60          0       3    male  22.00      0      0    7.2292        C   Third    man        True  NaN   Cherbourg    no   True\n",
       "61          1       1  female  38.00      0      0   80.0000      NaN   First  woman       False    B         NaN   yes   True\n",
       "64          0       1    male    NaN      0      0   27.7208        C   First    man        True  NaN   Cherbourg    no   True\n",
       "65          1       3    male    NaN      1      1   15.2458        C   Third    man        True  NaN   Cherbourg   yes  False\n",
       "73          0       3    male  26.00      1      0   14.4542        C   Third    man        True  NaN   Cherbourg    no  False\n",
       "82          1       3  female    NaN      0      0    7.7875        Q   Third  woman       False  NaN  Queenstown   yes   True\n",
       "96          0       1    male  71.00      0      0   34.6542        C   First    man        True    A   Cherbourg    no   True\n",
       "97          1       1    male  23.00      0      1   63.3583        C   First    man        True    D   Cherbourg   yes  False\n",
       "109         1       3  female    NaN      1      0   24.1500        Q   Third  woman       False  NaN  Queenstown   yes  False\n",
       "111         0       3  female  14.50      1      0   14.4542        C   Third  child       False  NaN   Cherbourg    no  False\n",
       "114         0       3  female  17.00      0      0   14.4583        C   Third  woman       False  NaN   Cherbourg    no   True\n",
       "116         0       3    male  70.50      0      0    7.7500        Q   Third    man        True  NaN  Queenstown    no   True\n",
       "118         0       1    male  24.00      0      1  247.5208        C   First    man        True    B   Cherbourg    no  False\n",
       "122         0       2    male  32.50      1      0   30.0708        C  Second    man        True  NaN   Cherbourg    no  False\n",
       "125         1       3    male  12.00      1      0   11.2417        C   Third  child       False  NaN   Cherbourg   yes  False\n",
       "126         0       3    male    NaN      0      0    7.7500        Q   Third    man        True  NaN  Queenstown    no   True\n",
       "128         1       3  female    NaN      1      1   22.3583        C   Third  woman       False    F   Cherbourg   yes  False\n",
       "130         0       3    male  33.00      0      0    7.8958        C   Third    man        True  NaN   Cherbourg    no   True\n",
       "135         0       2    male  23.00      0      0   15.0458        C  Second    man        True  NaN   Cherbourg    no   True\n",
       "139         0       1    male  24.00      0      0   79.2000        C   First    man        True    B   Cherbourg    no   True\n",
       "140         0       3  female    NaN      0      2   15.2458        C   Third  woman       False  NaN   Cherbourg    no  False\n",
       "143         0       3    male  19.00      0      0    6.7500        Q   Third    man        True  NaN  Queenstown    no   True\n",
       "155         0       1    male  51.00      0      1   61.3792        C   First    man        True  NaN   Cherbourg    no  False\n",
       "156         1       3  female  16.00      0      0    7.7333        Q   Third  woman       False  NaN  Queenstown   yes   True\n",
       "171         0       3    male   4.00      4      1   29.1250        Q   Third  child       False  NaN  Queenstown    no  False\n",
       "174         0       1    male  56.00      0      0   30.6958        C   First    man        True    A   Cherbourg    no   True\n",
       "177         0       1  female  50.00      0      0   28.7125        C   First  woman       False    C   Cherbourg    no   True\n",
       "181         0       2    male    NaN      0      0   15.0500        C  Second    man        True  NaN   Cherbourg    no   True\n",
       "186         1       3  female    NaN      1      0   15.5000        Q   Third  woman       False  NaN  Queenstown   yes  False\n",
       "188         0       3    male  40.00      1      1   15.5000        Q   Third    man        True  NaN  Queenstown    no  False\n",
       "194         1       1  female  44.00      0      0   27.7208        C   First  woman       False    B   Cherbourg   yes   True\n",
       "195         1       1  female  58.00      0      0  146.5208        C   First  woman       False    B   Cherbourg   yes   True\n",
       "196         0       3    male    NaN      0      0    7.7500        Q   Third    man        True  NaN  Queenstown    no   True\n",
       "198         1       3  female    NaN      0      0    7.7500        Q   Third  woman       False  NaN  Queenstown   yes   True\n",
       "203         0       3    male  45.50      0      0    7.2250        C   Third    man        True  NaN   Cherbourg    no   True\n",
       "207         1       3    male  26.00      0      0   18.7875        C   Third    man        True  NaN   Cherbourg   yes   True\n",
       "208         1       3  female  16.00      0      0    7.7500        Q   Third  woman       False  NaN  Queenstown   yes   True\n",
       "209         1       1    male  40.00      0      0   31.0000        C   First    man        True    A   Cherbourg   yes   True\n",
       "214         0       3    male    NaN      1      0    7.7500        Q   Third    man        True  NaN  Queenstown    no  False\n",
       "215         1       1  female  31.00      1      0  113.2750        C   First  woman       False    D   Cherbourg   yes  False\n",
       "218         1       1  female  32.00      0      0   76.2917        C   First  woman       False    D   Cherbourg   yes   True\n",
       "240         0       3  female    NaN      1      0   14.4542        C   Third  woman       False  NaN   Cherbourg    no  False\n",
       "241         1       3  female    NaN      1      0   15.5000        Q   Third  woman       False  NaN  Queenstown   yes  False\n",
       "244         0       3    male  30.00      0      0    7.2250        C   Third    man        True  NaN   Cherbourg    no   True\n",
       "245         0       1    male  44.00      2      0   90.0000        Q   First    man        True    C  Queenstown    no  False\n",
       "255         1       3  female  29.00      0      2   15.2458        C   Third  woman       False  NaN   Cherbourg   yes  False\n",
       "256         1       1  female    NaN      0      0   79.2000        C   First  woman       False  NaN   Cherbourg   yes   True\n",
       "258         1       1  female  35.00      0      0  512.3292        C   First  woman       False  NaN   Cherbourg   yes   True\n",
       "260         0       3    male    NaN      0      0    7.7500        Q   Third    man        True  NaN  Queenstown    no   True\n",
       "264         0       3  female    NaN      0      0    7.7500        Q   Third  woman       False  NaN  Queenstown    no   True\n",
       "273         0       1    male  37.00      0      1   29.7000        C   First    man        True    C   Cherbourg    no  False\n",
       "274         1       3  female    NaN      0      0    7.7500        Q   Third  woman       False  NaN  Queenstown   yes   True\n",
       "278         0       3    male   7.00      4      1   29.1250        Q   Third  child       False  NaN  Queenstown    no  False\n",
       "280         0       3    male  65.00      0      0    7.7500        Q   Third    man        True  NaN  Queenstown    no   True\n",
       "285         0       3    male  33.00      0      0    8.6625        C   Third    man        True  NaN   Cherbourg    no   True\n",
       "289         1       3  female  22.00      0      0    7.7500        Q   Third  woman       False  NaN  Queenstown   yes   True\n",
       "291         1       1  female  19.00      1      0   91.0792        C   First  woman       False    B   Cherbourg   yes  False\n",
       "292         0       2    male  36.00      0      0   12.8750        C  Second    man        True    D   Cherbourg    no   True\n",
       "295         0       1    male    NaN      0      0   27.7208        C   First    man        True  NaN   Cherbourg    no   True\n",
       "296         0       3    male  23.50      0      0    7.2292        C   Third    man        True  NaN   Cherbourg    no   True\n",
       "299         1       1  female  50.00      0      1  247.5208        C   First  woman       False    B   Cherbourg   yes  False\n",
       "300         1       3  female    NaN      0      0    7.7500        Q   Third  woman       False  NaN  Queenstown   yes   True\n",
       "301         1       3    male    NaN      2      0   23.2500        Q   Third    man        True  NaN  Queenstown   yes  False\n",
       "303         1       2  female    NaN      0      0   12.3500        Q  Second  woman       False    E  Queenstown   yes   True\n",
       "306         1       1  female    NaN      0      0  110.8833        C   First  woman       False  NaN   Cherbourg   yes   True\n",
       "307         1       1  female  17.00      1      0  108.9000        C   First  woman       False    C   Cherbourg   yes  False\n",
       "308         0       2    male  30.00      1      0   24.0000        C  Second    man        True  NaN   Cherbourg    no  False\n",
       "309         1       1  female  30.00      0      0   56.9292        C   First  woman       False    E   Cherbourg   yes   True\n",
       "310         1       1  female  24.00      0      0   83.1583        C   First  woman       False    C   Cherbourg   yes   True\n",
       "311         1       1  female  18.00      2      2  262.3750        C   First  woman       False    B   Cherbourg   yes  False\n",
       "319         1       1  female  40.00      1      1  134.5000        C   First  woman       False    E   Cherbourg   yes  False\n",
       "322         1       2  female  30.00      0      0   12.3500        Q  Second  woman       False  NaN  Queenstown   yes   True\n",
       "325         1       1  female  36.00      0      0  135.6333        C   First  woman       False    C   Cherbourg   yes   True\n",
       "329         1       1  female  16.00      0      1   57.9792        C   First  woman       False    B   Cherbourg   yes  False\n",
       "330         1       3  female    NaN      2      0   23.2500        Q   Third  woman       False  NaN  Queenstown   yes  False\n",
       "337         1       1  female  41.00      0      0  134.5000        C   First  woman       False    E   Cherbourg   yes   True\n",
       "352         0       3    male  15.00      1      1    7.2292        C   Third  child       False  NaN   Cherbourg    no  False\n",
       "354         0       3    male    NaN      0      0    7.2250        C   Third    man        True  NaN   Cherbourg    no   True\n",
       "358         1       3  female    NaN      0      0    7.8792        Q   Third  woman       False  NaN  Queenstown   yes   True\n",
       "359         1       3  female    NaN      0      0    7.8792        Q   Third  woman       False  NaN  Queenstown   yes   True\n",
       "361         0       2    male  29.00      1      0   27.7208        C  Second    man        True  NaN   Cherbourg    no  False\n",
       "362         0       3  female  45.00      0      1   14.4542        C   Third  woman       False  NaN   Cherbourg    no  False\n",
       "364         0       3    male    NaN      1      0   15.5000        Q   Third    man        True  NaN  Queenstown    no  False\n",
       "366         1       1  female  60.00      1      0   75.2500        C   First  woman       False    D   Cherbourg   yes  False\n",
       "367         1       3  female    NaN      0      0    7.2292        C   Third  woman       False  NaN   Cherbourg   yes   True\n",
       "368         1       3  female    NaN      0      0    7.7500        Q   Third  woman       False  NaN  Queenstown   yes   True\n",
       "369         1       1  female  24.00      0      0   69.3000        C   First  woman       False    B   Cherbourg   yes   True\n",
       "370         1       1    male  25.00      1      0   55.4417        C   First    man        True    E   Cherbourg   yes  False\n",
       "373         0       1    male  22.00      0      0  135.6333        C   First    man        True  NaN   Cherbourg    no   True\n",
       "375         1       1  female    NaN      1      0   82.1708        C   First  woman       False  NaN   Cherbourg   yes  False\n",
       "377         0       1    male  27.00      0      2  211.5000        C   First    man        True    C   Cherbourg    no  False\n",
       "378         0       3    male  20.00      0      0    4.0125        C   Third    man        True  NaN   Cherbourg    no   True\n",
       "380         1       1  female  42.00      0      0  227.5250        C   First  woman       False  NaN   Cherbourg   yes   True\n",
       "381         1       3  female   1.00      0      2   15.7417        C   Third  child       False  NaN   Cherbourg   yes  False\n",
       "388         0       3    male    NaN      0      0    7.7292        Q   Third    man        True  NaN  Queenstown    no   True\n",
       "389         1       2  female  17.00      0      0   12.0000        C  Second  woman       False  NaN   Cherbourg   yes   True\n",
       "393         1       1  female  23.00      1      0  113.2750        C   First  woman       False    D   Cherbourg   yes  False\n",
       "411         0       3    male    NaN      0      0    6.8583        Q   Third    man        True  NaN  Queenstown    no   True\n",
       "412         1       1  female  33.00      1      0   90.0000        Q   First  woman       False    C  Queenstown   yes  False\n",
       "420         0       3    male    NaN      0      0    7.8958        C   Third    man        True  NaN   Cherbourg    no   True\n",
       "421         0       3    male  21.00      0      0    7.7333        Q   Third    man        True  NaN  Queenstown    no   True\n",
       "428         0       3    male    NaN      0      0    7.7500        Q   Third    man        True  NaN  Queenstown    no   True\n",
       "448         1       3  female   5.00      2      1   19.2583        C   Third  child       False  NaN   Cherbourg   yes  False\n",
       "452         0       1    male  30.00      0      0   27.7500        C   First    man        True    C   Cherbourg    no   True\n",
       "453         1       1    male  49.00      1      0   89.1042        C   First    man        True    C   Cherbourg   yes  False\n",
       "455         1       3    male  29.00      0      0    7.8958        C   Third    man        True  NaN   Cherbourg   yes   True\n",
       "459         0       3    male    NaN      0      0    7.7500        Q   Third    man        True  NaN  Queenstown    no   True\n",
       "468         0       3    male    NaN      0      0    7.7250        Q   Third    man        True  NaN  Queenstown    no   True\n",
       "469         1       3  female   0.75      2      1   19.2583        C   Third  child       False  NaN   Cherbourg   yes  False\n",
       "473         1       2  female  23.00      0      0   13.7917        C  Second  woman       False    D   Cherbourg   yes   True\n",
       "484         1       1    male  25.00      1      0   91.0792        C   First    man        True    B   Cherbourg   yes  False\n",
       "487         0       1    male  58.00      0      0   29.7000        C   First    man        True    B   Cherbourg    no   True\n",
       "493         0       1    male  71.00      0      0   49.5042        C   First    man        True  NaN   Cherbourg    no   True\n",
       "495         0       3    male    NaN      0      0   14.4583        C   Third    man        True  NaN   Cherbourg    no   True\n",
       "496         1       1  female  54.00      1      0   78.2667        C   First  woman       False    D   Cherbourg   yes  False\n",
       "501         0       3  female  21.00      0      0    7.7500        Q   Third  woman       False  NaN  Queenstown    no   True\n",
       "502         0       3  female    NaN      0      0    7.6292        Q   Third  woman       False  NaN  Queenstown    no   True\n",
       "505         0       1    male  18.00      1      0  108.9000        C   First    man        True    C   Cherbourg    no  False\n",
       "510         1       3    male  29.00      0      0    7.7500        Q   Third    man        True  NaN  Queenstown   yes   True\n",
       "513         1       1  female  54.00      1      0   59.4000        C   First  woman       False  NaN   Cherbourg   yes  False\n",
       "517         0       3    male    NaN      0      0   24.1500        Q   Third    man        True  NaN  Queenstown    no   True\n",
       "522         0       3    male    NaN      0      0    7.2250        C   Third    man        True  NaN   Cherbourg    no   True\n",
       "523         1       1  female  44.00      0      1   57.9792        C   First  woman       False    B   Cherbourg   yes  False\n",
       "524         0       3    male    NaN      0      0    7.2292        C   Third    man        True  NaN   Cherbourg    no   True\n",
       "525         0       3    male  40.50      0      0    7.7500        Q   Third    man        True  NaN  Queenstown    no   True\n",
       "531         0       3    male    NaN      0      0    7.2292        C   Third    man        True  NaN   Cherbourg    no   True\n",
       "532         0       3    male  17.00      1      1    7.2292        C   Third    man        True  NaN   Cherbourg    no  False\n",
       "533         1       3  female    NaN      0      2   22.3583        C   Third  woman       False  NaN   Cherbourg   yes  False\n",
       "537         1       1  female  30.00      0      0  106.4250        C   First  woman       False  NaN   Cherbourg   yes   True\n",
       "539         1       1  female  22.00      0      2   49.5000        C   First  woman       False    B   Cherbourg   yes  False\n",
       "544         0       1    male  50.00      1      0  106.4250        C   First    man        True    C   Cherbourg    no  False\n",
       "547         1       2    male    NaN      0      0   13.8625        C  Second    man        True  NaN   Cherbourg   yes   True\n",
       "550         1       1    male  17.00      0      2  110.8833        C   First    man        True    C   Cherbourg   yes  False\n",
       "552         0       3    male    NaN      0      0    7.8292        Q   Third    man        True  NaN  Queenstown    no   True\n",
       "553         1       3    male  22.00      0      0    7.2250        C   Third    man        True  NaN   Cherbourg   yes   True\n",
       "556         1       1  female  48.00      1      0   39.6000        C   First  woman       False    A   Cherbourg   yes  False\n",
       "557         0       1    male    NaN      0      0  227.5250        C   First    man        True  NaN   Cherbourg    no   True\n",
       "560         0       3    male    NaN      0      0    7.7500        Q   Third    man        True  NaN  Queenstown    no   True\n",
       "568         0       3    male    NaN      0      0    7.2292        C   Third    man        True  NaN   Cherbourg    no   True\n",
       "573         1       3  female    NaN      0      0    7.7500        Q   Third  woman       False  NaN  Queenstown   yes   True\n",
       "578         0       3  female    NaN      1      0   14.4583        C   Third  woman       False  NaN   Cherbourg    no  False\n",
       "581         1       1  female  39.00      1      1  110.8833        C   First  woman       False    C   Cherbourg   yes  False\n",
       "583         0       1    male  36.00      0      0   40.1250        C   First    man        True    A   Cherbourg    no   True\n",
       "584         0       3    male    NaN      0      0    8.7125        C   Third    man        True  NaN   Cherbourg    no   True\n",
       "587         1       1    male  60.00      1      1   79.2000        C   First    man        True    B   Cherbourg   yes  False\n",
       "591         1       1  female  52.00      1      0   78.2667        C   First  woman       False    D   Cherbourg   yes  False\n",
       "593         0       3  female    NaN      0      2    7.7500        Q   Third  woman       False  NaN  Queenstown    no  False\n",
       "598         0       3    male    NaN      0      0    7.2250        C   Third    man        True  NaN   Cherbourg    no   True\n",
       "599         1       1    male  49.00      1      0   56.9292        C   First    man        True    A   Cherbourg   yes  False\n",
       "604         1       1    male  35.00      0      0   26.5500        C   First    man        True  NaN   Cherbourg   yes   True\n",
       "608         1       2  female  22.00      1      2   41.5792        C  Second  woman       False  NaN   Cherbourg   yes  False\n",
       "612         1       3  female    NaN      1      0   15.5000        Q   Third  woman       False  NaN  Queenstown   yes  False\n",
       "613         0       3    male    NaN      0      0    7.7500        Q   Third    man        True  NaN  Queenstown    no   True\n",
       "620         0       3    male  27.00      1      0   14.4542        C   Third    man        True  NaN   Cherbourg    no  False\n",
       "622         1       3    male  20.00      1      1   15.7417        C   Third    man        True  NaN   Cherbourg   yes  False\n",
       "626         0       2    male  57.00      0      0   12.3500        Q  Second    man        True  NaN  Queenstown    no   True\n",
       "629         0       3    male    NaN      0      0    7.7333        Q   Third    man        True  NaN  Queenstown    no   True\n",
       "632         1       1    male  32.00      0      0   30.5000        C   First    man        True    B   Cherbourg   yes   True\n",
       "641         1       1  female  24.00      0      0   69.3000        C   First  woman       False    B   Cherbourg   yes   True\n",
       "644         1       3  female   0.75      2      1   19.2583        C   Third  child       False  NaN   Cherbourg   yes  False\n",
       "645         1       1    male  48.00      1      0   76.7292        C   First    man        True    D   Cherbourg   yes  False\n",
       "647         1       1    male  56.00      0      0   35.5000        C   First    man        True    A   Cherbourg   yes   True\n",
       "653         1       3  female    NaN      0      0    7.8292        Q   Third  woman       False  NaN  Queenstown   yes   True\n",
       "654         0       3  female  18.00      0      0    6.7500        Q   Third  woman       False  NaN  Queenstown    no   True\n",
       "657         0       3  female  32.00      1      1   15.5000        Q   Third  woman       False  NaN  Queenstown    no  False\n",
       "659         0       1    male  58.00      0      2  113.2750        C   First    man        True    D   Cherbourg    no  False\n",
       "661         0       3    male  40.00      0      0    7.2250        C   Third    man        True  NaN   Cherbourg    no   True\n",
       "679         1       1    male  36.00      0      1  512.3292        C   First    man        True    B   Cherbourg   yes  False\n",
       "680         0       3  female    NaN      0      0    8.1375        Q   Third  woman       False  NaN  Queenstown    no   True\n",
       "681         1       1    male  27.00      0      0   76.7292        C   First    man        True    D   Cherbourg   yes   True\n",
       "685         0       2    male  25.00      1      2   41.5792        C  Second    man        True  NaN   Cherbourg    no  False\n",
       "691         1       3  female   4.00      0      1   13.4167        C   Third  child       False  NaN   Cherbourg   yes  False\n",
       "693         0       3    male  25.00      0      0    7.2250        C   Third    man        True  NaN   Cherbourg    no   True\n",
       "697         1       3  female    NaN      0      0    7.7333        Q   Third  woman       False  NaN  Queenstown   yes   True\n",
       "698         0       1    male  49.00      1      1  110.8833        C   First    man        True    C   Cherbourg    no  False\n",
       "700         1       1  female  18.00      1      0  227.5250        C   First  woman       False    C   Cherbourg   yes  False\n",
       "702         0       3  female  18.00      0      1   14.4542        C   Third  woman       False  NaN   Cherbourg    no  False\n",
       "703         0       3    male  25.00      0      0    7.7417        Q   Third    man        True  NaN  Queenstown    no   True\n",
       "709         1       3    male    NaN      1      1   15.2458        C   Third    man        True  NaN   Cherbourg   yes  False\n",
       "710         1       1  female  24.00      0      0   49.5042        C   First  woman       False    C   Cherbourg   yes   True\n",
       "716         1       1  female  38.00      0      0  227.5250        C   First  woman       False    C   Cherbourg   yes   True\n",
       "718         0       3    male    NaN      0      0   15.5000        Q   Third    man        True  NaN  Queenstown    no   True\n",
       "727         1       3  female    NaN      0      0    7.7375        Q   Third  woman       False  NaN  Queenstown   yes   True\n",
       "731         0       3    male  11.00      0      0   18.7875        C   Third  child       False  NaN   Cherbourg    no   True\n",
       "737         1       1    male  35.00      0      0  512.3292        C   First    man        True    B   Cherbourg   yes   True\n",
       "742         1       1  female  21.00      2      2  262.3750        C   First  woman       False    B   Cherbourg   yes  False\n",
       "749         0       3    male  31.00      0      0    7.7500        Q   Third    man        True  NaN  Queenstown    no   True\n",
       "762         1       3    male  20.00      0      0    7.2292        C   Third    man        True  NaN   Cherbourg   yes   True\n",
       "766         0       1    male    NaN      0      0   39.6000        C   First    man        True  NaN   Cherbourg    no   True\n",
       "767         0       3  female  30.50      0      0    7.7500        Q   Third  woman       False  NaN  Queenstown    no   True\n",
       "768         0       3    male    NaN      1      0   24.1500        Q   Third    man        True  NaN  Queenstown    no  False\n",
       "773         0       3    male    NaN      0      0    7.2250        C   Third    man        True  NaN   Cherbourg    no   True\n",
       "776         0       3    male    NaN      0      0    7.7500        Q   Third    man        True    F  Queenstown    no   True\n",
       "778         0       3    male    NaN      0      0    7.7375        Q   Third    man        True  NaN  Queenstown    no   True\n",
       "780         1       3  female  13.00      0      0    7.2292        C   Third  child       False  NaN   Cherbourg   yes   True\n",
       "787         0       3    male   8.00      4      1   29.1250        Q   Third  child       False  NaN  Queenstown    no  False\n",
       "789         0       1    male  46.00      0      0   79.2000        C   First    man        True    B   Cherbourg    no   True\n",
       "790         0       3    male    NaN      0      0    7.7500        Q   Third    man        True  NaN  Queenstown    no   True\n",
       "793         0       1    male    NaN      0      0   30.6958        C   First    man        True  NaN   Cherbourg    no   True\n",
       "798         0       3    male  30.00      0      0    7.2292        C   Third    man        True  NaN   Cherbourg    no   True\n",
       "803         1       3    male   0.42      0      1    8.5167        C   Third  child       False  NaN   Cherbourg   yes  False\n",
       "817         0       2    male  31.00      1      1   37.0042        C  Second    man        True  NaN   Cherbourg    no  False\n",
       "825         0       3    male    NaN      0      0    6.9500        Q   Third    man        True  NaN  Queenstown    no   True\n",
       "827         1       2    male   1.00      0      2   37.0042        C  Second  child       False  NaN   Cherbourg   yes  False\n",
       "828         1       3    male    NaN      0      0    7.7500        Q   Third    man        True  NaN  Queenstown   yes   True\n",
       "829         1       1  female  62.00      0      0   80.0000      NaN   First  woman       False    B         NaN   yes   True\n",
       "830         1       3  female  15.00      1      0   14.4542        C   Third  child       False  NaN   Cherbourg   yes  False\n",
       "832         0       3    male    NaN      0      0    7.2292        C   Third    man        True  NaN   Cherbourg    no   True\n",
       "835         1       1  female  39.00      1      1   83.1583        C   First  woman       False    E   Cherbourg   yes  False\n",
       "839         1       1    male    NaN      0      0   29.7000        C   First    man        True    C   Cherbourg   yes   True\n",
       "842         1       1  female  30.00      0      0   31.0000        C   First  woman       False  NaN   Cherbourg   yes   True\n",
       "843         0       3    male  34.50      0      0    6.4375        C   Third    man        True  NaN   Cherbourg    no   True\n",
       "847         0       3    male  35.00      0      0    7.8958        C   Third    man        True  NaN   Cherbourg    no   True\n",
       "849         1       1  female    NaN      1      0   89.1042        C   First  woman       False    C   Cherbourg   yes  False\n",
       "852         0       3  female   9.00      1      1   15.2458        C   Third  child       False  NaN   Cherbourg    no  False\n",
       "858         1       3  female  24.00      0      3   19.2583        C   Third  woman       False  NaN   Cherbourg   yes  False\n",
       "859         0       3    male    NaN      0      0    7.2292        C   Third    man        True  NaN   Cherbourg    no   True\n",
       "866         1       2  female  27.00      1      0   13.8583        C  Second  woman       False  NaN   Cherbourg   yes  False\n",
       "874         1       2  female  28.00      1      0   24.0000        C  Second  woman       False  NaN   Cherbourg   yes  False\n",
       "875         1       3  female  15.00      0      0    7.2250        C   Third  child       False  NaN   Cherbourg   yes   True\n",
       "879         1       1  female  56.00      0      1   83.1583        C   First  woman       False    C   Cherbourg   yes  False\n",
       "885         0       3  female  39.00      0      5   29.1250        Q   Third  woman       False  NaN  Queenstown    no  False\n",
       "889         1       1    male  26.00      0      0   30.0000        C   First    man        True    C   Cherbourg   yes   True\n",
       "890         0       3    male  32.00      0      0    7.7500        Q   Third    man        True  NaN  Queenstown    no   True>"
      ]
     },
     "execution_count": 16,
     "metadata": {},
     "output_type": "execute_result"
    }
   ],
   "source": [
    "df[df[\"embarked\"] != \"S\"].info"
   ]
  },
  {
   "cell_type": "markdown",
   "id": "fe32f043",
   "metadata": {},
   "source": [
    "- **Görev 9**: Yaşı 30 dan küçük ve kadın olan yolcuların tüm bilgilerini gösteriniz."
   ]
  },
  {
   "cell_type": "code",
   "execution_count": 17,
   "id": "cb7092c5",
   "metadata": {},
   "outputs": [
    {
     "data": {
      "text/html": [
       "<div>\n",
       "<style scoped>\n",
       "    .dataframe tbody tr th:only-of-type {\n",
       "        vertical-align: middle;\n",
       "    }\n",
       "\n",
       "    .dataframe tbody tr th {\n",
       "        vertical-align: top;\n",
       "    }\n",
       "\n",
       "    .dataframe thead th {\n",
       "        text-align: right;\n",
       "    }\n",
       "</style>\n",
       "<table border=\"1\" class=\"dataframe\">\n",
       "  <thead>\n",
       "    <tr style=\"text-align: right;\">\n",
       "      <th></th>\n",
       "      <th>survived</th>\n",
       "      <th>pclass</th>\n",
       "      <th>sex</th>\n",
       "      <th>age</th>\n",
       "      <th>sibsp</th>\n",
       "      <th>parch</th>\n",
       "      <th>fare</th>\n",
       "      <th>embarked</th>\n",
       "      <th>class</th>\n",
       "      <th>who</th>\n",
       "      <th>adult_male</th>\n",
       "      <th>deck</th>\n",
       "      <th>embark_town</th>\n",
       "      <th>alive</th>\n",
       "      <th>alone</th>\n",
       "    </tr>\n",
       "  </thead>\n",
       "  <tbody>\n",
       "    <tr>\n",
       "      <th>2</th>\n",
       "      <td>1</td>\n",
       "      <td>3</td>\n",
       "      <td>female</td>\n",
       "      <td>26.0</td>\n",
       "      <td>0</td>\n",
       "      <td>0</td>\n",
       "      <td>7.9250</td>\n",
       "      <td>S</td>\n",
       "      <td>Third</td>\n",
       "      <td>woman</td>\n",
       "      <td>False</td>\n",
       "      <td>NaN</td>\n",
       "      <td>Southampton</td>\n",
       "      <td>yes</td>\n",
       "      <td>True</td>\n",
       "    </tr>\n",
       "    <tr>\n",
       "      <th>8</th>\n",
       "      <td>1</td>\n",
       "      <td>3</td>\n",
       "      <td>female</td>\n",
       "      <td>27.0</td>\n",
       "      <td>0</td>\n",
       "      <td>2</td>\n",
       "      <td>11.1333</td>\n",
       "      <td>S</td>\n",
       "      <td>Third</td>\n",
       "      <td>woman</td>\n",
       "      <td>False</td>\n",
       "      <td>NaN</td>\n",
       "      <td>Southampton</td>\n",
       "      <td>yes</td>\n",
       "      <td>False</td>\n",
       "    </tr>\n",
       "    <tr>\n",
       "      <th>9</th>\n",
       "      <td>1</td>\n",
       "      <td>2</td>\n",
       "      <td>female</td>\n",
       "      <td>14.0</td>\n",
       "      <td>1</td>\n",
       "      <td>0</td>\n",
       "      <td>30.0708</td>\n",
       "      <td>C</td>\n",
       "      <td>Second</td>\n",
       "      <td>child</td>\n",
       "      <td>False</td>\n",
       "      <td>NaN</td>\n",
       "      <td>Cherbourg</td>\n",
       "      <td>yes</td>\n",
       "      <td>False</td>\n",
       "    </tr>\n",
       "    <tr>\n",
       "      <th>10</th>\n",
       "      <td>1</td>\n",
       "      <td>3</td>\n",
       "      <td>female</td>\n",
       "      <td>4.0</td>\n",
       "      <td>1</td>\n",
       "      <td>1</td>\n",
       "      <td>16.7000</td>\n",
       "      <td>S</td>\n",
       "      <td>Third</td>\n",
       "      <td>child</td>\n",
       "      <td>False</td>\n",
       "      <td>G</td>\n",
       "      <td>Southampton</td>\n",
       "      <td>yes</td>\n",
       "      <td>False</td>\n",
       "    </tr>\n",
       "    <tr>\n",
       "      <th>14</th>\n",
       "      <td>0</td>\n",
       "      <td>3</td>\n",
       "      <td>female</td>\n",
       "      <td>14.0</td>\n",
       "      <td>0</td>\n",
       "      <td>0</td>\n",
       "      <td>7.8542</td>\n",
       "      <td>S</td>\n",
       "      <td>Third</td>\n",
       "      <td>child</td>\n",
       "      <td>False</td>\n",
       "      <td>NaN</td>\n",
       "      <td>Southampton</td>\n",
       "      <td>no</td>\n",
       "      <td>True</td>\n",
       "    </tr>\n",
       "  </tbody>\n",
       "</table>\n",
       "</div>"
      ],
      "text/plain": [
       "    survived  pclass     sex   age  sibsp  parch     fare embarked   class    who  adult_male deck  embark_town alive  alone\n",
       "2          1       3  female  26.0      0      0   7.9250        S   Third  woman       False  NaN  Southampton   yes   True\n",
       "8          1       3  female  27.0      0      2  11.1333        S   Third  woman       False  NaN  Southampton   yes  False\n",
       "9          1       2  female  14.0      1      0  30.0708        C  Second  child       False  NaN    Cherbourg   yes  False\n",
       "10         1       3  female   4.0      1      1  16.7000        S   Third  child       False    G  Southampton   yes  False\n",
       "14         0       3  female  14.0      0      0   7.8542        S   Third  child       False  NaN  Southampton    no   True"
      ]
     },
     "execution_count": 17,
     "metadata": {},
     "output_type": "execute_result"
    }
   ],
   "source": [
    "df[(df[\"age\"] < 30) & (df[\"sex\"] == \"female\")].head()"
   ]
  },
  {
   "cell_type": "markdown",
   "id": "1cb8e33c",
   "metadata": {},
   "source": [
    "- **Görev 10**: Fare'i 500'den büyük veya yaşı 70 den büyük yolcuların bilgilerini gösteriniz."
   ]
  },
  {
   "cell_type": "code",
   "execution_count": 18,
   "id": "4953fa6a",
   "metadata": {},
   "outputs": [
    {
     "data": {
      "text/html": [
       "<div>\n",
       "<style scoped>\n",
       "    .dataframe tbody tr th:only-of-type {\n",
       "        vertical-align: middle;\n",
       "    }\n",
       "\n",
       "    .dataframe tbody tr th {\n",
       "        vertical-align: top;\n",
       "    }\n",
       "\n",
       "    .dataframe thead th {\n",
       "        text-align: right;\n",
       "    }\n",
       "</style>\n",
       "<table border=\"1\" class=\"dataframe\">\n",
       "  <thead>\n",
       "    <tr style=\"text-align: right;\">\n",
       "      <th></th>\n",
       "      <th>survived</th>\n",
       "      <th>pclass</th>\n",
       "      <th>sex</th>\n",
       "      <th>age</th>\n",
       "      <th>sibsp</th>\n",
       "      <th>parch</th>\n",
       "      <th>fare</th>\n",
       "      <th>embarked</th>\n",
       "      <th>class</th>\n",
       "      <th>who</th>\n",
       "      <th>adult_male</th>\n",
       "      <th>deck</th>\n",
       "      <th>embark_town</th>\n",
       "      <th>alive</th>\n",
       "      <th>alone</th>\n",
       "    </tr>\n",
       "  </thead>\n",
       "  <tbody>\n",
       "    <tr>\n",
       "      <th>96</th>\n",
       "      <td>0</td>\n",
       "      <td>1</td>\n",
       "      <td>male</td>\n",
       "      <td>71.0</td>\n",
       "      <td>0</td>\n",
       "      <td>0</td>\n",
       "      <td>34.6542</td>\n",
       "      <td>C</td>\n",
       "      <td>First</td>\n",
       "      <td>man</td>\n",
       "      <td>True</td>\n",
       "      <td>A</td>\n",
       "      <td>Cherbourg</td>\n",
       "      <td>no</td>\n",
       "      <td>True</td>\n",
       "    </tr>\n",
       "    <tr>\n",
       "      <th>116</th>\n",
       "      <td>0</td>\n",
       "      <td>3</td>\n",
       "      <td>male</td>\n",
       "      <td>70.5</td>\n",
       "      <td>0</td>\n",
       "      <td>0</td>\n",
       "      <td>7.7500</td>\n",
       "      <td>Q</td>\n",
       "      <td>Third</td>\n",
       "      <td>man</td>\n",
       "      <td>True</td>\n",
       "      <td>NaN</td>\n",
       "      <td>Queenstown</td>\n",
       "      <td>no</td>\n",
       "      <td>True</td>\n",
       "    </tr>\n",
       "    <tr>\n",
       "      <th>258</th>\n",
       "      <td>1</td>\n",
       "      <td>1</td>\n",
       "      <td>female</td>\n",
       "      <td>35.0</td>\n",
       "      <td>0</td>\n",
       "      <td>0</td>\n",
       "      <td>512.3292</td>\n",
       "      <td>C</td>\n",
       "      <td>First</td>\n",
       "      <td>woman</td>\n",
       "      <td>False</td>\n",
       "      <td>NaN</td>\n",
       "      <td>Cherbourg</td>\n",
       "      <td>yes</td>\n",
       "      <td>True</td>\n",
       "    </tr>\n",
       "    <tr>\n",
       "      <th>493</th>\n",
       "      <td>0</td>\n",
       "      <td>1</td>\n",
       "      <td>male</td>\n",
       "      <td>71.0</td>\n",
       "      <td>0</td>\n",
       "      <td>0</td>\n",
       "      <td>49.5042</td>\n",
       "      <td>C</td>\n",
       "      <td>First</td>\n",
       "      <td>man</td>\n",
       "      <td>True</td>\n",
       "      <td>NaN</td>\n",
       "      <td>Cherbourg</td>\n",
       "      <td>no</td>\n",
       "      <td>True</td>\n",
       "    </tr>\n",
       "    <tr>\n",
       "      <th>630</th>\n",
       "      <td>1</td>\n",
       "      <td>1</td>\n",
       "      <td>male</td>\n",
       "      <td>80.0</td>\n",
       "      <td>0</td>\n",
       "      <td>0</td>\n",
       "      <td>30.0000</td>\n",
       "      <td>S</td>\n",
       "      <td>First</td>\n",
       "      <td>man</td>\n",
       "      <td>True</td>\n",
       "      <td>A</td>\n",
       "      <td>Southampton</td>\n",
       "      <td>yes</td>\n",
       "      <td>True</td>\n",
       "    </tr>\n",
       "  </tbody>\n",
       "</table>\n",
       "</div>"
      ],
      "text/plain": [
       "     survived  pclass     sex   age  sibsp  parch      fare embarked  class    who  adult_male deck  embark_town alive  alone\n",
       "96          0       1    male  71.0      0      0   34.6542        C  First    man        True    A    Cherbourg    no   True\n",
       "116         0       3    male  70.5      0      0    7.7500        Q  Third    man        True  NaN   Queenstown    no   True\n",
       "258         1       1  female  35.0      0      0  512.3292        C  First  woman       False  NaN    Cherbourg   yes   True\n",
       "493         0       1    male  71.0      0      0   49.5042        C  First    man        True  NaN    Cherbourg    no   True\n",
       "630         1       1    male  80.0      0      0   30.0000        S  First    man        True    A  Southampton   yes   True"
      ]
     },
     "execution_count": 18,
     "metadata": {},
     "output_type": "execute_result"
    }
   ],
   "source": [
    "df[(df[\"fare\"] > 500) | (df[\"age\"] > 70)].head()"
   ]
  },
  {
   "cell_type": "markdown",
   "id": "02168d75",
   "metadata": {},
   "source": [
    "- **Görev 11**: Her bir değişkendeki boş değerlerin toplamını bulunuz."
   ]
  },
  {
   "cell_type": "code",
   "execution_count": 19,
   "id": "f9baae84",
   "metadata": {},
   "outputs": [
    {
     "data": {
      "text/plain": [
       "survived         0\n",
       "pclass           0\n",
       "sex              0\n",
       "age            177\n",
       "sibsp            0\n",
       "parch            0\n",
       "fare             0\n",
       "embarked         2\n",
       "class            0\n",
       "who              0\n",
       "adult_male       0\n",
       "deck           688\n",
       "embark_town      2\n",
       "alive            0\n",
       "alone            0\n",
       "dtype: int64"
      ]
     },
     "execution_count": 19,
     "metadata": {},
     "output_type": "execute_result"
    }
   ],
   "source": [
    "df.isnull().sum()"
   ]
  },
  {
   "cell_type": "markdown",
   "id": "01dbab6b",
   "metadata": {},
   "source": [
    "- **Görev 12**: who değişkenini dataframe'den düşürün."
   ]
  },
  {
   "cell_type": "code",
   "execution_count": 20,
   "id": "8d57be8a",
   "metadata": {},
   "outputs": [],
   "source": [
    "df.drop(\"who\", axis=1, inplace=True)"
   ]
  },
  {
   "cell_type": "markdown",
   "id": "3f6f79eb",
   "metadata": {},
   "source": [
    "- **Görev 13**: deck değikenindeki boş değerleri deck değişkenin en çok tekrar eden değeri (mode) ile doldurunuz."
   ]
  },
  {
   "cell_type": "code",
   "execution_count": 21,
   "id": "c63712c0",
   "metadata": {},
   "outputs": [
    {
     "data": {
      "text/plain": [
       "pandas.core.series.Series"
      ]
     },
     "execution_count": 21,
     "metadata": {},
     "output_type": "execute_result"
    }
   ],
   "source": [
    "type(df[\"deck\"].mode())"
   ]
  },
  {
   "cell_type": "code",
   "execution_count": 22,
   "id": "4581f896",
   "metadata": {},
   "outputs": [
    {
     "data": {
      "text/plain": [
       "'C'"
      ]
     },
     "execution_count": 22,
     "metadata": {},
     "output_type": "execute_result"
    }
   ],
   "source": [
    "df[\"deck\"].mode()[0]"
   ]
  },
  {
   "cell_type": "code",
   "execution_count": 23,
   "id": "852deb8c",
   "metadata": {},
   "outputs": [],
   "source": [
    "df[\"deck\"].fillna(df[\"deck\"].mode()[0], inplace=True)"
   ]
  },
  {
   "cell_type": "code",
   "execution_count": 24,
   "id": "f76156d6",
   "metadata": {},
   "outputs": [
    {
     "data": {
      "text/plain": [
       "0"
      ]
     },
     "execution_count": 24,
     "metadata": {},
     "output_type": "execute_result"
    }
   ],
   "source": [
    "df[\"deck\"].isnull().sum()"
   ]
  },
  {
   "cell_type": "markdown",
   "id": "44d5c5f9",
   "metadata": {},
   "source": [
    "- **Görev 14**: age değikenindeki boş değerleri age değişkenin medyanı ile doldurun."
   ]
  },
  {
   "cell_type": "code",
   "execution_count": 25,
   "id": "5a46df26",
   "metadata": {},
   "outputs": [
    {
     "data": {
      "text/plain": [
       "177"
      ]
     },
     "execution_count": 25,
     "metadata": {},
     "output_type": "execute_result"
    }
   ],
   "source": [
    "df[\"age\"].isnull().sum()"
   ]
  },
  {
   "cell_type": "code",
   "execution_count": 26,
   "id": "79561da9",
   "metadata": {},
   "outputs": [],
   "source": [
    "df[\"age\"].fillna(df[\"age\"].median(), inplace=True)"
   ]
  },
  {
   "cell_type": "code",
   "execution_count": 27,
   "id": "03970269",
   "metadata": {},
   "outputs": [
    {
     "data": {
      "text/plain": [
       "0"
      ]
     },
     "execution_count": 27,
     "metadata": {},
     "output_type": "execute_result"
    }
   ],
   "source": [
    "df[\"age\"].isnull().sum()"
   ]
  },
  {
   "cell_type": "markdown",
   "id": "00a7e015",
   "metadata": {},
   "source": [
    "- **Görev 15**: survived değişkeninin Pclass ve Cinsiyet değişkenleri kırılımınında sum, count, mean değerlerini bulunuz."
   ]
  },
  {
   "cell_type": "code",
   "execution_count": 28,
   "id": "4c9b478a",
   "metadata": {},
   "outputs": [
    {
     "data": {
      "text/html": [
       "<div>\n",
       "<style scoped>\n",
       "    .dataframe tbody tr th:only-of-type {\n",
       "        vertical-align: middle;\n",
       "    }\n",
       "\n",
       "    .dataframe tbody tr th {\n",
       "        vertical-align: top;\n",
       "    }\n",
       "\n",
       "    .dataframe thead tr th {\n",
       "        text-align: left;\n",
       "    }\n",
       "\n",
       "    .dataframe thead tr:last-of-type th {\n",
       "        text-align: right;\n",
       "    }\n",
       "</style>\n",
       "<table border=\"1\" class=\"dataframe\">\n",
       "  <thead>\n",
       "    <tr>\n",
       "      <th></th>\n",
       "      <th></th>\n",
       "      <th colspan=\"3\" halign=\"left\">survived</th>\n",
       "    </tr>\n",
       "    <tr>\n",
       "      <th></th>\n",
       "      <th></th>\n",
       "      <th>sum</th>\n",
       "      <th>count</th>\n",
       "      <th>mean</th>\n",
       "    </tr>\n",
       "    <tr>\n",
       "      <th>pclass</th>\n",
       "      <th>sex</th>\n",
       "      <th></th>\n",
       "      <th></th>\n",
       "      <th></th>\n",
       "    </tr>\n",
       "  </thead>\n",
       "  <tbody>\n",
       "    <tr>\n",
       "      <th rowspan=\"2\" valign=\"top\">1</th>\n",
       "      <th>female</th>\n",
       "      <td>91</td>\n",
       "      <td>94</td>\n",
       "      <td>0.968085</td>\n",
       "    </tr>\n",
       "    <tr>\n",
       "      <th>male</th>\n",
       "      <td>45</td>\n",
       "      <td>122</td>\n",
       "      <td>0.368852</td>\n",
       "    </tr>\n",
       "    <tr>\n",
       "      <th rowspan=\"2\" valign=\"top\">2</th>\n",
       "      <th>female</th>\n",
       "      <td>70</td>\n",
       "      <td>76</td>\n",
       "      <td>0.921053</td>\n",
       "    </tr>\n",
       "    <tr>\n",
       "      <th>male</th>\n",
       "      <td>17</td>\n",
       "      <td>108</td>\n",
       "      <td>0.157407</td>\n",
       "    </tr>\n",
       "    <tr>\n",
       "      <th rowspan=\"2\" valign=\"top\">3</th>\n",
       "      <th>female</th>\n",
       "      <td>72</td>\n",
       "      <td>144</td>\n",
       "      <td>0.500000</td>\n",
       "    </tr>\n",
       "    <tr>\n",
       "      <th>male</th>\n",
       "      <td>47</td>\n",
       "      <td>347</td>\n",
       "      <td>0.135447</td>\n",
       "    </tr>\n",
       "  </tbody>\n",
       "</table>\n",
       "</div>"
      ],
      "text/plain": [
       "              survived                \n",
       "                   sum count      mean\n",
       "pclass sex                            \n",
       "1      female       91    94  0.968085\n",
       "       male         45   122  0.368852\n",
       "2      female       70    76  0.921053\n",
       "       male         17   108  0.157407\n",
       "3      female       72   144  0.500000\n",
       "       male         47   347  0.135447"
      ]
     },
     "execution_count": 28,
     "metadata": {},
     "output_type": "execute_result"
    }
   ],
   "source": [
    "df.groupby([\"pclass\", \"sex\"]).agg({\"survived\": [\"sum\", \"count\", \"mean\"]})"
   ]
  },
  {
   "cell_type": "markdown",
   "id": "5ffaa069",
   "metadata": {},
   "source": [
    "- **Görev 16**:  30 yaşın altında olanlar 1, 30'a eşit ve üstünde olanlara 0 vericek bir fonksiyon yazınız.\n",
    "- Yazdığınız fonksiyonu kullanarak titanik veri setinde age_flag adında bir değişken oluşturunuz oluşturunuz. (apply ve lambda yapılarını kullanınız)"
   ]
  },
  {
   "cell_type": "code",
   "execution_count": 30,
   "id": "32b8d396",
   "metadata": {},
   "outputs": [],
   "source": [
    "def age(age):\n",
    "    if age < 30:\n",
    "        return 1\n",
    "    else:\n",
    "        return 0"
   ]
  },
  {
   "cell_type": "code",
   "execution_count": 31,
   "id": "4a4c73bc",
   "metadata": {},
   "outputs": [],
   "source": [
    "df[\"age_flag\"] = df[\"age\"].apply(lambda x: age(x))"
   ]
  },
  {
   "cell_type": "code",
   "execution_count": 32,
   "id": "54227408",
   "metadata": {},
   "outputs": [],
   "source": [
    "df[\"age_flag\"] = df[\"age\"].apply(lambda x: 1 if x < 30 else 0)"
   ]
  },
  {
   "cell_type": "markdown",
   "id": "ed6e8159",
   "metadata": {},
   "source": [
    "- **Görev 17**: Seaborn kütüphanesi içerisinden Tips veri setini tanımlayınız."
   ]
  },
  {
   "cell_type": "code",
   "execution_count": 33,
   "id": "59979ae5",
   "metadata": {},
   "outputs": [
    {
     "data": {
      "text/html": [
       "<div>\n",
       "<style scoped>\n",
       "    .dataframe tbody tr th:only-of-type {\n",
       "        vertical-align: middle;\n",
       "    }\n",
       "\n",
       "    .dataframe tbody tr th {\n",
       "        vertical-align: top;\n",
       "    }\n",
       "\n",
       "    .dataframe thead th {\n",
       "        text-align: right;\n",
       "    }\n",
       "</style>\n",
       "<table border=\"1\" class=\"dataframe\">\n",
       "  <thead>\n",
       "    <tr style=\"text-align: right;\">\n",
       "      <th></th>\n",
       "      <th>total_bill</th>\n",
       "      <th>tip</th>\n",
       "      <th>sex</th>\n",
       "      <th>smoker</th>\n",
       "      <th>day</th>\n",
       "      <th>time</th>\n",
       "      <th>size</th>\n",
       "    </tr>\n",
       "  </thead>\n",
       "  <tbody>\n",
       "    <tr>\n",
       "      <th>0</th>\n",
       "      <td>16.99</td>\n",
       "      <td>1.01</td>\n",
       "      <td>Female</td>\n",
       "      <td>No</td>\n",
       "      <td>Sun</td>\n",
       "      <td>Dinner</td>\n",
       "      <td>2</td>\n",
       "    </tr>\n",
       "    <tr>\n",
       "      <th>1</th>\n",
       "      <td>10.34</td>\n",
       "      <td>1.66</td>\n",
       "      <td>Male</td>\n",
       "      <td>No</td>\n",
       "      <td>Sun</td>\n",
       "      <td>Dinner</td>\n",
       "      <td>3</td>\n",
       "    </tr>\n",
       "    <tr>\n",
       "      <th>2</th>\n",
       "      <td>21.01</td>\n",
       "      <td>3.50</td>\n",
       "      <td>Male</td>\n",
       "      <td>No</td>\n",
       "      <td>Sun</td>\n",
       "      <td>Dinner</td>\n",
       "      <td>3</td>\n",
       "    </tr>\n",
       "    <tr>\n",
       "      <th>3</th>\n",
       "      <td>23.68</td>\n",
       "      <td>3.31</td>\n",
       "      <td>Male</td>\n",
       "      <td>No</td>\n",
       "      <td>Sun</td>\n",
       "      <td>Dinner</td>\n",
       "      <td>2</td>\n",
       "    </tr>\n",
       "    <tr>\n",
       "      <th>4</th>\n",
       "      <td>24.59</td>\n",
       "      <td>3.61</td>\n",
       "      <td>Female</td>\n",
       "      <td>No</td>\n",
       "      <td>Sun</td>\n",
       "      <td>Dinner</td>\n",
       "      <td>4</td>\n",
       "    </tr>\n",
       "  </tbody>\n",
       "</table>\n",
       "</div>"
      ],
      "text/plain": [
       "   total_bill   tip     sex smoker  day    time  size\n",
       "0       16.99  1.01  Female     No  Sun  Dinner     2\n",
       "1       10.34  1.66    Male     No  Sun  Dinner     3\n",
       "2       21.01  3.50    Male     No  Sun  Dinner     3\n",
       "3       23.68  3.31    Male     No  Sun  Dinner     2\n",
       "4       24.59  3.61  Female     No  Sun  Dinner     4"
      ]
     },
     "execution_count": 33,
     "metadata": {},
     "output_type": "execute_result"
    }
   ],
   "source": [
    "dff = sns.load_dataset(\"tips\")\n",
    "dff.head()"
   ]
  },
  {
   "cell_type": "markdown",
   "id": "d4e9fafd",
   "metadata": {},
   "source": [
    "- **Görev 18**: Time değişkeninin kategorilerine (Dinner, Lunch) göre total_bill  değerlerinin toplamını, min, max ve ortalamasını bulunuz."
   ]
  },
  {
   "cell_type": "code",
   "execution_count": 34,
   "id": "5177f814",
   "metadata": {},
   "outputs": [
    {
     "data": {
      "text/html": [
       "<div>\n",
       "<style scoped>\n",
       "    .dataframe tbody tr th:only-of-type {\n",
       "        vertical-align: middle;\n",
       "    }\n",
       "\n",
       "    .dataframe tbody tr th {\n",
       "        vertical-align: top;\n",
       "    }\n",
       "\n",
       "    .dataframe thead tr th {\n",
       "        text-align: left;\n",
       "    }\n",
       "\n",
       "    .dataframe thead tr:last-of-type th {\n",
       "        text-align: right;\n",
       "    }\n",
       "</style>\n",
       "<table border=\"1\" class=\"dataframe\">\n",
       "  <thead>\n",
       "    <tr>\n",
       "      <th></th>\n",
       "      <th colspan=\"4\" halign=\"left\">total_bill</th>\n",
       "    </tr>\n",
       "    <tr>\n",
       "      <th></th>\n",
       "      <th>sum</th>\n",
       "      <th>min</th>\n",
       "      <th>max</th>\n",
       "      <th>mean</th>\n",
       "    </tr>\n",
       "    <tr>\n",
       "      <th>time</th>\n",
       "      <th></th>\n",
       "      <th></th>\n",
       "      <th></th>\n",
       "      <th></th>\n",
       "    </tr>\n",
       "  </thead>\n",
       "  <tbody>\n",
       "    <tr>\n",
       "      <th>Lunch</th>\n",
       "      <td>1167.47</td>\n",
       "      <td>7.51</td>\n",
       "      <td>43.11</td>\n",
       "      <td>17.168676</td>\n",
       "    </tr>\n",
       "    <tr>\n",
       "      <th>Dinner</th>\n",
       "      <td>3660.30</td>\n",
       "      <td>3.07</td>\n",
       "      <td>50.81</td>\n",
       "      <td>20.797159</td>\n",
       "    </tr>\n",
       "  </tbody>\n",
       "</table>\n",
       "</div>"
      ],
      "text/plain": [
       "       total_bill                        \n",
       "              sum   min    max       mean\n",
       "time                                     \n",
       "Lunch     1167.47  7.51  43.11  17.168676\n",
       "Dinner    3660.30  3.07  50.81  20.797159"
      ]
     },
     "execution_count": 34,
     "metadata": {},
     "output_type": "execute_result"
    }
   ],
   "source": [
    "dff.groupby(\"time\").agg({\"total_bill\": [\"sum\", \"min\", \"max\", \"mean\"]})"
   ]
  },
  {
   "cell_type": "markdown",
   "id": "0333e2a0",
   "metadata": {},
   "source": [
    "- **Görev 19**: Günlere ve time göre total_bill değerlerinin toplamını, min, max ve ortalamasını bulunuz."
   ]
  },
  {
   "cell_type": "code",
   "execution_count": 35,
   "id": "26af72ce",
   "metadata": {},
   "outputs": [
    {
     "data": {
      "text/html": [
       "<div>\n",
       "<style scoped>\n",
       "    .dataframe tbody tr th:only-of-type {\n",
       "        vertical-align: middle;\n",
       "    }\n",
       "\n",
       "    .dataframe tbody tr th {\n",
       "        vertical-align: top;\n",
       "    }\n",
       "\n",
       "    .dataframe thead tr th {\n",
       "        text-align: left;\n",
       "    }\n",
       "\n",
       "    .dataframe thead tr:last-of-type th {\n",
       "        text-align: right;\n",
       "    }\n",
       "</style>\n",
       "<table border=\"1\" class=\"dataframe\">\n",
       "  <thead>\n",
       "    <tr>\n",
       "      <th></th>\n",
       "      <th></th>\n",
       "      <th colspan=\"4\" halign=\"left\">total_bill</th>\n",
       "    </tr>\n",
       "    <tr>\n",
       "      <th></th>\n",
       "      <th></th>\n",
       "      <th>sum</th>\n",
       "      <th>min</th>\n",
       "      <th>max</th>\n",
       "      <th>mean</th>\n",
       "    </tr>\n",
       "    <tr>\n",
       "      <th>day</th>\n",
       "      <th>time</th>\n",
       "      <th></th>\n",
       "      <th></th>\n",
       "      <th></th>\n",
       "      <th></th>\n",
       "    </tr>\n",
       "  </thead>\n",
       "  <tbody>\n",
       "    <tr>\n",
       "      <th rowspan=\"2\" valign=\"top\">Thur</th>\n",
       "      <th>Lunch</th>\n",
       "      <td>1077.55</td>\n",
       "      <td>7.51</td>\n",
       "      <td>43.11</td>\n",
       "      <td>17.664754</td>\n",
       "    </tr>\n",
       "    <tr>\n",
       "      <th>Dinner</th>\n",
       "      <td>18.78</td>\n",
       "      <td>18.78</td>\n",
       "      <td>18.78</td>\n",
       "      <td>18.780000</td>\n",
       "    </tr>\n",
       "    <tr>\n",
       "      <th rowspan=\"2\" valign=\"top\">Fri</th>\n",
       "      <th>Lunch</th>\n",
       "      <td>89.92</td>\n",
       "      <td>8.58</td>\n",
       "      <td>16.27</td>\n",
       "      <td>12.845714</td>\n",
       "    </tr>\n",
       "    <tr>\n",
       "      <th>Dinner</th>\n",
       "      <td>235.96</td>\n",
       "      <td>5.75</td>\n",
       "      <td>40.17</td>\n",
       "      <td>19.663333</td>\n",
       "    </tr>\n",
       "    <tr>\n",
       "      <th rowspan=\"2\" valign=\"top\">Sat</th>\n",
       "      <th>Lunch</th>\n",
       "      <td>0.00</td>\n",
       "      <td>NaN</td>\n",
       "      <td>NaN</td>\n",
       "      <td>NaN</td>\n",
       "    </tr>\n",
       "    <tr>\n",
       "      <th>Dinner</th>\n",
       "      <td>1778.40</td>\n",
       "      <td>3.07</td>\n",
       "      <td>50.81</td>\n",
       "      <td>20.441379</td>\n",
       "    </tr>\n",
       "    <tr>\n",
       "      <th rowspan=\"2\" valign=\"top\">Sun</th>\n",
       "      <th>Lunch</th>\n",
       "      <td>0.00</td>\n",
       "      <td>NaN</td>\n",
       "      <td>NaN</td>\n",
       "      <td>NaN</td>\n",
       "    </tr>\n",
       "    <tr>\n",
       "      <th>Dinner</th>\n",
       "      <td>1627.16</td>\n",
       "      <td>7.25</td>\n",
       "      <td>48.17</td>\n",
       "      <td>21.410000</td>\n",
       "    </tr>\n",
       "  </tbody>\n",
       "</table>\n",
       "</div>"
      ],
      "text/plain": [
       "            total_bill                         \n",
       "                   sum    min    max       mean\n",
       "day  time                                      \n",
       "Thur Lunch     1077.55   7.51  43.11  17.664754\n",
       "     Dinner      18.78  18.78  18.78  18.780000\n",
       "Fri  Lunch       89.92   8.58  16.27  12.845714\n",
       "     Dinner     235.96   5.75  40.17  19.663333\n",
       "Sat  Lunch        0.00    NaN    NaN        NaN\n",
       "     Dinner    1778.40   3.07  50.81  20.441379\n",
       "Sun  Lunch        0.00    NaN    NaN        NaN\n",
       "     Dinner    1627.16   7.25  48.17  21.410000"
      ]
     },
     "execution_count": 35,
     "metadata": {},
     "output_type": "execute_result"
    }
   ],
   "source": [
    "dff.groupby([\"day\", \"time\"]).agg({\"total_bill\": [\"sum\", \"min\", \"max\", \"mean\"]})"
   ]
  },
  {
   "cell_type": "markdown",
   "id": "d6368658",
   "metadata": {},
   "source": [
    "- **Görev 20**:Lunch zamanına ve kadın müşterilere ait total_bill ve tip  değerlerinin day'e göre toplamını, min, max ve ortalamasını bulunuz."
   ]
  },
  {
   "cell_type": "code",
   "execution_count": 36,
   "id": "50221af1",
   "metadata": {},
   "outputs": [
    {
     "data": {
      "text/html": [
       "<div>\n",
       "<style scoped>\n",
       "    .dataframe tbody tr th:only-of-type {\n",
       "        vertical-align: middle;\n",
       "    }\n",
       "\n",
       "    .dataframe tbody tr th {\n",
       "        vertical-align: top;\n",
       "    }\n",
       "\n",
       "    .dataframe thead tr th {\n",
       "        text-align: left;\n",
       "    }\n",
       "\n",
       "    .dataframe thead tr:last-of-type th {\n",
       "        text-align: right;\n",
       "    }\n",
       "</style>\n",
       "<table border=\"1\" class=\"dataframe\">\n",
       "  <thead>\n",
       "    <tr>\n",
       "      <th></th>\n",
       "      <th colspan=\"4\" halign=\"left\">total_bill</th>\n",
       "      <th colspan=\"4\" halign=\"left\">tip</th>\n",
       "    </tr>\n",
       "    <tr>\n",
       "      <th></th>\n",
       "      <th>sum</th>\n",
       "      <th>min</th>\n",
       "      <th>max</th>\n",
       "      <th>mean</th>\n",
       "      <th>sum</th>\n",
       "      <th>min</th>\n",
       "      <th>max</th>\n",
       "      <th>mean</th>\n",
       "    </tr>\n",
       "    <tr>\n",
       "      <th>day</th>\n",
       "      <th></th>\n",
       "      <th></th>\n",
       "      <th></th>\n",
       "      <th></th>\n",
       "      <th></th>\n",
       "      <th></th>\n",
       "      <th></th>\n",
       "      <th></th>\n",
       "    </tr>\n",
       "  </thead>\n",
       "  <tbody>\n",
       "    <tr>\n",
       "      <th>Thur</th>\n",
       "      <td>516.11</td>\n",
       "      <td>8.35</td>\n",
       "      <td>43.11</td>\n",
       "      <td>16.64871</td>\n",
       "      <td>79.42</td>\n",
       "      <td>1.25</td>\n",
       "      <td>5.17</td>\n",
       "      <td>2.561935</td>\n",
       "    </tr>\n",
       "    <tr>\n",
       "      <th>Fri</th>\n",
       "      <td>55.76</td>\n",
       "      <td>10.09</td>\n",
       "      <td>16.27</td>\n",
       "      <td>13.94000</td>\n",
       "      <td>10.98</td>\n",
       "      <td>2.00</td>\n",
       "      <td>3.48</td>\n",
       "      <td>2.745000</td>\n",
       "    </tr>\n",
       "    <tr>\n",
       "      <th>Sat</th>\n",
       "      <td>0.00</td>\n",
       "      <td>NaN</td>\n",
       "      <td>NaN</td>\n",
       "      <td>NaN</td>\n",
       "      <td>0.00</td>\n",
       "      <td>NaN</td>\n",
       "      <td>NaN</td>\n",
       "      <td>NaN</td>\n",
       "    </tr>\n",
       "    <tr>\n",
       "      <th>Sun</th>\n",
       "      <td>0.00</td>\n",
       "      <td>NaN</td>\n",
       "      <td>NaN</td>\n",
       "      <td>NaN</td>\n",
       "      <td>0.00</td>\n",
       "      <td>NaN</td>\n",
       "      <td>NaN</td>\n",
       "      <td>NaN</td>\n",
       "    </tr>\n",
       "  </tbody>\n",
       "</table>\n",
       "</div>"
      ],
      "text/plain": [
       "     total_bill                            tip                      \n",
       "            sum    min    max      mean    sum   min   max      mean\n",
       "day                                                                 \n",
       "Thur     516.11   8.35  43.11  16.64871  79.42  1.25  5.17  2.561935\n",
       "Fri       55.76  10.09  16.27  13.94000  10.98  2.00  3.48  2.745000\n",
       "Sat        0.00    NaN    NaN       NaN   0.00   NaN   NaN       NaN\n",
       "Sun        0.00    NaN    NaN       NaN   0.00   NaN   NaN       NaN"
      ]
     },
     "execution_count": 36,
     "metadata": {},
     "output_type": "execute_result"
    }
   ],
   "source": [
    "dff[(dff[\"time\"] == \"Lunch\") & (dff[\"sex\"] == \"Female\")].groupby(\"day\").agg({\"total_bill\": [\"sum\",\"min\",\"max\",\"mean\"],\n",
    "                                                                           \"tip\":  [\"sum\",\"min\",\"max\",\"mean\"]})"
   ]
  },
  {
   "cell_type": "markdown",
   "id": "5d5d332b",
   "metadata": {},
   "source": [
    "- **Görev 21**: size'i 3'ten küçük, total_bill'i 10'dan büyük olan siparişlerin ortalaması nedir?"
   ]
  },
  {
   "cell_type": "code",
   "execution_count": 37,
   "id": "02ec0368",
   "metadata": {},
   "outputs": [
    {
     "name": "stderr",
     "output_type": "stream",
     "text": [
      "/var/folders/j8/90mmwg5s5gv830l66qr9pvdm0000gn/T/ipykernel_6561/3874821502.py:1: FutureWarning: Dropping of nuisance columns in DataFrame reductions (with 'numeric_only=None') is deprecated; in a future version this will raise TypeError.  Select only valid columns before calling the reduction.\n",
      "  dff[(dff[\"size\"] < 3) & (dff[\"total_bill\"] > 10)].mean()\n"
     ]
    },
    {
     "data": {
      "text/plain": [
       "total_bill    17.184965\n",
       "tip            2.638811\n",
       "size           1.993007\n",
       "dtype: float64"
      ]
     },
     "execution_count": 37,
     "metadata": {},
     "output_type": "execute_result"
    }
   ],
   "source": [
    "dff[(dff[\"size\"] < 3) & (dff[\"total_bill\"] > 10)].mean()"
   ]
  },
  {
   "cell_type": "markdown",
   "id": "1e2673e6",
   "metadata": {},
   "source": [
    "- **Görev 22**: total_bill_tip_sum adında yeni bir değişken oluşturun. Her bir müşterinin ödediği totalbill ve tip in toplamını versin."
   ]
  },
  {
   "cell_type": "code",
   "execution_count": 38,
   "id": "e64f5cb5",
   "metadata": {},
   "outputs": [
    {
     "data": {
      "text/html": [
       "<div>\n",
       "<style scoped>\n",
       "    .dataframe tbody tr th:only-of-type {\n",
       "        vertical-align: middle;\n",
       "    }\n",
       "\n",
       "    .dataframe tbody tr th {\n",
       "        vertical-align: top;\n",
       "    }\n",
       "\n",
       "    .dataframe thead th {\n",
       "        text-align: right;\n",
       "    }\n",
       "</style>\n",
       "<table border=\"1\" class=\"dataframe\">\n",
       "  <thead>\n",
       "    <tr style=\"text-align: right;\">\n",
       "      <th></th>\n",
       "      <th>total_bill</th>\n",
       "      <th>tip</th>\n",
       "      <th>sex</th>\n",
       "      <th>smoker</th>\n",
       "      <th>day</th>\n",
       "      <th>time</th>\n",
       "      <th>size</th>\n",
       "      <th>total_bill_tip_sum</th>\n",
       "    </tr>\n",
       "  </thead>\n",
       "  <tbody>\n",
       "    <tr>\n",
       "      <th>0</th>\n",
       "      <td>16.99</td>\n",
       "      <td>1.01</td>\n",
       "      <td>Female</td>\n",
       "      <td>No</td>\n",
       "      <td>Sun</td>\n",
       "      <td>Dinner</td>\n",
       "      <td>2</td>\n",
       "      <td>18.00</td>\n",
       "    </tr>\n",
       "    <tr>\n",
       "      <th>1</th>\n",
       "      <td>10.34</td>\n",
       "      <td>1.66</td>\n",
       "      <td>Male</td>\n",
       "      <td>No</td>\n",
       "      <td>Sun</td>\n",
       "      <td>Dinner</td>\n",
       "      <td>3</td>\n",
       "      <td>12.00</td>\n",
       "    </tr>\n",
       "    <tr>\n",
       "      <th>2</th>\n",
       "      <td>21.01</td>\n",
       "      <td>3.50</td>\n",
       "      <td>Male</td>\n",
       "      <td>No</td>\n",
       "      <td>Sun</td>\n",
       "      <td>Dinner</td>\n",
       "      <td>3</td>\n",
       "      <td>24.51</td>\n",
       "    </tr>\n",
       "    <tr>\n",
       "      <th>3</th>\n",
       "      <td>23.68</td>\n",
       "      <td>3.31</td>\n",
       "      <td>Male</td>\n",
       "      <td>No</td>\n",
       "      <td>Sun</td>\n",
       "      <td>Dinner</td>\n",
       "      <td>2</td>\n",
       "      <td>26.99</td>\n",
       "    </tr>\n",
       "    <tr>\n",
       "      <th>4</th>\n",
       "      <td>24.59</td>\n",
       "      <td>3.61</td>\n",
       "      <td>Female</td>\n",
       "      <td>No</td>\n",
       "      <td>Sun</td>\n",
       "      <td>Dinner</td>\n",
       "      <td>4</td>\n",
       "      <td>28.20</td>\n",
       "    </tr>\n",
       "  </tbody>\n",
       "</table>\n",
       "</div>"
      ],
      "text/plain": [
       "   total_bill   tip     sex smoker  day    time  size  total_bill_tip_sum\n",
       "0       16.99  1.01  Female     No  Sun  Dinner     2               18.00\n",
       "1       10.34  1.66    Male     No  Sun  Dinner     3               12.00\n",
       "2       21.01  3.50    Male     No  Sun  Dinner     3               24.51\n",
       "3       23.68  3.31    Male     No  Sun  Dinner     2               26.99\n",
       "4       24.59  3.61  Female     No  Sun  Dinner     4               28.20"
      ]
     },
     "execution_count": 38,
     "metadata": {},
     "output_type": "execute_result"
    }
   ],
   "source": [
    "dff[\"total_bill_tip_sum\"] = dff[\"total_bill\"] + dff[\"tip\"]\n",
    "dff.head()"
   ]
  },
  {
   "cell_type": "markdown",
   "id": "9febac0d",
   "metadata": {},
   "source": [
    "- **Görev 23**: total_bill_tip_sum değişkenine göre büyükten küçüğe sıralayınız ve ilk 30 kişiyi yeni bir dataframe'e atayınız."
   ]
  },
  {
   "cell_type": "code",
   "execution_count": 39,
   "id": "1985228d",
   "metadata": {},
   "outputs": [],
   "source": [
    "femaleAvg = dff[dff[\"sex\"] == \"Female\"][\"total_bill\"].mean()\n",
    "maleAvg = dff[dff[\"sex\"] == \"Male\"][\"total_bill\"].mean()\n",
    "\n",
    "def avgFunc(sex,total_bill):\n",
    "    if sex == \"Female\":\n",
    "        if total_bill < femaleAvg:\n",
    "            return 0\n",
    "        else:\n",
    "            return 1\n",
    "    else:\n",
    "        if total_bill < maleAvg:\n",
    "            return 0\n",
    "        else:\n",
    "            return 1\n",
    "\n",
    "dff[\"total_bill_flag\"] = dff[[\"sex\",\"total_bill\"]].apply(lambda x: avgFunc(x[\"sex\"],x[\"total_bill\"]),axis=1)"
   ]
  }
 ],
 "metadata": {
  "kernelspec": {
   "display_name": "Python 3 (ipykernel)",
   "language": "python",
   "name": "python3"
  },
  "language_info": {
   "codemirror_mode": {
    "name": "ipython",
    "version": 3
   },
   "file_extension": ".py",
   "mimetype": "text/x-python",
   "name": "python",
   "nbconvert_exporter": "python",
   "pygments_lexer": "ipython3",
   "version": "3.9.12"
  }
 },
 "nbformat": 4,
 "nbformat_minor": 5
}
