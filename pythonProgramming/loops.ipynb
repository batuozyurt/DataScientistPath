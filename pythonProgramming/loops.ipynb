{
 "cells": [
  {
   "cell_type": "markdown",
   "id": "d3fa7f78",
   "metadata": {},
   "source": [
    "# Loops (Döngüler)\n",
    "---\n",
    "- İterasyon yapılabilen nesneler üzerinde gezinmeyi ve bu gezinmeler sonucunda yakalamış olacağımız her bir eleman üzerinden çeşitli işlemler yapma imkanı sağlar.\n",
    "- **for** _donguDegiskeni_ **in** _dongununDahilOlacagiElemanlar_:\n",
    "    - _statement_"
   ]
  },
  {
   "cell_type": "code",
   "execution_count": 1,
   "id": "3d879a76",
   "metadata": {},
   "outputs": [],
   "source": [
    "students = [\"John\", \"Mark\", \"Venessa\", \"Mariam\"]"
   ]
  },
  {
   "cell_type": "code",
   "execution_count": 2,
   "id": "e8c2ecd5",
   "metadata": {},
   "outputs": [
    {
     "data": {
      "text/plain": [
       "'John'"
      ]
     },
     "execution_count": 2,
     "metadata": {},
     "output_type": "execute_result"
    }
   ],
   "source": [
    "students[0]"
   ]
  },
  {
   "cell_type": "code",
   "execution_count": 3,
   "id": "5a228c54",
   "metadata": {},
   "outputs": [
    {
     "data": {
      "text/plain": [
       "'Mark'"
      ]
     },
     "execution_count": 3,
     "metadata": {},
     "output_type": "execute_result"
    }
   ],
   "source": [
    "students[1]"
   ]
  },
  {
   "cell_type": "code",
   "execution_count": 4,
   "id": "8e6a6869",
   "metadata": {},
   "outputs": [
    {
     "data": {
      "text/plain": [
       "'Venessa'"
      ]
     },
     "execution_count": 4,
     "metadata": {},
     "output_type": "execute_result"
    }
   ],
   "source": [
    "students[2]"
   ]
  },
  {
   "cell_type": "code",
   "execution_count": 5,
   "id": "f5d63e64",
   "metadata": {},
   "outputs": [
    {
     "name": "stdout",
     "output_type": "stream",
     "text": [
      "John\n",
      "Mark\n",
      "Venessa\n",
      "Mariam\n"
     ]
    }
   ],
   "source": [
    "for student in students:\n",
    "    print(student)"
   ]
  },
  {
   "cell_type": "code",
   "execution_count": 6,
   "id": "69898d16",
   "metadata": {},
   "outputs": [
    {
     "name": "stdout",
     "output_type": "stream",
     "text": [
      "JOHN\n",
      "MARK\n",
      "VENESSA\n",
      "MARIAM\n"
     ]
    }
   ],
   "source": [
    "for student in students:\n",
    "    print(student.upper())"
   ]
  },
  {
   "cell_type": "code",
   "execution_count": 7,
   "id": "66b30e4b",
   "metadata": {},
   "outputs": [],
   "source": [
    "salaries = [1000, 2000, 3000, 4000, 5000]"
   ]
  },
  {
   "cell_type": "code",
   "execution_count": 8,
   "id": "a573d54b",
   "metadata": {},
   "outputs": [
    {
     "name": "stdout",
     "output_type": "stream",
     "text": [
      "1000\n",
      "2000\n",
      "3000\n",
      "4000\n",
      "5000\n"
     ]
    }
   ],
   "source": [
    "for salary in salaries:\n",
    "    print(salary)"
   ]
  },
  {
   "cell_type": "code",
   "execution_count": 9,
   "id": "ec44656f",
   "metadata": {},
   "outputs": [
    {
     "name": "stdout",
     "output_type": "stream",
     "text": [
      "1200\n",
      "2400\n",
      "3600\n",
      "4800\n",
      "6000\n"
     ]
    }
   ],
   "source": [
    "for salary in salaries:\n",
    "    print(int(salary*20/100 + salary))"
   ]
  },
  {
   "cell_type": "code",
   "execution_count": 10,
   "id": "25e19113",
   "metadata": {},
   "outputs": [
    {
     "name": "stdout",
     "output_type": "stream",
     "text": [
      "1300\n",
      "2600\n",
      "3900\n",
      "5200\n",
      "6500\n"
     ]
    }
   ],
   "source": [
    "for salary in salaries:\n",
    "    print(int(salary*30/100 + salary))"
   ]
  },
  {
   "cell_type": "code",
   "execution_count": 11,
   "id": "7f885e05",
   "metadata": {},
   "outputs": [],
   "source": [
    "def new_salary(salary, rate):\n",
    "    return int(salary * rate / 100 + salary)"
   ]
  },
  {
   "cell_type": "code",
   "execution_count": 12,
   "id": "90a8e732",
   "metadata": {},
   "outputs": [
    {
     "data": {
      "text/plain": [
       "1650"
      ]
     },
     "execution_count": 12,
     "metadata": {},
     "output_type": "execute_result"
    }
   ],
   "source": [
    "new_salary(1500, 10)"
   ]
  },
  {
   "cell_type": "code",
   "execution_count": 13,
   "id": "966b1a8a",
   "metadata": {},
   "outputs": [
    {
     "data": {
      "text/plain": [
       "2400"
      ]
     },
     "execution_count": 13,
     "metadata": {},
     "output_type": "execute_result"
    }
   ],
   "source": [
    "new_salary(2000, 20)"
   ]
  },
  {
   "cell_type": "code",
   "execution_count": 14,
   "id": "c6133242",
   "metadata": {},
   "outputs": [
    {
     "name": "stdout",
     "output_type": "stream",
     "text": [
      "1200\n",
      "2400\n",
      "3600\n",
      "4800\n",
      "6000\n"
     ]
    }
   ],
   "source": [
    "for salary in salaries: # fonksiyonu her salary değerinde tekrar yazıp, zam yapmaktansa\n",
    "    print(new_salary(salary, 20)) # for ile tek seferde fonksiyonu kullanıp çıktı alabiliyoruz."
   ]
  },
  {
   "cell_type": "code",
   "execution_count": 15,
   "id": "d961b366",
   "metadata": {},
   "outputs": [
    {
     "name": "stdout",
     "output_type": "stream",
     "text": [
      "1200\n",
      "2400\n",
      "3300\n",
      "4400\n",
      "5500\n"
     ]
    }
   ],
   "source": [
    "# eğer sadece belirli bir koşulu sağlayan verilere uygulamak istiyorsak if-else yapsını kullanabiliriz.\n",
    "\n",
    "for salary in salaries:\n",
    "    if salary >= 3000:\n",
    "        print(new_salary(salary, 10))\n",
    "    else:\n",
    "        print(new_salary(salary, 20))"
   ]
  },
  {
   "cell_type": "markdown",
   "id": "4e63734c",
   "metadata": {},
   "source": [
    "## Uygulama - Mülakat\n",
    "---\n",
    "- **Amaç**; Aşağıdaki şekilde string değiştiren fonksiyon yazmak istiyoruz.\n",
    "- **_before_**: \"hi my name is john and i am learning python\"\n",
    "- **_after_**: \"Hi mY NaMe iS JoHn aNd i aM LeArNiNg pYtHoN\""
   ]
  },
  {
   "cell_type": "code",
   "execution_count": 16,
   "id": "604f62d4",
   "metadata": {},
   "outputs": [
    {
     "data": {
      "text/plain": [
       "range(0, 5)"
      ]
     },
     "execution_count": 16,
     "metadata": {},
     "output_type": "execute_result"
    }
   ],
   "source": [
    "range(len(\"miuul\"))"
   ]
  },
  {
   "cell_type": "code",
   "execution_count": 17,
   "id": "06a8b8a6",
   "metadata": {},
   "outputs": [
    {
     "name": "stdout",
     "output_type": "stream",
     "text": [
      "0\n",
      "1\n",
      "2\n",
      "3\n",
      "4\n"
     ]
    }
   ],
   "source": [
    "for i in range(len(\"miuul\")):\n",
    "    print(i)"
   ]
  },
  {
   "cell_type": "code",
   "execution_count": 18,
   "id": "aa5f1c21",
   "metadata": {},
   "outputs": [],
   "source": [
    "# 4 % 2 == 0\n",
    "# m = \"miuul\"\n",
    "# m[0]"
   ]
  },
  {
   "cell_type": "code",
   "execution_count": 19,
   "id": "6c0b0bf6",
   "metadata": {},
   "outputs": [],
   "source": [
    "def alternating(string):\n",
    "    new_string = \"\"\n",
    "    for string_index in range(len(string)): # girilen string ifadenin indexlerinde gez.\n",
    "        if string_index % 2 == 0: # index çift ise büyük harfe çevir.\n",
    "            new_string += string[string_index].upper()\n",
    "        else: # inde tek ise küçük harfe çevir.\n",
    "            new_string += string[string_index].lower()\n",
    "    print(new_string)"
   ]
  },
  {
   "cell_type": "code",
   "execution_count": 20,
   "id": "0fdc660b",
   "metadata": {},
   "outputs": [
    {
     "name": "stdout",
     "output_type": "stream",
     "text": [
      "Hi mY NaMe iS JoHn aNd i aM LeArNiNg pYtHoN\n"
     ]
    }
   ],
   "source": [
    "alternating(\"hi my name is john and i am learning python\")"
   ]
  },
  {
   "cell_type": "markdown",
   "id": "3dec39e3",
   "metadata": {},
   "source": [
    "## break & continue & while\n",
    "---\n",
    "- **break**; akışı keser ve döngüyü sonlandırır.\n",
    "- **continue**; belirtilen _index değerini_ geçerek döngüye devam eder.\n",
    "- **while**; belirtilen koşul sağlandığı sürece döngü devam eder."
   ]
  },
  {
   "cell_type": "code",
   "execution_count": 21,
   "id": "2a4f52fd",
   "metadata": {},
   "outputs": [],
   "source": [
    "salaries = [1000, 2000, 3000, 4000, 5000]"
   ]
  },
  {
   "cell_type": "code",
   "execution_count": 22,
   "id": "87136eb2",
   "metadata": {},
   "outputs": [
    {
     "name": "stdout",
     "output_type": "stream",
     "text": [
      "1000\n",
      "2000\n"
     ]
    }
   ],
   "source": [
    "# break\n",
    "for salary in salaries:\n",
    "    if salary == 3000: # döngü 3000 de sonlanacak.\n",
    "        break\n",
    "    print(salary)"
   ]
  },
  {
   "cell_type": "code",
   "execution_count": 23,
   "id": "22c2407b",
   "metadata": {},
   "outputs": [
    {
     "name": "stdout",
     "output_type": "stream",
     "text": [
      "1000\n",
      "2000\n",
      "4000\n",
      "5000\n"
     ]
    }
   ],
   "source": [
    "# continue\n",
    "for salary in salaries:\n",
    "    if salary == 3000: # 3000'i atlacak ve devam edecek.\n",
    "        continue\n",
    "    print(salary)"
   ]
  },
  {
   "cell_type": "code",
   "execution_count": 24,
   "id": "4cd8ac57",
   "metadata": {},
   "outputs": [
    {
     "name": "stdout",
     "output_type": "stream",
     "text": [
      "1\n",
      "2\n",
      "3\n",
      "4\n"
     ]
    }
   ],
   "source": [
    "# while\n",
    "number = 1\n",
    "while number < 5: # koşul sağlanana kadar döngü devam edecek.\n",
    "    print(number) # koşul sağlandığında duracak.\n",
    "    number += 1"
   ]
  },
  {
   "cell_type": "markdown",
   "id": "c9b140f3",
   "metadata": {},
   "source": [
    "## Enumerate\n",
    "---\n",
    "- otomatik counter/indexer ile for loop"
   ]
  },
  {
   "cell_type": "code",
   "execution_count": 25,
   "id": "158e30bf",
   "metadata": {},
   "outputs": [],
   "source": [
    "students = [\"John\", \"Mark\", \"Venessa\", \"Mariam\"]"
   ]
  },
  {
   "cell_type": "code",
   "execution_count": 26,
   "id": "6b2147ec",
   "metadata": {},
   "outputs": [
    {
     "name": "stdout",
     "output_type": "stream",
     "text": [
      "John\n",
      "Mark\n",
      "Venessa\n",
      "Mariam\n"
     ]
    }
   ],
   "source": [
    "for student in students:\n",
    "    print(student)"
   ]
  },
  {
   "cell_type": "code",
   "execution_count": 27,
   "id": "825ac9e0",
   "metadata": {},
   "outputs": [
    {
     "name": "stdout",
     "output_type": "stream",
     "text": [
      "0 John\n",
      "1 Mark\n",
      "2 Venessa\n",
      "3 Mariam\n"
     ]
    }
   ],
   "source": [
    "for index, student in enumerate(students):\n",
    "    print(index, student)"
   ]
  },
  {
   "cell_type": "code",
   "execution_count": 28,
   "id": "e32e4c20",
   "metadata": {},
   "outputs": [],
   "source": [
    "A = []\n",
    "B = []\n",
    "\n",
    "for index, student in enumerate(students):\n",
    "    if index % 2 == 0:\n",
    "        A.append(student)\n",
    "    else:\n",
    "        B.append(student)"
   ]
  },
  {
   "cell_type": "code",
   "execution_count": 29,
   "id": "7a2853d7",
   "metadata": {},
   "outputs": [
    {
     "name": "stdout",
     "output_type": "stream",
     "text": [
      "['John', 'Venessa']\n"
     ]
    }
   ],
   "source": [
    "print(A)"
   ]
  },
  {
   "cell_type": "code",
   "execution_count": 30,
   "id": "edf8f724",
   "metadata": {},
   "outputs": [
    {
     "name": "stdout",
     "output_type": "stream",
     "text": [
      "['Mark', 'Mariam']\n"
     ]
    }
   ],
   "source": [
    "print(B)"
   ]
  },
  {
   "cell_type": "markdown",
   "id": "0f0776dd",
   "metadata": {},
   "source": [
    "## Uygulama - Mülakat \n",
    "---\n",
    "- **divide_student** fonksiyonunu yazınız.\n",
    "- _Çift index_'de yer alan _öğrencileri bir listeye_ ekleyin.\n",
    "- _Tek index_'de yer alan _öğrencileri başka bir listeye_ ekleyin.\n",
    "- **Fakat bu iki liste, tek bir liste olarak return olsun.**"
   ]
  },
  {
   "cell_type": "code",
   "execution_count": 31,
   "id": "0530355b",
   "metadata": {},
   "outputs": [],
   "source": [
    "students = [\"John\", \"Mark\", \"Venessa\", \"Mariam\"]"
   ]
  },
  {
   "cell_type": "code",
   "execution_count": 32,
   "id": "6fdc6aa8",
   "metadata": {},
   "outputs": [],
   "source": [
    "def divide_students(students):\n",
    "    groups = [[], []]\n",
    "    for index, student in enumerate(students):\n",
    "        if index % 2 == 0:\n",
    "            groups[0].append(student)\n",
    "        else:\n",
    "            groups[1].append(student)\n",
    "    print(groups)\n",
    "    return groups"
   ]
  },
  {
   "cell_type": "code",
   "execution_count": 33,
   "id": "889d555c",
   "metadata": {},
   "outputs": [
    {
     "name": "stdout",
     "output_type": "stream",
     "text": [
      "[['John', 'Venessa'], ['Mark', 'Mariam']]\n"
     ]
    }
   ],
   "source": [
    "st = divide_students(students)"
   ]
  },
  {
   "cell_type": "code",
   "execution_count": 34,
   "id": "74947bcd",
   "metadata": {},
   "outputs": [
    {
     "data": {
      "text/plain": [
       "['John', 'Venessa']"
      ]
     },
     "execution_count": 34,
     "metadata": {},
     "output_type": "execute_result"
    }
   ],
   "source": [
    "st[0]"
   ]
  },
  {
   "cell_type": "code",
   "execution_count": 35,
   "id": "e8ca39e8",
   "metadata": {},
   "outputs": [
    {
     "data": {
      "text/plain": [
       "['Mark', 'Mariam']"
      ]
     },
     "execution_count": 35,
     "metadata": {},
     "output_type": "execute_result"
    }
   ],
   "source": [
    "st[1]"
   ]
  },
  {
   "cell_type": "markdown",
   "id": "a627a929",
   "metadata": {},
   "source": [
    "### Alternating fonksiyonunun enumerate ile yazılması;"
   ]
  },
  {
   "cell_type": "code",
   "execution_count": 36,
   "id": "fa5194d4",
   "metadata": {},
   "outputs": [],
   "source": [
    "def alternating_with_enumerate(string):\n",
    "    new_string = \"\"\n",
    "    for i, letter in enumerate(string):\n",
    "        if i % 2 == 0:\n",
    "            new_string += letter.upper()\n",
    "        else:\n",
    "            new_string += letter.lower()\n",
    "    print(new_string)"
   ]
  },
  {
   "cell_type": "code",
   "execution_count": 38,
   "id": "a04b17e0",
   "metadata": {},
   "outputs": [
    {
     "name": "stdout",
     "output_type": "stream",
     "text": [
      "Hi mY NaMe iS JoHn aNd i aM LeArNiNg pYtHoN\n"
     ]
    }
   ],
   "source": [
    "alternating_with_enumerate(\"hi my name is john and i am learning python\")"
   ]
  },
  {
   "cell_type": "markdown",
   "id": "0bf60f3e",
   "metadata": {},
   "source": [
    "## Zip\n",
    "---\n",
    "- **zip** gruplama işlemi yapmaktadır."
   ]
  },
  {
   "cell_type": "code",
   "execution_count": 39,
   "id": "5edebcaa",
   "metadata": {},
   "outputs": [],
   "source": [
    "students = [\"John\", \"Mark\", \"Venessa\", \"Mariam\"]\n",
    "departments = [\"mathematics\", \"statistics\", \"physics\", \"astronomy\"]\n",
    "ages = [23, 30, 26, 22]"
   ]
  },
  {
   "cell_type": "code",
   "execution_count": 40,
   "id": "fc7c9d0c",
   "metadata": {},
   "outputs": [
    {
     "data": {
      "text/plain": [
       "[('John', 'mathematics', 23),\n",
       " ('Mark', 'statistics', 30),\n",
       " ('Venessa', 'physics', 26),\n",
       " ('Mariam', 'astronomy', 22)]"
      ]
     },
     "execution_count": 40,
     "metadata": {},
     "output_type": "execute_result"
    }
   ],
   "source": [
    "list(zip(students, departments, ages))"
   ]
  },
  {
   "cell_type": "markdown",
   "id": "b711e192",
   "metadata": {},
   "source": [
    "## lambda, map, filter, reduce\n",
    "---\n",
    "- **lambda**; satırlarca yazılan fonksiyonu, tek satırda yazmamızı sağlar.\n",
    "- **map**; elinizdeki bir fonksiyona, elinizdeki bir datanın elemanlarını sırasıyla gönderir ve sonucu tek bir obje olarak geri döner.\n",
    "- **reduce**; döngüye sokabileceğiniz herhangi bir veri tipi içinde, veri tipinin içindeki tüm elemanları azaltarak dolaşan ve karşılaştırma yapmaya imkan tanıyan bir yapıdır."
   ]
  },
  {
   "cell_type": "code",
   "execution_count": 41,
   "id": "c6821f68",
   "metadata": {},
   "outputs": [],
   "source": [
    "def sum_with_basicfunc(a, b):\n",
    "    return a + b"
   ]
  },
  {
   "cell_type": "code",
   "execution_count": 42,
   "id": "e4a662da",
   "metadata": {},
   "outputs": [
    {
     "data": {
      "text/plain": [
       "8"
      ]
     },
     "execution_count": 42,
     "metadata": {},
     "output_type": "execute_result"
    }
   ],
   "source": [
    "sum_with_basicfunc(3, 5)"
   ]
  },
  {
   "cell_type": "code",
   "execution_count": 43,
   "id": "6e097227",
   "metadata": {},
   "outputs": [],
   "source": [
    "new_sum = lambda a, b: a + b"
   ]
  },
  {
   "cell_type": "code",
   "execution_count": 44,
   "id": "8d1fbbb7",
   "metadata": {},
   "outputs": [
    {
     "data": {
      "text/plain": [
       "9"
      ]
     },
     "execution_count": 44,
     "metadata": {},
     "output_type": "execute_result"
    }
   ],
   "source": [
    "new_sum(4, 5)"
   ]
  },
  {
   "cell_type": "code",
   "execution_count": 45,
   "id": "def77367",
   "metadata": {},
   "outputs": [],
   "source": [
    "# map\n",
    "\n",
    "salaries = [1000, 2000, 3000, 4000, 5000]"
   ]
  },
  {
   "cell_type": "code",
   "execution_count": 46,
   "id": "a786c167",
   "metadata": {},
   "outputs": [],
   "source": [
    "def new_salary(x):\n",
    "    return x * 20 / 100 + x"
   ]
  },
  {
   "cell_type": "code",
   "execution_count": 47,
   "id": "cce30330",
   "metadata": {},
   "outputs": [
    {
     "data": {
      "text/plain": [
       "1200.0"
      ]
     },
     "execution_count": 47,
     "metadata": {},
     "output_type": "execute_result"
    }
   ],
   "source": [
    "new_salary(1000)\n"
   ]
  },
  {
   "cell_type": "code",
   "execution_count": 48,
   "id": "62a893c8",
   "metadata": {},
   "outputs": [
    {
     "name": "stdout",
     "output_type": "stream",
     "text": [
      "1200.0\n",
      "2400.0\n",
      "3600.0\n",
      "4800.0\n",
      "6000.0\n"
     ]
    }
   ],
   "source": [
    "for salary in salaries:\n",
    "    print(new_salary(salary))"
   ]
  },
  {
   "cell_type": "code",
   "execution_count": 49,
   "id": "cd167fd8",
   "metadata": {},
   "outputs": [
    {
     "data": {
      "text/plain": [
       "[1200.0, 2400.0, 3600.0, 4800.0, 6000.0]"
      ]
     },
     "execution_count": 49,
     "metadata": {},
     "output_type": "execute_result"
    }
   ],
   "source": [
    "list(map(new_salary, salaries))"
   ]
  },
  {
   "cell_type": "code",
   "execution_count": 50,
   "id": "85d9b92f",
   "metadata": {},
   "outputs": [
    {
     "data": {
      "text/plain": [
       "[1200.0, 2400.0, 3600.0, 4800.0, 6000.0]"
      ]
     },
     "execution_count": 50,
     "metadata": {},
     "output_type": "execute_result"
    }
   ],
   "source": [
    "# del new_sum\n",
    "\n",
    "list(map(lambda x: x * 20 / 100 + x, salaries))"
   ]
  },
  {
   "cell_type": "code",
   "execution_count": 51,
   "id": "a459323e",
   "metadata": {},
   "outputs": [
    {
     "data": {
      "text/plain": [
       "[1000000, 4000000, 9000000, 16000000, 25000000]"
      ]
     },
     "execution_count": 51,
     "metadata": {},
     "output_type": "execute_result"
    }
   ],
   "source": [
    "list(map(lambda x: x ** 2, salaries))"
   ]
  },
  {
   "cell_type": "code",
   "execution_count": 52,
   "id": "cf29dd04",
   "metadata": {},
   "outputs": [
    {
     "data": {
      "text/plain": [
       "[2, 4, 6, 8, 10]"
      ]
     },
     "execution_count": 52,
     "metadata": {},
     "output_type": "execute_result"
    }
   ],
   "source": [
    "# FILTER\n",
    "\n",
    "list_store = [1, 2, 3, 4, 5, 6, 7, 8, 9, 10]\n",
    "list(filter(lambda x: x % 2 == 0, list_store))"
   ]
  },
  {
   "cell_type": "code",
   "execution_count": 53,
   "id": "4aafbbe0",
   "metadata": {},
   "outputs": [
    {
     "data": {
      "text/plain": [
       "10"
      ]
     },
     "execution_count": 53,
     "metadata": {},
     "output_type": "execute_result"
    }
   ],
   "source": [
    "# REDUCE\n",
    "\n",
    "from functools import reduce\n",
    "list_store = [1, 2, 3, 4]\n",
    "reduce(lambda a, b: a + b, list_store)"
   ]
  }
 ],
 "metadata": {
  "kernelspec": {
   "display_name": "Python 3 (ipykernel)",
   "language": "python",
   "name": "python3"
  },
  "language_info": {
   "codemirror_mode": {
    "name": "ipython",
    "version": 3
   },
   "file_extension": ".py",
   "mimetype": "text/x-python",
   "name": "python",
   "nbconvert_exporter": "python",
   "pygments_lexer": "ipython3",
   "version": "3.9.12"
  }
 },
 "nbformat": 4,
 "nbformat_minor": 5
}
