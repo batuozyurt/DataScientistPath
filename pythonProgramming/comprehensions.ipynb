{
 "cells": [
  {
   "cell_type": "markdown",
   "id": "419144ef",
   "metadata": {},
   "source": [
    "# Comprehensions\n",
    "- **Comprehensions**; bizlere _for döngüsü_ ile iki üç satırla tanımlayabileceğimiz listeleri **tek satırda** tanımlama imkanı sunar.\n",
    "---\n",
    "### List Comprehension"
   ]
  },
  {
   "cell_type": "markdown",
   "id": "6c68f6da",
   "metadata": {},
   "source": [
    "- elimizde maaş değerlerini barındıran bir listemiz olsun."
   ]
  },
  {
   "cell_type": "code",
   "execution_count": 8,
   "id": "da25ec0b",
   "metadata": {},
   "outputs": [],
   "source": [
    "salaries = [1000, 2000, 3000, 4000, 5000]"
   ]
  },
  {
   "cell_type": "markdown",
   "id": "5dae894c",
   "metadata": {},
   "source": [
    "- bu maaş değerlerine yüzde 20 zam yapmak için bir fonksiyon tanımlayalım."
   ]
  },
  {
   "cell_type": "code",
   "execution_count": 2,
   "id": "8b2a55a6",
   "metadata": {},
   "outputs": [],
   "source": [
    "def new_salary(x):\n",
    "    return x * 20 / 100 + x"
   ]
  },
  {
   "cell_type": "markdown",
   "id": "85e6c3a4",
   "metadata": {},
   "source": [
    "- bu fonksiyonu for döngüsü ile maaşlara uygulayalım."
   ]
  },
  {
   "cell_type": "code",
   "execution_count": 3,
   "id": "3b29b376",
   "metadata": {},
   "outputs": [
    {
     "name": "stdout",
     "output_type": "stream",
     "text": [
      "1200.0\n",
      "2400.0\n",
      "3600.0\n",
      "4800.0\n",
      "6000.0\n"
     ]
    }
   ],
   "source": [
    "for salary in salaries:\n",
    "    print(new_salary(salary))"
   ]
  },
  {
   "cell_type": "markdown",
   "id": "c6089b07",
   "metadata": {},
   "source": [
    "- bu yaptığımız zamlı maaşları bir listede tutmak istiyorsak boş bir liste tanımlayalım.\n",
    "- _append_ metodu ile for döngüsü içerisinde boş listeye ekleyelim."
   ]
  },
  {
   "cell_type": "code",
   "execution_count": 4,
   "id": "333480e0",
   "metadata": {},
   "outputs": [],
   "source": [
    "null_list = []\n",
    "\n",
    "for salary in salaries:\n",
    "    null_list.append(new_salary(salary))"
   ]
  },
  {
   "cell_type": "code",
   "execution_count": 5,
   "id": "ef588689",
   "metadata": {},
   "outputs": [
    {
     "data": {
      "text/plain": [
       "[1200.0, 2400.0, 3600.0, 4800.0, 6000.0]"
      ]
     },
     "execution_count": 5,
     "metadata": {},
     "output_type": "execute_result"
    }
   ],
   "source": [
    "null_list"
   ]
  },
  {
   "cell_type": "markdown",
   "id": "dbd957f8",
   "metadata": {},
   "source": [
    "- elimizde bulunan maaşların belirlenen şartlara göre zam almasını istiyorsak şart bloklarımızı ekleyelim."
   ]
  },
  {
   "cell_type": "code",
   "execution_count": 6,
   "id": "4438a81e",
   "metadata": {},
   "outputs": [],
   "source": [
    "null_list2 = []\n",
    "\n",
    "for salary in salaries:\n",
    "    if salary > 3000:\n",
    "        null_list2.append(new_salary(salary))\n",
    "    else:\n",
    "        null_list2.append(new_salary(salary * 2))"
   ]
  },
  {
   "cell_type": "code",
   "execution_count": 7,
   "id": "7cef7218",
   "metadata": {},
   "outputs": [
    {
     "data": {
      "text/plain": [
       "[2400.0, 4800.0, 7200.0, 4800.0, 6000.0]"
      ]
     },
     "execution_count": 7,
     "metadata": {},
     "output_type": "execute_result"
    }
   ],
   "source": [
    "null_list2"
   ]
  },
  {
   "cell_type": "markdown",
   "id": "fd197ef2",
   "metadata": {},
   "source": [
    "- görüldüğü üzere uzun bir zamanımızı aldı ve script içerisinde birden fazla satır kullanmış olduk. şimdi bu işlemleri kısa yoldan **_list comprehensions_** ile yapalım."
   ]
  },
  {
   "cell_type": "code",
   "execution_count": 9,
   "id": "cc8605a3",
   "metadata": {},
   "outputs": [
    {
     "data": {
      "text/plain": [
       "[2400.0, 4800.0, 3600.0, 4800.0, 6000.0]"
      ]
     },
     "execution_count": 9,
     "metadata": {},
     "output_type": "execute_result"
    }
   ],
   "source": [
    "[new_salary(salary * 2) if salary < 3000 else new_salary(salary) for salary in salaries]"
   ]
  },
  {
   "cell_type": "markdown",
   "id": "af630b45",
   "metadata": {},
   "source": [
    "- tek satırda isteklerimizi gerçekleştirmiş olduk. şimdi adım adım neler yaptık onlara bakalım."
   ]
  },
  {
   "cell_type": "code",
   "execution_count": 10,
   "id": "8fa4023e",
   "metadata": {},
   "outputs": [
    {
     "data": {
      "text/plain": [
       "[2000, 4000, 6000, 8000, 10000]"
      ]
     },
     "execution_count": 10,
     "metadata": {},
     "output_type": "execute_result"
    }
   ],
   "source": [
    "[salary * 2 for salary in salaries]"
   ]
  },
  {
   "cell_type": "markdown",
   "id": "cc4093fc",
   "metadata": {},
   "source": [
    "- _salaries_ listesi içerisinde gezerek maaşlara bir işlem uyguladık."
   ]
  },
  {
   "cell_type": "code",
   "execution_count": 11,
   "id": "0cac173c",
   "metadata": {},
   "outputs": [
    {
     "data": {
      "text/plain": [
       "[2000, 4000]"
      ]
     },
     "execution_count": 11,
     "metadata": {},
     "output_type": "execute_result"
    }
   ],
   "source": [
    "[salary * 2 for salary in salaries if salary < 3000]"
   ]
  },
  {
   "cell_type": "markdown",
   "id": "1194a6c2",
   "metadata": {},
   "source": [
    "- bir şart ekledik. maaşı 3000'den küçük olanlara işlem uyguladık.\n",
    "- burada dikkat etmemiz nokta _comprehensions_ yapısı. \n",
    "- tek bir şart ile işlem gerçekleştireceksek **_for_** yapısı **ortada**, **_if_** yapısı **sağ** tarafta olması gerekiyor."
   ]
  },
  {
   "cell_type": "code",
   "execution_count": 12,
   "id": "5e5ba0d8",
   "metadata": {},
   "outputs": [
    {
     "data": {
      "text/plain": [
       "[2000, 4000, 0, 0, 0]"
      ]
     },
     "execution_count": 12,
     "metadata": {},
     "output_type": "execute_result"
    }
   ],
   "source": [
    "[salary * 2 if salary < 3000 else salary * 0 for salary in salaries]"
   ]
  },
  {
   "cell_type": "markdown",
   "id": "79b89e4d",
   "metadata": {},
   "source": [
    "- ikinci bir şart eklediğimizde **_for_** yapısı en **sağ** tarafta olması gerekiyor."
   ]
  },
  {
   "cell_type": "code",
   "execution_count": 13,
   "id": "84dc344b",
   "metadata": {},
   "outputs": [
    {
     "data": {
      "text/plain": [
       "[2400.0, 4800.0, 720.0, 960.0, 1200.0]"
      ]
     },
     "execution_count": 13,
     "metadata": {},
     "output_type": "execute_result"
    }
   ],
   "source": [
    "[new_salary(salary * 2) if salary < 3000 else new_salary(salary * 0.2) for salary in salaries]"
   ]
  },
  {
   "cell_type": "code",
   "execution_count": 14,
   "id": "cdf1d0a8",
   "metadata": {},
   "outputs": [],
   "source": [
    "students = [\"John\", \"Mark\", \"Venessa\", \"Mariam\"]\n",
    "students_no = [\"John\", \"Venessa\"]"
   ]
  },
  {
   "cell_type": "code",
   "execution_count": 15,
   "id": "75191c9b",
   "metadata": {},
   "outputs": [
    {
     "data": {
      "text/plain": [
       "['john', 'MARK', 'venessa', 'MARIAM']"
      ]
     },
     "execution_count": 15,
     "metadata": {},
     "output_type": "execute_result"
    }
   ],
   "source": [
    "[student.lower() if student in students_no else student.upper() for student in students]"
   ]
  },
  {
   "cell_type": "code",
   "execution_count": 16,
   "id": "27e7a7b8",
   "metadata": {},
   "outputs": [
    {
     "data": {
      "text/plain": [
       "['john', 'MARK', 'venessa', 'MARIAM']"
      ]
     },
     "execution_count": 16,
     "metadata": {},
     "output_type": "execute_result"
    }
   ],
   "source": [
    "[student.upper() if student not in students_no else student.lower() for student in students]"
   ]
  },
  {
   "cell_type": "markdown",
   "id": "973c2e5d",
   "metadata": {},
   "source": [
    "### Dictionary Comprehensions"
   ]
  },
  {
   "cell_type": "code",
   "execution_count": 17,
   "id": "b40350c9",
   "metadata": {},
   "outputs": [],
   "source": [
    "dictionary = {'a': 1,\n",
    "              'b': 2,\n",
    "              'c': 3,\n",
    "              'd': 4}"
   ]
  },
  {
   "cell_type": "code",
   "execution_count": 18,
   "id": "9cb0f622",
   "metadata": {},
   "outputs": [
    {
     "data": {
      "text/plain": [
       "dict_keys(['a', 'b', 'c', 'd'])"
      ]
     },
     "execution_count": 18,
     "metadata": {},
     "output_type": "execute_result"
    }
   ],
   "source": [
    "dictionary.keys()"
   ]
  },
  {
   "cell_type": "code",
   "execution_count": 19,
   "id": "ea83c594",
   "metadata": {},
   "outputs": [
    {
     "data": {
      "text/plain": [
       "dict_values([1, 2, 3, 4])"
      ]
     },
     "execution_count": 19,
     "metadata": {},
     "output_type": "execute_result"
    }
   ],
   "source": [
    "dictionary.values()"
   ]
  },
  {
   "cell_type": "code",
   "execution_count": 20,
   "id": "a5b06247",
   "metadata": {},
   "outputs": [
    {
     "data": {
      "text/plain": [
       "dict_items([('a', 1), ('b', 2), ('c', 3), ('d', 4)])"
      ]
     },
     "execution_count": 20,
     "metadata": {},
     "output_type": "execute_result"
    }
   ],
   "source": [
    "dictionary.items()"
   ]
  },
  {
   "cell_type": "markdown",
   "id": "d70be950",
   "metadata": {},
   "source": [
    "- burada uygulamak istediğimiz işlem, _dictionary_ yapısındaki keys _sabit_ kalacak, values _karesi_ alınacak."
   ]
  },
  {
   "cell_type": "code",
   "execution_count": 21,
   "id": "89e7e51d",
   "metadata": {},
   "outputs": [
    {
     "data": {
      "text/plain": [
       "{'a': 1, 'b': 4, 'c': 9, 'd': 16}"
      ]
     },
     "execution_count": 21,
     "metadata": {},
     "output_type": "execute_result"
    }
   ],
   "source": [
    "{k: v ** 2 for (k, v) in dictionary.items()}"
   ]
  },
  {
   "cell_type": "code",
   "execution_count": 22,
   "id": "e7a36bce",
   "metadata": {},
   "outputs": [
    {
     "data": {
      "text/plain": [
       "{'A': 1, 'B': 2, 'C': 3, 'D': 4}"
      ]
     },
     "execution_count": 22,
     "metadata": {},
     "output_type": "execute_result"
    }
   ],
   "source": [
    "{k.upper(): v for (k, v) in dictionary.items()}"
   ]
  },
  {
   "cell_type": "code",
   "execution_count": 23,
   "id": "b4ebdd46",
   "metadata": {},
   "outputs": [
    {
     "data": {
      "text/plain": [
       "{'A': 2, 'B': 4, 'C': 6, 'D': 8}"
      ]
     },
     "execution_count": 23,
     "metadata": {},
     "output_type": "execute_result"
    }
   ],
   "source": [
    "{k.upper(): v * 2 for (k, v) in dictionary.items()}\n"
   ]
  },
  {
   "cell_type": "markdown",
   "id": "9238e484",
   "metadata": {},
   "source": [
    "#### Uygulama - Mülakat\n",
    "---\n",
    "- **Amaç**; çift sayıların karesi alınarak bir sözlüğe eklenmek istenmektedir.\n",
    "- **keys** orjinal değerler, **values** ise değiştirilmiş değerler olacak."
   ]
  },
  {
   "cell_type": "code",
   "execution_count": 24,
   "id": "a5a6ea31",
   "metadata": {},
   "outputs": [
    {
     "data": {
      "text/plain": [
       "{0: 0, 2: 4, 4: 16, 6: 36, 8: 64}"
      ]
     },
     "execution_count": 24,
     "metadata": {},
     "output_type": "execute_result"
    }
   ],
   "source": [
    "numbers = range(10)\n",
    "new_dict = {}\n",
    "\n",
    "for n in numbers:\n",
    "    if n % 2 == 0:\n",
    "        new_dict[n] = n ** 2\n",
    "        \n",
    "new_dict"
   ]
  },
  {
   "cell_type": "code",
   "execution_count": 25,
   "id": "abe90b10",
   "metadata": {},
   "outputs": [
    {
     "data": {
      "text/plain": [
       "{0: 0, 2: 4, 4: 16, 6: 36, 8: 64}"
      ]
     },
     "execution_count": 25,
     "metadata": {},
     "output_type": "execute_result"
    }
   ],
   "source": [
    "{n: n ** 2 for n in numbers if n % 2 == 0}"
   ]
  },
  {
   "cell_type": "markdown",
   "id": "36cfb94f",
   "metadata": {},
   "source": [
    "#### List & Dict Comprehensions Uygulamalar\n",
    "---\n",
    "- Bir Veri Setindeki Değişken İsimlerini Değiştirmek.\n",
    "- **before**;\n",
    "    - ['total', 'speeding', 'alcohol', 'not_distracted','no_previous', 'ins_premium', 'ins_losses', 'abbrev']\n",
    "- **after**;\n",
    "    - ['TOTAL', 'SPEEDING', 'ALCOHOL', 'NOT_DISTRACTED','NO_PREVIOUS', 'INS_PREMIUM', 'INS_LOSSES', 'ABBREV']"
   ]
  },
  {
   "cell_type": "code",
   "execution_count": 26,
   "id": "f0f94dda",
   "metadata": {},
   "outputs": [
    {
     "data": {
      "text/plain": [
       "Index(['total', 'speeding', 'alcohol', 'not_distracted', 'no_previous',\n",
       "       'ins_premium', 'ins_losses', 'abbrev'],\n",
       "      dtype='object')"
      ]
     },
     "execution_count": 26,
     "metadata": {},
     "output_type": "execute_result"
    }
   ],
   "source": [
    "import seaborn as sns \n",
    "\n",
    "df = sns.load_dataset(\"car_crashes\")\n",
    "df.columns"
   ]
  },
  {
   "cell_type": "code",
   "execution_count": 27,
   "id": "91303ff2",
   "metadata": {},
   "outputs": [
    {
     "name": "stdout",
     "output_type": "stream",
     "text": [
      "TOTAL\n",
      "SPEEDING\n",
      "ALCOHOL\n",
      "NOT_DISTRACTED\n",
      "NO_PREVIOUS\n",
      "INS_PREMIUM\n",
      "INS_LOSSES\n",
      "ABBREV\n"
     ]
    }
   ],
   "source": [
    "for col in df.columns:\n",
    "    print(col.upper())"
   ]
  },
  {
   "cell_type": "code",
   "execution_count": 28,
   "id": "c48e371b",
   "metadata": {},
   "outputs": [],
   "source": [
    "A = []\n",
    "\n",
    "for col in df.columns:\n",
    "    A.append(col.upper())\n",
    "    \n",
    "df.columns = A"
   ]
  },
  {
   "cell_type": "code",
   "execution_count": 29,
   "id": "a7a1bec9",
   "metadata": {},
   "outputs": [
    {
     "data": {
      "text/plain": [
       "Index(['TOTAL', 'SPEEDING', 'ALCOHOL', 'NOT_DISTRACTED', 'NO_PREVIOUS',\n",
       "       'INS_PREMIUM', 'INS_LOSSES', 'ABBREV'],\n",
       "      dtype='object')"
      ]
     },
     "execution_count": 29,
     "metadata": {},
     "output_type": "execute_result"
    }
   ],
   "source": [
    "df.columns"
   ]
  },
  {
   "cell_type": "markdown",
   "id": "0aed34d5",
   "metadata": {},
   "source": [
    "- istediğimiz işlemi uzun yol, klasik yöntemle gerçekleştirdik. şimdi comprehensions yapısı ile gerçekleştirelim."
   ]
  },
  {
   "cell_type": "code",
   "execution_count": 30,
   "id": "1a2c2acf",
   "metadata": {},
   "outputs": [],
   "source": [
    "df = sns.load_dataset(\"car_crashes\")"
   ]
  },
  {
   "cell_type": "code",
   "execution_count": 31,
   "id": "0ec33851",
   "metadata": {},
   "outputs": [],
   "source": [
    "df.columns = [col.upper() for col in df.columns]"
   ]
  },
  {
   "cell_type": "code",
   "execution_count": 32,
   "id": "de5e3b34",
   "metadata": {},
   "outputs": [
    {
     "data": {
      "text/plain": [
       "Index(['TOTAL', 'SPEEDING', 'ALCOHOL', 'NOT_DISTRACTED', 'NO_PREVIOUS',\n",
       "       'INS_PREMIUM', 'INS_LOSSES', 'ABBREV'],\n",
       "      dtype='object')"
      ]
     },
     "execution_count": 32,
     "metadata": {},
     "output_type": "execute_result"
    }
   ],
   "source": [
    "df.columns"
   ]
  },
  {
   "cell_type": "markdown",
   "id": "213ae5a0",
   "metadata": {},
   "source": [
    "- İsminde _\"INS\"_ olan değişkenlerin başına _FLAG_, _\"INS\"_ olmayan değişkenlerin başına _NO_FLAG_ eklemek istiyoruz."
   ]
  },
  {
   "cell_type": "code",
   "execution_count": 33,
   "id": "297d3aaf",
   "metadata": {},
   "outputs": [
    {
     "data": {
      "text/plain": [
       "['INS_PREMIUM', 'INS_LOSSES']"
      ]
     },
     "execution_count": 33,
     "metadata": {},
     "output_type": "execute_result"
    }
   ],
   "source": [
    "[col for col in df.columns if \"INS\" in col]"
   ]
  },
  {
   "cell_type": "code",
   "execution_count": 34,
   "id": "cb3a195c",
   "metadata": {},
   "outputs": [
    {
     "data": {
      "text/plain": [
       "['FLAG_INS_PREMIUM', 'FLAG_INS_LOSSES']"
      ]
     },
     "execution_count": 34,
     "metadata": {},
     "output_type": "execute_result"
    }
   ],
   "source": [
    "[\"FLAG_\" + col for col in df.columns if \"INS\" in col]"
   ]
  },
  {
   "cell_type": "code",
   "execution_count": 35,
   "id": "d4da27c6",
   "metadata": {},
   "outputs": [
    {
     "data": {
      "text/plain": [
       "['NO_FLAG_TOTAL',\n",
       " 'NO_FLAG_SPEEDING',\n",
       " 'NO_FLAG_ALCOHOL',\n",
       " 'NO_FLAG_NOT_DISTRACTED',\n",
       " 'NO_FLAG_NO_PREVIOUS',\n",
       " 'FLAG_INS_PREMIUM',\n",
       " 'FLAG_INS_LOSSES',\n",
       " 'NO_FLAG_ABBREV']"
      ]
     },
     "execution_count": 35,
     "metadata": {},
     "output_type": "execute_result"
    }
   ],
   "source": [
    "[\"FLAG_\" + col if \"INS\" in col else \"NO_FLAG_\" + col for col in df.columns]"
   ]
  },
  {
   "cell_type": "markdown",
   "id": "46dbfeed",
   "metadata": {},
   "source": [
    "---\n",
    "- Amaç key'i string, value'su aşağıdaki gibi bir liste olan sözlük oluşturmak.\n",
    "- Sadece sayısal değişkenler için yapmak istiyoruz.\n",
    "\n",
    "\n",
    "- **Output**;\n",
    "\n",
    "- {'total': ['mean', 'min', 'max', 'var'],\n",
    "- 'speeding': ['mean', 'min', 'max', 'var'],\n",
    "- 'alcohol': ['mean', 'min', 'max', 'var'],\n",
    "- 'not_distracted': ['mean', 'min', 'max', 'var'],\n",
    "- 'no_previous': ['mean', 'min', 'max', 'var'],\n",
    "- 'ins_premium': ['mean', 'min', 'max', 'var'],\n",
    "- 'ins_losses': ['mean', 'min', 'max', 'var']}"
   ]
  },
  {
   "cell_type": "code",
   "execution_count": 36,
   "id": "3f14c47a",
   "metadata": {},
   "outputs": [
    {
     "data": {
      "text/plain": [
       "Index(['total', 'speeding', 'alcohol', 'not_distracted', 'no_previous',\n",
       "       'ins_premium', 'ins_losses', 'abbrev'],\n",
       "      dtype='object')"
      ]
     },
     "execution_count": 36,
     "metadata": {},
     "output_type": "execute_result"
    }
   ],
   "source": [
    "df = sns.load_dataset(\"car_crashes\")\n",
    "df.columns"
   ]
  },
  {
   "cell_type": "code",
   "execution_count": 37,
   "id": "cc799beb",
   "metadata": {},
   "outputs": [],
   "source": [
    "num_cols = [col for col in df.columns if df[col].dtype != \"O\"]"
   ]
  },
  {
   "cell_type": "code",
   "execution_count": 38,
   "id": "b8cf062c",
   "metadata": {},
   "outputs": [
    {
     "data": {
      "text/plain": [
       "['total',\n",
       " 'speeding',\n",
       " 'alcohol',\n",
       " 'not_distracted',\n",
       " 'no_previous',\n",
       " 'ins_premium',\n",
       " 'ins_losses']"
      ]
     },
     "execution_count": 38,
     "metadata": {},
     "output_type": "execute_result"
    }
   ],
   "source": [
    "num_cols"
   ]
  },
  {
   "cell_type": "code",
   "execution_count": 39,
   "id": "83cd847f",
   "metadata": {},
   "outputs": [],
   "source": [
    "n_dict = {}\n",
    "agg_list = [\"mean\", \"max\", \"min\", \"sum\"]"
   ]
  },
  {
   "cell_type": "code",
   "execution_count": 40,
   "id": "03b18606",
   "metadata": {},
   "outputs": [],
   "source": [
    "for col in df.columns:\n",
    "    n_dict[col] = agg_list"
   ]
  },
  {
   "cell_type": "code",
   "execution_count": 41,
   "id": "525c048a",
   "metadata": {},
   "outputs": [
    {
     "data": {
      "text/plain": [
       "{'total': ['mean', 'max', 'min', 'sum'],\n",
       " 'speeding': ['mean', 'max', 'min', 'sum'],\n",
       " 'alcohol': ['mean', 'max', 'min', 'sum'],\n",
       " 'not_distracted': ['mean', 'max', 'min', 'sum'],\n",
       " 'no_previous': ['mean', 'max', 'min', 'sum'],\n",
       " 'ins_premium': ['mean', 'max', 'min', 'sum'],\n",
       " 'ins_losses': ['mean', 'max', 'min', 'sum'],\n",
       " 'abbrev': ['mean', 'max', 'min', 'sum']}"
      ]
     },
     "execution_count": 41,
     "metadata": {},
     "output_type": "execute_result"
    }
   ],
   "source": [
    "n_dict"
   ]
  },
  {
   "cell_type": "markdown",
   "id": "7f31ff3a",
   "metadata": {},
   "source": [
    "- kolay yol;"
   ]
  },
  {
   "cell_type": "code",
   "execution_count": 42,
   "id": "af1e082d",
   "metadata": {},
   "outputs": [],
   "source": [
    "new_dict = {col: agg_list for col in num_cols}"
   ]
  },
  {
   "cell_type": "code",
   "execution_count": 43,
   "id": "a3a006b5",
   "metadata": {},
   "outputs": [
    {
     "data": {
      "text/html": [
       "<div>\n",
       "<style scoped>\n",
       "    .dataframe tbody tr th:only-of-type {\n",
       "        vertical-align: middle;\n",
       "    }\n",
       "\n",
       "    .dataframe tbody tr th {\n",
       "        vertical-align: top;\n",
       "    }\n",
       "\n",
       "    .dataframe thead th {\n",
       "        text-align: right;\n",
       "    }\n",
       "</style>\n",
       "<table border=\"1\" class=\"dataframe\">\n",
       "  <thead>\n",
       "    <tr style=\"text-align: right;\">\n",
       "      <th></th>\n",
       "      <th>total</th>\n",
       "      <th>speeding</th>\n",
       "      <th>alcohol</th>\n",
       "      <th>not_distracted</th>\n",
       "      <th>no_previous</th>\n",
       "      <th>ins_premium</th>\n",
       "      <th>ins_losses</th>\n",
       "    </tr>\n",
       "  </thead>\n",
       "  <tbody>\n",
       "    <tr>\n",
       "      <th>0</th>\n",
       "      <td>18.8</td>\n",
       "      <td>7.332</td>\n",
       "      <td>5.640</td>\n",
       "      <td>18.048</td>\n",
       "      <td>15.040</td>\n",
       "      <td>784.55</td>\n",
       "      <td>145.08</td>\n",
       "    </tr>\n",
       "    <tr>\n",
       "      <th>1</th>\n",
       "      <td>18.1</td>\n",
       "      <td>7.421</td>\n",
       "      <td>4.525</td>\n",
       "      <td>16.290</td>\n",
       "      <td>17.014</td>\n",
       "      <td>1053.48</td>\n",
       "      <td>133.93</td>\n",
       "    </tr>\n",
       "    <tr>\n",
       "      <th>2</th>\n",
       "      <td>18.6</td>\n",
       "      <td>6.510</td>\n",
       "      <td>5.208</td>\n",
       "      <td>15.624</td>\n",
       "      <td>17.856</td>\n",
       "      <td>899.47</td>\n",
       "      <td>110.35</td>\n",
       "    </tr>\n",
       "    <tr>\n",
       "      <th>3</th>\n",
       "      <td>22.4</td>\n",
       "      <td>4.032</td>\n",
       "      <td>5.824</td>\n",
       "      <td>21.056</td>\n",
       "      <td>21.280</td>\n",
       "      <td>827.34</td>\n",
       "      <td>142.39</td>\n",
       "    </tr>\n",
       "    <tr>\n",
       "      <th>4</th>\n",
       "      <td>12.0</td>\n",
       "      <td>4.200</td>\n",
       "      <td>3.360</td>\n",
       "      <td>10.920</td>\n",
       "      <td>10.680</td>\n",
       "      <td>878.41</td>\n",
       "      <td>165.63</td>\n",
       "    </tr>\n",
       "  </tbody>\n",
       "</table>\n",
       "</div>"
      ],
      "text/plain": [
       "   total  speeding  alcohol  not_distracted  no_previous  ins_premium  \\\n",
       "0   18.8     7.332    5.640          18.048       15.040       784.55   \n",
       "1   18.1     7.421    4.525          16.290       17.014      1053.48   \n",
       "2   18.6     6.510    5.208          15.624       17.856       899.47   \n",
       "3   22.4     4.032    5.824          21.056       21.280       827.34   \n",
       "4   12.0     4.200    3.360          10.920       10.680       878.41   \n",
       "\n",
       "   ins_losses  \n",
       "0      145.08  \n",
       "1      133.93  \n",
       "2      110.35  \n",
       "3      142.39  \n",
       "4      165.63  "
      ]
     },
     "execution_count": 43,
     "metadata": {},
     "output_type": "execute_result"
    }
   ],
   "source": [
    "df[num_cols].head()"
   ]
  },
  {
   "cell_type": "code",
   "execution_count": 44,
   "id": "6cfabc7b",
   "metadata": {},
   "outputs": [
    {
     "data": {
      "text/html": [
       "<div>\n",
       "<style scoped>\n",
       "    .dataframe tbody tr th:only-of-type {\n",
       "        vertical-align: middle;\n",
       "    }\n",
       "\n",
       "    .dataframe tbody tr th {\n",
       "        vertical-align: top;\n",
       "    }\n",
       "\n",
       "    .dataframe thead th {\n",
       "        text-align: right;\n",
       "    }\n",
       "</style>\n",
       "<table border=\"1\" class=\"dataframe\">\n",
       "  <thead>\n",
       "    <tr style=\"text-align: right;\">\n",
       "      <th></th>\n",
       "      <th>total</th>\n",
       "      <th>speeding</th>\n",
       "      <th>alcohol</th>\n",
       "      <th>not_distracted</th>\n",
       "      <th>no_previous</th>\n",
       "      <th>ins_premium</th>\n",
       "      <th>ins_losses</th>\n",
       "    </tr>\n",
       "  </thead>\n",
       "  <tbody>\n",
       "    <tr>\n",
       "      <th>mean</th>\n",
       "      <td>15.790196</td>\n",
       "      <td>4.998196</td>\n",
       "      <td>4.886784</td>\n",
       "      <td>13.573176</td>\n",
       "      <td>14.004882</td>\n",
       "      <td>886.957647</td>\n",
       "      <td>134.493137</td>\n",
       "    </tr>\n",
       "    <tr>\n",
       "      <th>max</th>\n",
       "      <td>23.900000</td>\n",
       "      <td>9.450000</td>\n",
       "      <td>10.038000</td>\n",
       "      <td>23.661000</td>\n",
       "      <td>21.280000</td>\n",
       "      <td>1301.520000</td>\n",
       "      <td>194.780000</td>\n",
       "    </tr>\n",
       "    <tr>\n",
       "      <th>min</th>\n",
       "      <td>5.900000</td>\n",
       "      <td>1.792000</td>\n",
       "      <td>1.593000</td>\n",
       "      <td>1.760000</td>\n",
       "      <td>5.900000</td>\n",
       "      <td>641.960000</td>\n",
       "      <td>82.750000</td>\n",
       "    </tr>\n",
       "    <tr>\n",
       "      <th>sum</th>\n",
       "      <td>805.300000</td>\n",
       "      <td>254.908000</td>\n",
       "      <td>249.226000</td>\n",
       "      <td>692.232000</td>\n",
       "      <td>714.249000</td>\n",
       "      <td>45234.840000</td>\n",
       "      <td>6859.150000</td>\n",
       "    </tr>\n",
       "  </tbody>\n",
       "</table>\n",
       "</div>"
      ],
      "text/plain": [
       "           total    speeding     alcohol  not_distracted  no_previous  \\\n",
       "mean   15.790196    4.998196    4.886784       13.573176    14.004882   \n",
       "max    23.900000    9.450000   10.038000       23.661000    21.280000   \n",
       "min     5.900000    1.792000    1.593000        1.760000     5.900000   \n",
       "sum   805.300000  254.908000  249.226000      692.232000   714.249000   \n",
       "\n",
       "       ins_premium   ins_losses  \n",
       "mean    886.957647   134.493137  \n",
       "max    1301.520000   194.780000  \n",
       "min     641.960000    82.750000  \n",
       "sum   45234.840000  6859.150000  "
      ]
     },
     "execution_count": 44,
     "metadata": {},
     "output_type": "execute_result"
    }
   ],
   "source": [
    "df[num_cols].agg(new_dict)"
   ]
  }
 ],
 "metadata": {
  "kernelspec": {
   "display_name": "Python 3 (ipykernel)",
   "language": "python",
   "name": "python3"
  },
  "language_info": {
   "codemirror_mode": {
    "name": "ipython",
    "version": 3
   },
   "file_extension": ".py",
   "mimetype": "text/x-python",
   "name": "python",
   "nbconvert_exporter": "python",
   "pygments_lexer": "ipython3",
   "version": "3.9.12"
  }
 },
 "nbformat": 4,
 "nbformat_minor": 5
}
