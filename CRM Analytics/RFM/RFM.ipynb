{
 "cells": [
  {
   "cell_type": "markdown",
   "id": "0419d896",
   "metadata": {},
   "source": [
    "# Customer Segmentation with RFM\n",
    "---\n",
    "- **R**ecency, **F**requency, **M**onetary; metriklerinin baş harflerinin bir araya getirilmesi ile ifade edilir.\n",
    "- **RFM analizi**, müşteri segmentasyonu için kullanılan bir tekniktir.\n",
    "- Müşterilerin satın alma alışkanlıkları üzerinden gruplara ayrılması ve bu gruplar özelinde stratejiler geliştirilmesini sağlar.\n",
    "- CRM çalışmaları için birçok başlıkta _**veriye dayalı aksiyon alma**_ imkanı sağlar.\n",
    "---\n",
    "- **RFM Metrikleri**\n",
    "    - **Recency**: Müşterinin bizden en son ne zaman alışveriş yaptığı durumunu ifade eder.\n",
    "    - **Frequency**: Müşterinin yapmış olduğu toplam işlem sayısı. (Satın alma sıklığı)\n",
    "    - **Monetary**: Müşterilerin bizlere bıraktığı parasal değer.\n",
    "---\n",
    "- **RFM Skoru**\n",
    "    - RFM metriklerini standartlaştırıp bir araya getirerek RFM skoru oluşturuyoruz.\n",
    "    - _Peki neden?_; Metrikler kendi hallerinde bizlere çok fazla bir anlam ifade etmiyor. Segmentasyon yapamıyoruz. Bu yüzden metrikleri skora çevirip segmentasyon işlemini gerçekleştirebiliyoruz."
   ]
  },
  {
   "cell_type": "markdown",
   "id": "b93261a1",
   "metadata": {},
   "source": [
    "### Uçtan Uca RFM ile Müşteri Segmentasyonu\n",
    "---\n",
    "1. İş Problemi (Business Problem)\n",
    "2. Veriyi Anlama (Data Understanding)\n",
    "3. Veri Hazırlama (Data Preparation)\n",
    "4. RFM Metriklerinin Hesaplanması (Calculating RFM Metrics)\n",
    "5. RFM Skorlarının Hesaplanması (Calculating RFM Scores)\n",
    "6. RFM Segmentlerinin Oluşturulması ve Analiz Edilmesi (Creating & Analysing RFM Segments)\n",
    "7. Tüm Sürecin Fonksiyonlaştırılması"
   ]
  },
  {
   "cell_type": "markdown",
   "id": "ce3c636d",
   "metadata": {},
   "source": [
    "#### 1. İş Problemi (Business Problem)\n",
    "- Bir e-ticaret şirketi müşterilerini segmentlere ayırıp bu segmentlere göre pazarlama stratejileri belirlemek istiyor.\n",
    "\n",
    "\n",
    "- Veri Seti Hikayesi\n",
    "- https://archive.ics.uci.edu/ml/datasets/Online+Retail+II\n",
    "\n",
    "- Online Retail II isimli veri seti İngiltere merkezli online bir satış mağazasının 01/12/2009 - 09/12/2011 tarihleri arasındaki satışlarını içeriyor.\n",
    "\n",
    "\n",
    "- **Değişkenler**\n",
    "\n",
    "    - **InvoiceNo**: Fatura numarası. Her işleme yani faturaya ait eşsiz numara. C ile başlıyorsa iptal edilen işlem.\n",
    "    - **StockCode**: Ürün kodu. Her bir ürün için eşsiz numara.\n",
    "    - **Description**: Ürün ismi\n",
    "    - **Quantity**: Ürün adedi. Faturalardaki ürünlerden kaçar tane satıldığını ifade etmektedir.\n",
    "    - **InvoiceDate**: Fatura tarihi ve zamanı.\n",
    "    - **UnitPrice**: Ürün fiyatı (Sterlin cinsinden)\n",
    "    - **CustomerID**: Eşsiz müşteri numarası\n",
    "    - **Country**: Ülke ismi. Müşterinin yaşadığı ülke."
   ]
  },
  {
   "cell_type": "markdown",
   "id": "f96f1d50",
   "metadata": {},
   "source": [
    "#### 2. Veriyi Anlama (Data Understanding)"
   ]
  },
  {
   "cell_type": "code",
   "execution_count": 1,
   "id": "62defae9",
   "metadata": {},
   "outputs": [],
   "source": [
    "import datetime as dt\n",
    "import pandas as pd\n",
    "# .py script için yapılan gösterim ayarları\n",
    "pd.set_option(\"display.max_columns\", None)\n",
    "pd.set_option(\"display.max_rows\", None)\n",
    "pd.set_option(\"display.float_format\", lambda x: \"%.5f\" % x)"
   ]
  },
  {
   "cell_type": "code",
   "execution_count": 2,
   "id": "4b2fe496",
   "metadata": {},
   "outputs": [],
   "source": [
    "df_ = pd.read_excel(\"../datasets/online_retail_II.xlsx\", sheet_name=\"Year 2009-2010\")\n",
    "df = df_.copy()"
   ]
  },
  {
   "cell_type": "markdown",
   "id": "1465d1bc",
   "metadata": {},
   "source": [
    "- *df_.copy()* kullanmamın nedeni veri seti boyutu büyük olduğundan dolayı veri okuma işlemi uzun sürebilmektedir. çalışmamın ilerleyen zamanlarında tekrardan veriyi okutma ihtiyacı duyarsam bu süreyi optimize etmek, beklememek adına kullanıyorum."
   ]
  },
  {
   "cell_type": "code",
   "execution_count": 3,
   "id": "1f41c8de",
   "metadata": {},
   "outputs": [
    {
     "data": {
      "text/html": [
       "<div>\n",
       "<style scoped>\n",
       "    .dataframe tbody tr th:only-of-type {\n",
       "        vertical-align: middle;\n",
       "    }\n",
       "\n",
       "    .dataframe tbody tr th {\n",
       "        vertical-align: top;\n",
       "    }\n",
       "\n",
       "    .dataframe thead th {\n",
       "        text-align: right;\n",
       "    }\n",
       "</style>\n",
       "<table border=\"1\" class=\"dataframe\">\n",
       "  <thead>\n",
       "    <tr style=\"text-align: right;\">\n",
       "      <th></th>\n",
       "      <th>Invoice</th>\n",
       "      <th>StockCode</th>\n",
       "      <th>Description</th>\n",
       "      <th>Quantity</th>\n",
       "      <th>InvoiceDate</th>\n",
       "      <th>Price</th>\n",
       "      <th>Customer ID</th>\n",
       "      <th>Country</th>\n",
       "    </tr>\n",
       "  </thead>\n",
       "  <tbody>\n",
       "    <tr>\n",
       "      <th>0</th>\n",
       "      <td>489434</td>\n",
       "      <td>85048</td>\n",
       "      <td>15CM CHRISTMAS GLASS BALL 20 LIGHTS</td>\n",
       "      <td>12</td>\n",
       "      <td>2009-12-01 07:45:00</td>\n",
       "      <td>6.95000</td>\n",
       "      <td>13085.00000</td>\n",
       "      <td>United Kingdom</td>\n",
       "    </tr>\n",
       "    <tr>\n",
       "      <th>1</th>\n",
       "      <td>489434</td>\n",
       "      <td>79323P</td>\n",
       "      <td>PINK CHERRY LIGHTS</td>\n",
       "      <td>12</td>\n",
       "      <td>2009-12-01 07:45:00</td>\n",
       "      <td>6.75000</td>\n",
       "      <td>13085.00000</td>\n",
       "      <td>United Kingdom</td>\n",
       "    </tr>\n",
       "    <tr>\n",
       "      <th>2</th>\n",
       "      <td>489434</td>\n",
       "      <td>79323W</td>\n",
       "      <td>WHITE CHERRY LIGHTS</td>\n",
       "      <td>12</td>\n",
       "      <td>2009-12-01 07:45:00</td>\n",
       "      <td>6.75000</td>\n",
       "      <td>13085.00000</td>\n",
       "      <td>United Kingdom</td>\n",
       "    </tr>\n",
       "    <tr>\n",
       "      <th>3</th>\n",
       "      <td>489434</td>\n",
       "      <td>22041</td>\n",
       "      <td>RECORD FRAME 7\" SINGLE SIZE</td>\n",
       "      <td>48</td>\n",
       "      <td>2009-12-01 07:45:00</td>\n",
       "      <td>2.10000</td>\n",
       "      <td>13085.00000</td>\n",
       "      <td>United Kingdom</td>\n",
       "    </tr>\n",
       "    <tr>\n",
       "      <th>4</th>\n",
       "      <td>489434</td>\n",
       "      <td>21232</td>\n",
       "      <td>STRAWBERRY CERAMIC TRINKET BOX</td>\n",
       "      <td>24</td>\n",
       "      <td>2009-12-01 07:45:00</td>\n",
       "      <td>1.25000</td>\n",
       "      <td>13085.00000</td>\n",
       "      <td>United Kingdom</td>\n",
       "    </tr>\n",
       "  </tbody>\n",
       "</table>\n",
       "</div>"
      ],
      "text/plain": [
       "  Invoice StockCode                          Description  Quantity  \\\n",
       "0  489434     85048  15CM CHRISTMAS GLASS BALL 20 LIGHTS        12   \n",
       "1  489434    79323P                   PINK CHERRY LIGHTS        12   \n",
       "2  489434    79323W                  WHITE CHERRY LIGHTS        12   \n",
       "3  489434     22041         RECORD FRAME 7\" SINGLE SIZE         48   \n",
       "4  489434     21232       STRAWBERRY CERAMIC TRINKET BOX        24   \n",
       "\n",
       "          InvoiceDate   Price  Customer ID         Country  \n",
       "0 2009-12-01 07:45:00 6.95000  13085.00000  United Kingdom  \n",
       "1 2009-12-01 07:45:00 6.75000  13085.00000  United Kingdom  \n",
       "2 2009-12-01 07:45:00 6.75000  13085.00000  United Kingdom  \n",
       "3 2009-12-01 07:45:00 2.10000  13085.00000  United Kingdom  \n",
       "4 2009-12-01 07:45:00 1.25000  13085.00000  United Kingdom  "
      ]
     },
     "execution_count": 3,
     "metadata": {},
     "output_type": "execute_result"
    }
   ],
   "source": [
    "df.head()"
   ]
  },
  {
   "cell_type": "code",
   "execution_count": 4,
   "id": "ee9e22ef",
   "metadata": {},
   "outputs": [
    {
     "data": {
      "text/plain": [
       "(525461, 8)"
      ]
     },
     "execution_count": 4,
     "metadata": {},
     "output_type": "execute_result"
    }
   ],
   "source": [
    "df.shape # 525461 gözlem, 8 değişken"
   ]
  },
  {
   "cell_type": "code",
   "execution_count": 5,
   "id": "c2d9ee90",
   "metadata": {},
   "outputs": [
    {
     "data": {
      "text/plain": [
       "Invoice             0\n",
       "StockCode           0\n",
       "Description      2928\n",
       "Quantity            0\n",
       "InvoiceDate         0\n",
       "Price               0\n",
       "Customer ID    107927\n",
       "Country             0\n",
       "dtype: int64"
      ]
     },
     "execution_count": 5,
     "metadata": {},
     "output_type": "execute_result"
    }
   ],
   "source": [
    "df.isnull().sum()"
   ]
  },
  {
   "cell_type": "markdown",
   "id": "17c46f75",
   "metadata": {},
   "source": [
    "- kaç adet eşsiz ürün sayısı var?;"
   ]
  },
  {
   "cell_type": "code",
   "execution_count": 6,
   "id": "03e854cb",
   "metadata": {},
   "outputs": [
    {
     "data": {
      "text/plain": [
       "4681"
      ]
     },
     "execution_count": 6,
     "metadata": {},
     "output_type": "execute_result"
    }
   ],
   "source": [
    "df[\"Description\"].nunique()"
   ]
  },
  {
   "cell_type": "markdown",
   "id": "9338a4cd",
   "metadata": {},
   "source": [
    "- bu bulunan 4681 eşsiz ürünün hangileri kaç defa faturaya yansımıştır?;"
   ]
  },
  {
   "cell_type": "code",
   "execution_count": 7,
   "id": "f7e042bf",
   "metadata": {},
   "outputs": [
    {
     "data": {
      "text/plain": [
       "WHITE HANGING HEART T-LIGHT HOLDER    3549\n",
       "REGENCY CAKESTAND 3 TIER              2212\n",
       "STRAWBERRY CERAMIC TRINKET BOX        1843\n",
       "PACK OF 72 RETRO SPOT CAKE CASES      1466\n",
       "ASSORTED COLOUR BIRD ORNAMENT         1457\n",
       "Name: Description, dtype: int64"
      ]
     },
     "execution_count": 7,
     "metadata": {},
     "output_type": "execute_result"
    }
   ],
   "source": [
    "df[\"Description\"].value_counts().head()"
   ]
  },
  {
   "cell_type": "markdown",
   "id": "8a065a1d",
   "metadata": {},
   "source": [
    "- en çok sipariş edilen ürün hangisidir?; (hangi üründen toplam ne kadar sipariş edildi?)"
   ]
  },
  {
   "cell_type": "code",
   "execution_count": 10,
   "id": "12069998",
   "metadata": {},
   "outputs": [
    {
     "data": {
      "text/html": [
       "<div>\n",
       "<style scoped>\n",
       "    .dataframe tbody tr th:only-of-type {\n",
       "        vertical-align: middle;\n",
       "    }\n",
       "\n",
       "    .dataframe tbody tr th {\n",
       "        vertical-align: top;\n",
       "    }\n",
       "\n",
       "    .dataframe thead th {\n",
       "        text-align: right;\n",
       "    }\n",
       "</style>\n",
       "<table border=\"1\" class=\"dataframe\">\n",
       "  <thead>\n",
       "    <tr style=\"text-align: right;\">\n",
       "      <th></th>\n",
       "      <th>Quantity</th>\n",
       "    </tr>\n",
       "    <tr>\n",
       "      <th>Description</th>\n",
       "      <th></th>\n",
       "    </tr>\n",
       "  </thead>\n",
       "  <tbody>\n",
       "    <tr>\n",
       "      <th>WHITE HANGING HEART T-LIGHT HOLDER</th>\n",
       "      <td>57733</td>\n",
       "    </tr>\n",
       "    <tr>\n",
       "      <th>WORLD WAR 2 GLIDERS ASSTD DESIGNS</th>\n",
       "      <td>54698</td>\n",
       "    </tr>\n",
       "    <tr>\n",
       "      <th>BROCADE RING PURSE</th>\n",
       "      <td>47647</td>\n",
       "    </tr>\n",
       "    <tr>\n",
       "      <th>PACK OF 72 RETRO SPOT CAKE CASES</th>\n",
       "      <td>46106</td>\n",
       "    </tr>\n",
       "    <tr>\n",
       "      <th>ASSORTED COLOUR BIRD ORNAMENT</th>\n",
       "      <td>44925</td>\n",
       "    </tr>\n",
       "  </tbody>\n",
       "</table>\n",
       "</div>"
      ],
      "text/plain": [
       "                                    Quantity\n",
       "Description                                 \n",
       "WHITE HANGING HEART T-LIGHT HOLDER     57733\n",
       "WORLD WAR 2 GLIDERS ASSTD DESIGNS      54698\n",
       "BROCADE RING PURSE                     47647\n",
       "PACK OF 72 RETRO SPOT CAKE CASES       46106\n",
       "ASSORTED COLOUR BIRD ORNAMENT          44925"
      ]
     },
     "execution_count": 10,
     "metadata": {},
     "output_type": "execute_result"
    }
   ],
   "source": [
    "df.groupby(\"Description\").agg({\"Quantity\": \"sum\"}).sort_values(\"Quantity\", ascending=False).head()"
   ]
  },
  {
   "cell_type": "markdown",
   "id": "935ed1aa",
   "metadata": {},
   "source": [
    "- kaç fatura kesilmiş?"
   ]
  },
  {
   "cell_type": "code",
   "execution_count": 11,
   "id": "e37c59bd",
   "metadata": {},
   "outputs": [
    {
     "data": {
      "text/plain": [
       "28816"
      ]
     },
     "execution_count": 11,
     "metadata": {},
     "output_type": "execute_result"
    }
   ],
   "source": [
    "df[\"Invoice\"].nunique()"
   ]
  },
  {
   "cell_type": "markdown",
   "id": "f2dfa603",
   "metadata": {},
   "source": [
    "- fatura başına toplam kaç para kazanılmıştır?"
   ]
  },
  {
   "cell_type": "code",
   "execution_count": 12,
   "id": "bcffbd9f",
   "metadata": {},
   "outputs": [],
   "source": [
    "df[\"TotalPrice\"] = df[\"Quantity\"] * df[\"Price\"] # ürünlere ödenen toplam fiyat"
   ]
  },
  {
   "cell_type": "code",
   "execution_count": 13,
   "id": "3c63b3aa",
   "metadata": {
    "scrolled": true
   },
   "outputs": [
    {
     "data": {
      "text/html": [
       "<div>\n",
       "<style scoped>\n",
       "    .dataframe tbody tr th:only-of-type {\n",
       "        vertical-align: middle;\n",
       "    }\n",
       "\n",
       "    .dataframe tbody tr th {\n",
       "        vertical-align: top;\n",
       "    }\n",
       "\n",
       "    .dataframe thead th {\n",
       "        text-align: right;\n",
       "    }\n",
       "</style>\n",
       "<table border=\"1\" class=\"dataframe\">\n",
       "  <thead>\n",
       "    <tr style=\"text-align: right;\">\n",
       "      <th></th>\n",
       "      <th>Invoice</th>\n",
       "      <th>StockCode</th>\n",
       "      <th>Description</th>\n",
       "      <th>Quantity</th>\n",
       "      <th>InvoiceDate</th>\n",
       "      <th>Price</th>\n",
       "      <th>Customer ID</th>\n",
       "      <th>Country</th>\n",
       "      <th>TotalPrice</th>\n",
       "    </tr>\n",
       "  </thead>\n",
       "  <tbody>\n",
       "    <tr>\n",
       "      <th>0</th>\n",
       "      <td>489434</td>\n",
       "      <td>85048</td>\n",
       "      <td>15CM CHRISTMAS GLASS BALL 20 LIGHTS</td>\n",
       "      <td>12</td>\n",
       "      <td>2009-12-01 07:45:00</td>\n",
       "      <td>6.95000</td>\n",
       "      <td>13085.00000</td>\n",
       "      <td>United Kingdom</td>\n",
       "      <td>83.40000</td>\n",
       "    </tr>\n",
       "    <tr>\n",
       "      <th>1</th>\n",
       "      <td>489434</td>\n",
       "      <td>79323P</td>\n",
       "      <td>PINK CHERRY LIGHTS</td>\n",
       "      <td>12</td>\n",
       "      <td>2009-12-01 07:45:00</td>\n",
       "      <td>6.75000</td>\n",
       "      <td>13085.00000</td>\n",
       "      <td>United Kingdom</td>\n",
       "      <td>81.00000</td>\n",
       "    </tr>\n",
       "    <tr>\n",
       "      <th>2</th>\n",
       "      <td>489434</td>\n",
       "      <td>79323W</td>\n",
       "      <td>WHITE CHERRY LIGHTS</td>\n",
       "      <td>12</td>\n",
       "      <td>2009-12-01 07:45:00</td>\n",
       "      <td>6.75000</td>\n",
       "      <td>13085.00000</td>\n",
       "      <td>United Kingdom</td>\n",
       "      <td>81.00000</td>\n",
       "    </tr>\n",
       "    <tr>\n",
       "      <th>3</th>\n",
       "      <td>489434</td>\n",
       "      <td>22041</td>\n",
       "      <td>RECORD FRAME 7\" SINGLE SIZE</td>\n",
       "      <td>48</td>\n",
       "      <td>2009-12-01 07:45:00</td>\n",
       "      <td>2.10000</td>\n",
       "      <td>13085.00000</td>\n",
       "      <td>United Kingdom</td>\n",
       "      <td>100.80000</td>\n",
       "    </tr>\n",
       "    <tr>\n",
       "      <th>4</th>\n",
       "      <td>489434</td>\n",
       "      <td>21232</td>\n",
       "      <td>STRAWBERRY CERAMIC TRINKET BOX</td>\n",
       "      <td>24</td>\n",
       "      <td>2009-12-01 07:45:00</td>\n",
       "      <td>1.25000</td>\n",
       "      <td>13085.00000</td>\n",
       "      <td>United Kingdom</td>\n",
       "      <td>30.00000</td>\n",
       "    </tr>\n",
       "  </tbody>\n",
       "</table>\n",
       "</div>"
      ],
      "text/plain": [
       "  Invoice StockCode                          Description  Quantity  \\\n",
       "0  489434     85048  15CM CHRISTMAS GLASS BALL 20 LIGHTS        12   \n",
       "1  489434    79323P                   PINK CHERRY LIGHTS        12   \n",
       "2  489434    79323W                  WHITE CHERRY LIGHTS        12   \n",
       "3  489434     22041         RECORD FRAME 7\" SINGLE SIZE         48   \n",
       "4  489434     21232       STRAWBERRY CERAMIC TRINKET BOX        24   \n",
       "\n",
       "          InvoiceDate   Price  Customer ID         Country  TotalPrice  \n",
       "0 2009-12-01 07:45:00 6.95000  13085.00000  United Kingdom    83.40000  \n",
       "1 2009-12-01 07:45:00 6.75000  13085.00000  United Kingdom    81.00000  \n",
       "2 2009-12-01 07:45:00 6.75000  13085.00000  United Kingdom    81.00000  \n",
       "3 2009-12-01 07:45:00 2.10000  13085.00000  United Kingdom   100.80000  \n",
       "4 2009-12-01 07:45:00 1.25000  13085.00000  United Kingdom    30.00000  "
      ]
     },
     "execution_count": 13,
     "metadata": {},
     "output_type": "execute_result"
    }
   ],
   "source": [
    "df.head()"
   ]
  },
  {
   "cell_type": "code",
   "execution_count": 14,
   "id": "d414190f",
   "metadata": {},
   "outputs": [
    {
     "data": {
      "text/html": [
       "<div>\n",
       "<style scoped>\n",
       "    .dataframe tbody tr th:only-of-type {\n",
       "        vertical-align: middle;\n",
       "    }\n",
       "\n",
       "    .dataframe tbody tr th {\n",
       "        vertical-align: top;\n",
       "    }\n",
       "\n",
       "    .dataframe thead th {\n",
       "        text-align: right;\n",
       "    }\n",
       "</style>\n",
       "<table border=\"1\" class=\"dataframe\">\n",
       "  <thead>\n",
       "    <tr style=\"text-align: right;\">\n",
       "      <th></th>\n",
       "      <th>TotalPrice</th>\n",
       "    </tr>\n",
       "    <tr>\n",
       "      <th>Invoice</th>\n",
       "      <th></th>\n",
       "    </tr>\n",
       "  </thead>\n",
       "  <tbody>\n",
       "    <tr>\n",
       "      <th>489434</th>\n",
       "      <td>505.30000</td>\n",
       "    </tr>\n",
       "    <tr>\n",
       "      <th>489435</th>\n",
       "      <td>145.80000</td>\n",
       "    </tr>\n",
       "    <tr>\n",
       "      <th>489436</th>\n",
       "      <td>630.33000</td>\n",
       "    </tr>\n",
       "    <tr>\n",
       "      <th>489437</th>\n",
       "      <td>310.75000</td>\n",
       "    </tr>\n",
       "    <tr>\n",
       "      <th>489438</th>\n",
       "      <td>2286.24000</td>\n",
       "    </tr>\n",
       "  </tbody>\n",
       "</table>\n",
       "</div>"
      ],
      "text/plain": [
       "         TotalPrice\n",
       "Invoice            \n",
       "489434    505.30000\n",
       "489435    145.80000\n",
       "489436    630.33000\n",
       "489437    310.75000\n",
       "489438   2286.24000"
      ]
     },
     "execution_count": 14,
     "metadata": {},
     "output_type": "execute_result"
    }
   ],
   "source": [
    "df.groupby(\"Invoice\").agg({\"TotalPrice\": \"sum\"}).head()"
   ]
  },
  {
   "cell_type": "markdown",
   "id": "118a4ccb",
   "metadata": {},
   "source": [
    "#### 3. Veri Hazırlama (Data Preparation)"
   ]
  },
  {
   "cell_type": "code",
   "execution_count": 15,
   "id": "644eb93c",
   "metadata": {},
   "outputs": [
    {
     "data": {
      "text/plain": [
       "Invoice             0\n",
       "StockCode           0\n",
       "Description      2928\n",
       "Quantity            0\n",
       "InvoiceDate         0\n",
       "Price               0\n",
       "Customer ID    107927\n",
       "Country             0\n",
       "TotalPrice          0\n",
       "dtype: int64"
      ]
     },
     "execution_count": 15,
     "metadata": {},
     "output_type": "execute_result"
    }
   ],
   "source": [
    "df.isnull().sum()"
   ]
  },
  {
   "cell_type": "markdown",
   "id": "d77e4d21",
   "metadata": {},
   "source": [
    "- *Customer ID* değişkeninde eksik değerler bulunmakta. Müşteri bazlı segmentasyon yapacağım için bu eksik değerli veri setinden çıkarmam gerekiyor."
   ]
  },
  {
   "cell_type": "code",
   "execution_count": 16,
   "id": "89c0d1c7",
   "metadata": {},
   "outputs": [],
   "source": [
    "df.dropna(inplace=True)"
   ]
  },
  {
   "cell_type": "code",
   "execution_count": 18,
   "id": "6d97641d",
   "metadata": {},
   "outputs": [
    {
     "data": {
      "text/plain": [
       "Invoice        0\n",
       "StockCode      0\n",
       "Description    0\n",
       "Quantity       0\n",
       "InvoiceDate    0\n",
       "Price          0\n",
       "Customer ID    0\n",
       "Country        0\n",
       "TotalPrice     0\n",
       "dtype: int64"
      ]
     },
     "execution_count": 18,
     "metadata": {},
     "output_type": "execute_result"
    }
   ],
   "source": [
    "df.isnull().sum()"
   ]
  },
  {
   "cell_type": "markdown",
   "id": "60f6ed27",
   "metadata": {},
   "source": [
    "- veri seti hikayesinde bahsedildiği gibi iade faturaları da veri setinden çıkarmamız gerekiyor. verinin yapısını bozuyor."
   ]
  },
  {
   "cell_type": "code",
   "execution_count": 19,
   "id": "de1e7c9d",
   "metadata": {},
   "outputs": [],
   "source": [
    "df = df[~df[\"Invoice\"].str.contains(\"C\", na=False)]"
   ]
  },
  {
   "cell_type": "markdown",
   "id": "6fcc7d27",
   "metadata": {},
   "source": [
    "#### 4. RFM Metriklerinin Hesaplanması (Calculating RFM Metrics)\n",
    "- Recency, Frequency, Monetary\n",
    "\n",
    "\n",
    "- RFM metrikleri hesaplanmaya başlandığında ilk yapmamız gereken bir analiz tarihi belirlemek. veri seti eski bir veri seti olduğunu ve tarihi one göre belirlememiz gerektiğini unutmayalım."
   ]
  },
  {
   "cell_type": "code",
   "execution_count": 20,
   "id": "db123abe",
   "metadata": {},
   "outputs": [
    {
     "data": {
      "text/plain": [
       "Timestamp('2010-12-09 20:01:00')"
      ]
     },
     "execution_count": 20,
     "metadata": {},
     "output_type": "execute_result"
    }
   ],
   "source": [
    "df[\"InvoiceDate\"].max() # en son ne zaman işlem gerçekleşmiş?"
   ]
  },
  {
   "cell_type": "code",
   "execution_count": 22,
   "id": "7ad4cdf9",
   "metadata": {},
   "outputs": [],
   "source": [
    "today_date = dt.datetime(2010, 12, 11) # analiz tarihini belirledik."
   ]
  },
  {
   "cell_type": "code",
   "execution_count": 23,
   "id": "c67025a9",
   "metadata": {},
   "outputs": [
    {
     "data": {
      "text/plain": [
       "datetime.datetime"
      ]
     },
     "execution_count": 23,
     "metadata": {},
     "output_type": "execute_result"
    }
   ],
   "source": [
    "type(today_date)"
   ]
  },
  {
   "cell_type": "code",
   "execution_count": 24,
   "id": "dd4783d3",
   "metadata": {},
   "outputs": [],
   "source": [
    "rfm = df.groupby(\"Customer ID\").agg({\"InvoiceDate\": lambda date: (today_date - date.max()).days,\n",
    "                                    \"Invoice\": lambda num: num.nunique(),\n",
    "                                    \"TotalPrice\": lambda TotalPrice: TotalPrice.sum()})"
   ]
  },
  {
   "cell_type": "markdown",
   "id": "160206b0",
   "metadata": {},
   "source": [
    "- kullanıcı id'leri kırılımında gerçekleştirdiğim bu işlemde *InvoiceDate*'e uyguladığım aksiyon; belirlediğim analiz tarihinden müşterilerin en son alışveriş yaptığı tarihi çıkartıp bunu gün cinsinden ifade etmesini sağladım."
   ]
  },
  {
   "cell_type": "code",
   "execution_count": 25,
   "id": "f06a4b8d",
   "metadata": {},
   "outputs": [
    {
     "data": {
      "text/html": [
       "<div>\n",
       "<style scoped>\n",
       "    .dataframe tbody tr th:only-of-type {\n",
       "        vertical-align: middle;\n",
       "    }\n",
       "\n",
       "    .dataframe tbody tr th {\n",
       "        vertical-align: top;\n",
       "    }\n",
       "\n",
       "    .dataframe thead th {\n",
       "        text-align: right;\n",
       "    }\n",
       "</style>\n",
       "<table border=\"1\" class=\"dataframe\">\n",
       "  <thead>\n",
       "    <tr style=\"text-align: right;\">\n",
       "      <th></th>\n",
       "      <th>InvoiceDate</th>\n",
       "      <th>Invoice</th>\n",
       "      <th>TotalPrice</th>\n",
       "    </tr>\n",
       "    <tr>\n",
       "      <th>Customer ID</th>\n",
       "      <th></th>\n",
       "      <th></th>\n",
       "      <th></th>\n",
       "    </tr>\n",
       "  </thead>\n",
       "  <tbody>\n",
       "    <tr>\n",
       "      <th>12346.00000</th>\n",
       "      <td>165</td>\n",
       "      <td>11</td>\n",
       "      <td>372.86000</td>\n",
       "    </tr>\n",
       "    <tr>\n",
       "      <th>12347.00000</th>\n",
       "      <td>3</td>\n",
       "      <td>2</td>\n",
       "      <td>1323.32000</td>\n",
       "    </tr>\n",
       "    <tr>\n",
       "      <th>12348.00000</th>\n",
       "      <td>74</td>\n",
       "      <td>1</td>\n",
       "      <td>222.16000</td>\n",
       "    </tr>\n",
       "    <tr>\n",
       "      <th>12349.00000</th>\n",
       "      <td>43</td>\n",
       "      <td>3</td>\n",
       "      <td>2671.14000</td>\n",
       "    </tr>\n",
       "    <tr>\n",
       "      <th>12351.00000</th>\n",
       "      <td>11</td>\n",
       "      <td>1</td>\n",
       "      <td>300.93000</td>\n",
       "    </tr>\n",
       "  </tbody>\n",
       "</table>\n",
       "</div>"
      ],
      "text/plain": [
       "             InvoiceDate  Invoice  TotalPrice\n",
       "Customer ID                                  \n",
       "12346.00000          165       11   372.86000\n",
       "12347.00000            3        2  1323.32000\n",
       "12348.00000           74        1   222.16000\n",
       "12349.00000           43        3  2671.14000\n",
       "12351.00000           11        1   300.93000"
      ]
     },
     "execution_count": 25,
     "metadata": {},
     "output_type": "execute_result"
    }
   ],
   "source": [
    "rfm.head()"
   ]
  },
  {
   "cell_type": "code",
   "execution_count": 26,
   "id": "6e003141",
   "metadata": {},
   "outputs": [],
   "source": [
    "rfm.columns = [\"recency\", \"frequency\", \"monetary\"] # isimleri düzeltiyorum."
   ]
  },
  {
   "cell_type": "code",
   "execution_count": 27,
   "id": "611da5d7",
   "metadata": {},
   "outputs": [
    {
     "data": {
      "text/html": [
       "<div>\n",
       "<style scoped>\n",
       "    .dataframe tbody tr th:only-of-type {\n",
       "        vertical-align: middle;\n",
       "    }\n",
       "\n",
       "    .dataframe tbody tr th {\n",
       "        vertical-align: top;\n",
       "    }\n",
       "\n",
       "    .dataframe thead th {\n",
       "        text-align: right;\n",
       "    }\n",
       "</style>\n",
       "<table border=\"1\" class=\"dataframe\">\n",
       "  <thead>\n",
       "    <tr style=\"text-align: right;\">\n",
       "      <th></th>\n",
       "      <th>count</th>\n",
       "      <th>mean</th>\n",
       "      <th>std</th>\n",
       "      <th>min</th>\n",
       "      <th>25%</th>\n",
       "      <th>50%</th>\n",
       "      <th>75%</th>\n",
       "      <th>max</th>\n",
       "    </tr>\n",
       "  </thead>\n",
       "  <tbody>\n",
       "    <tr>\n",
       "      <th>recency</th>\n",
       "      <td>4314.00000</td>\n",
       "      <td>91.26982</td>\n",
       "      <td>96.94430</td>\n",
       "      <td>1.00000</td>\n",
       "      <td>18.00000</td>\n",
       "      <td>53.00000</td>\n",
       "      <td>136.00000</td>\n",
       "      <td>374.00000</td>\n",
       "    </tr>\n",
       "    <tr>\n",
       "      <th>frequency</th>\n",
       "      <td>4314.00000</td>\n",
       "      <td>4.45410</td>\n",
       "      <td>8.16866</td>\n",
       "      <td>1.00000</td>\n",
       "      <td>1.00000</td>\n",
       "      <td>2.00000</td>\n",
       "      <td>5.00000</td>\n",
       "      <td>205.00000</td>\n",
       "    </tr>\n",
       "    <tr>\n",
       "      <th>monetary</th>\n",
       "      <td>4314.00000</td>\n",
       "      <td>2047.28866</td>\n",
       "      <td>8912.52324</td>\n",
       "      <td>0.00000</td>\n",
       "      <td>307.95000</td>\n",
       "      <td>705.55000</td>\n",
       "      <td>1722.80250</td>\n",
       "      <td>349164.35000</td>\n",
       "    </tr>\n",
       "  </tbody>\n",
       "</table>\n",
       "</div>"
      ],
      "text/plain": [
       "               count       mean        std     min       25%       50%  \\\n",
       "recency   4314.00000   91.26982   96.94430 1.00000  18.00000  53.00000   \n",
       "frequency 4314.00000    4.45410    8.16866 1.00000   1.00000   2.00000   \n",
       "monetary  4314.00000 2047.28866 8912.52324 0.00000 307.95000 705.55000   \n",
       "\n",
       "                 75%          max  \n",
       "recency    136.00000    374.00000  \n",
       "frequency    5.00000    205.00000  \n",
       "monetary  1722.80250 349164.35000  "
      ]
     },
     "execution_count": 27,
     "metadata": {},
     "output_type": "execute_result"
    }
   ],
   "source": [
    "rfm.describe().T"
   ]
  },
  {
   "cell_type": "code",
   "execution_count": 28,
   "id": "39264d6b",
   "metadata": {},
   "outputs": [],
   "source": [
    "rfm = rfm[rfm[\"monetary\"] > 0]\n",
    "# monetary değeri min 0 olduğu için ve bunu istemediğimiz için düzenliyoruz"
   ]
  },
  {
   "cell_type": "code",
   "execution_count": 29,
   "id": "4b217ba6",
   "metadata": {},
   "outputs": [
    {
     "data": {
      "text/html": [
       "<div>\n",
       "<style scoped>\n",
       "    .dataframe tbody tr th:only-of-type {\n",
       "        vertical-align: middle;\n",
       "    }\n",
       "\n",
       "    .dataframe tbody tr th {\n",
       "        vertical-align: top;\n",
       "    }\n",
       "\n",
       "    .dataframe thead th {\n",
       "        text-align: right;\n",
       "    }\n",
       "</style>\n",
       "<table border=\"1\" class=\"dataframe\">\n",
       "  <thead>\n",
       "    <tr style=\"text-align: right;\">\n",
       "      <th></th>\n",
       "      <th>count</th>\n",
       "      <th>mean</th>\n",
       "      <th>std</th>\n",
       "      <th>min</th>\n",
       "      <th>25%</th>\n",
       "      <th>50%</th>\n",
       "      <th>75%</th>\n",
       "      <th>max</th>\n",
       "    </tr>\n",
       "  </thead>\n",
       "  <tbody>\n",
       "    <tr>\n",
       "      <th>recency</th>\n",
       "      <td>4312.00000</td>\n",
       "      <td>91.17254</td>\n",
       "      <td>96.86146</td>\n",
       "      <td>1.00000</td>\n",
       "      <td>18.00000</td>\n",
       "      <td>53.00000</td>\n",
       "      <td>136.00000</td>\n",
       "      <td>374.00000</td>\n",
       "    </tr>\n",
       "    <tr>\n",
       "      <th>frequency</th>\n",
       "      <td>4312.00000</td>\n",
       "      <td>4.45571</td>\n",
       "      <td>8.17021</td>\n",
       "      <td>1.00000</td>\n",
       "      <td>1.00000</td>\n",
       "      <td>2.00000</td>\n",
       "      <td>5.00000</td>\n",
       "      <td>205.00000</td>\n",
       "    </tr>\n",
       "    <tr>\n",
       "      <th>monetary</th>\n",
       "      <td>4312.00000</td>\n",
       "      <td>2048.23824</td>\n",
       "      <td>8914.48128</td>\n",
       "      <td>2.95000</td>\n",
       "      <td>307.98750</td>\n",
       "      <td>706.02000</td>\n",
       "      <td>1723.14250</td>\n",
       "      <td>349164.35000</td>\n",
       "    </tr>\n",
       "  </tbody>\n",
       "</table>\n",
       "</div>"
      ],
      "text/plain": [
       "               count       mean        std     min       25%       50%  \\\n",
       "recency   4312.00000   91.17254   96.86146 1.00000  18.00000  53.00000   \n",
       "frequency 4312.00000    4.45571    8.17021 1.00000   1.00000   2.00000   \n",
       "monetary  4312.00000 2048.23824 8914.48128 2.95000 307.98750 706.02000   \n",
       "\n",
       "                 75%          max  \n",
       "recency    136.00000    374.00000  \n",
       "frequency    5.00000    205.00000  \n",
       "monetary  1723.14250 349164.35000  "
      ]
     },
     "execution_count": 29,
     "metadata": {},
     "output_type": "execute_result"
    }
   ],
   "source": [
    "rfm.describe().T"
   ]
  },
  {
   "cell_type": "markdown",
   "id": "dc3b7710",
   "metadata": {},
   "source": [
    "#### 5. RFM Skorlarının Hesaplanması (Calculating RFM Scores)\n",
    "- burada dikkat etmemiz gereken bir nokta var. frequency ve monetary değeri büyük olan müşterileri skorladığımızda 5 olarak değerlendirebiliriz. fakat recency büyük olan müşterileri skorladığımız da 1 vermeliyiz. çünkü recency yenilik olduğu için yeni işlemleri tercih ederiz. kafa karışıklığı yaratmaması adına."
   ]
  },
  {
   "cell_type": "code",
   "execution_count": 30,
   "id": "91f316b9",
   "metadata": {},
   "outputs": [],
   "source": [
    "rfm[\"recency_score\"] = pd.qcut(rfm[\"recency\"], 5, labels=[5, 4, 3, 2, 1])"
   ]
  },
  {
   "cell_type": "markdown",
   "id": "e50657d7",
   "metadata": {},
   "source": [
    "- *qcut* fonksiyonu verilen değişkenleri küçükten büyüğe sıralar ve çeyreklik değerleri *labels* argümanına girdiğimiz değerlerle yeniden adlandırır. "
   ]
  },
  {
   "cell_type": "code",
   "execution_count": 31,
   "id": "ca315620",
   "metadata": {},
   "outputs": [],
   "source": [
    "rfm[\"monetary_score\"] = pd.qcut(rfm[\"monetary\"], 5, labels=[1, 2, 3, 4, 5])"
   ]
  },
  {
   "cell_type": "code",
   "execution_count": 32,
   "id": "9b2ce086",
   "metadata": {},
   "outputs": [],
   "source": [
    "rfm[\"frequency_score\"] = pd.qcut(rfm[\"frequency\"].rank(method=\"first\"), 5, labels=[1, 2, 3, 4, 5])"
   ]
  },
  {
   "cell_type": "markdown",
   "id": "3430a992",
   "metadata": {},
   "source": [
    "- *rank* metodunu kullanmamızdaki amaç; qcut ile çeyrekliklere ayırdığımızda çeyrekliklere hep aynı değerler düşmüş olduğundan valueerror döndürecek. o yüzden ilk gördüğünü ilk sınıfa ata demiş oluyoruz."
   ]
  },
  {
   "cell_type": "code",
   "execution_count": 33,
   "id": "a93b8792",
   "metadata": {
    "scrolled": true
   },
   "outputs": [
    {
     "data": {
      "text/html": [
       "<div>\n",
       "<style scoped>\n",
       "    .dataframe tbody tr th:only-of-type {\n",
       "        vertical-align: middle;\n",
       "    }\n",
       "\n",
       "    .dataframe tbody tr th {\n",
       "        vertical-align: top;\n",
       "    }\n",
       "\n",
       "    .dataframe thead th {\n",
       "        text-align: right;\n",
       "    }\n",
       "</style>\n",
       "<table border=\"1\" class=\"dataframe\">\n",
       "  <thead>\n",
       "    <tr style=\"text-align: right;\">\n",
       "      <th></th>\n",
       "      <th>recency</th>\n",
       "      <th>frequency</th>\n",
       "      <th>monetary</th>\n",
       "      <th>recency_score</th>\n",
       "      <th>monetary_score</th>\n",
       "      <th>frequency_score</th>\n",
       "    </tr>\n",
       "    <tr>\n",
       "      <th>Customer ID</th>\n",
       "      <th></th>\n",
       "      <th></th>\n",
       "      <th></th>\n",
       "      <th></th>\n",
       "      <th></th>\n",
       "      <th></th>\n",
       "    </tr>\n",
       "  </thead>\n",
       "  <tbody>\n",
       "    <tr>\n",
       "      <th>12346.00000</th>\n",
       "      <td>165</td>\n",
       "      <td>11</td>\n",
       "      <td>372.86000</td>\n",
       "      <td>2</td>\n",
       "      <td>2</td>\n",
       "      <td>5</td>\n",
       "    </tr>\n",
       "    <tr>\n",
       "      <th>12347.00000</th>\n",
       "      <td>3</td>\n",
       "      <td>2</td>\n",
       "      <td>1323.32000</td>\n",
       "      <td>5</td>\n",
       "      <td>4</td>\n",
       "      <td>2</td>\n",
       "    </tr>\n",
       "    <tr>\n",
       "      <th>12348.00000</th>\n",
       "      <td>74</td>\n",
       "      <td>1</td>\n",
       "      <td>222.16000</td>\n",
       "      <td>2</td>\n",
       "      <td>1</td>\n",
       "      <td>1</td>\n",
       "    </tr>\n",
       "    <tr>\n",
       "      <th>12349.00000</th>\n",
       "      <td>43</td>\n",
       "      <td>3</td>\n",
       "      <td>2671.14000</td>\n",
       "      <td>3</td>\n",
       "      <td>5</td>\n",
       "      <td>3</td>\n",
       "    </tr>\n",
       "    <tr>\n",
       "      <th>12351.00000</th>\n",
       "      <td>11</td>\n",
       "      <td>1</td>\n",
       "      <td>300.93000</td>\n",
       "      <td>5</td>\n",
       "      <td>2</td>\n",
       "      <td>1</td>\n",
       "    </tr>\n",
       "  </tbody>\n",
       "</table>\n",
       "</div>"
      ],
      "text/plain": [
       "             recency  frequency   monetary recency_score monetary_score  \\\n",
       "Customer ID                                                               \n",
       "12346.00000      165         11  372.86000             2              2   \n",
       "12347.00000        3          2 1323.32000             5              4   \n",
       "12348.00000       74          1  222.16000             2              1   \n",
       "12349.00000       43          3 2671.14000             3              5   \n",
       "12351.00000       11          1  300.93000             5              2   \n",
       "\n",
       "            frequency_score  \n",
       "Customer ID                  \n",
       "12346.00000               5  \n",
       "12347.00000               2  \n",
       "12348.00000               1  \n",
       "12349.00000               3  \n",
       "12351.00000               1  "
      ]
     },
     "execution_count": 33,
     "metadata": {},
     "output_type": "execute_result"
    }
   ],
   "source": [
    "rfm.head()"
   ]
  },
  {
   "cell_type": "markdown",
   "id": "22b5c1bd",
   "metadata": {},
   "source": [
    "- R ve F değerli yeterli olacağından R ve F değerlerini bir araya getirerek yazmamız gerekmektedir."
   ]
  },
  {
   "cell_type": "code",
   "execution_count": 34,
   "id": "a85e79ba",
   "metadata": {},
   "outputs": [],
   "source": [
    "rfm[\"RFM_SCORE\"] = (rfm[\"recency_score\"].astype(str) + rfm[\"frequency_score\"].astype(str))"
   ]
  },
  {
   "cell_type": "code",
   "execution_count": 35,
   "id": "61cd09a8",
   "metadata": {},
   "outputs": [
    {
     "data": {
      "text/html": [
       "<div>\n",
       "<style scoped>\n",
       "    .dataframe tbody tr th:only-of-type {\n",
       "        vertical-align: middle;\n",
       "    }\n",
       "\n",
       "    .dataframe tbody tr th {\n",
       "        vertical-align: top;\n",
       "    }\n",
       "\n",
       "    .dataframe thead th {\n",
       "        text-align: right;\n",
       "    }\n",
       "</style>\n",
       "<table border=\"1\" class=\"dataframe\">\n",
       "  <thead>\n",
       "    <tr style=\"text-align: right;\">\n",
       "      <th></th>\n",
       "      <th>recency</th>\n",
       "      <th>frequency</th>\n",
       "      <th>monetary</th>\n",
       "      <th>recency_score</th>\n",
       "      <th>monetary_score</th>\n",
       "      <th>frequency_score</th>\n",
       "      <th>RFM_SCORE</th>\n",
       "    </tr>\n",
       "    <tr>\n",
       "      <th>Customer ID</th>\n",
       "      <th></th>\n",
       "      <th></th>\n",
       "      <th></th>\n",
       "      <th></th>\n",
       "      <th></th>\n",
       "      <th></th>\n",
       "      <th></th>\n",
       "    </tr>\n",
       "  </thead>\n",
       "  <tbody>\n",
       "    <tr>\n",
       "      <th>12346.00000</th>\n",
       "      <td>165</td>\n",
       "      <td>11</td>\n",
       "      <td>372.86000</td>\n",
       "      <td>2</td>\n",
       "      <td>2</td>\n",
       "      <td>5</td>\n",
       "      <td>25</td>\n",
       "    </tr>\n",
       "    <tr>\n",
       "      <th>12347.00000</th>\n",
       "      <td>3</td>\n",
       "      <td>2</td>\n",
       "      <td>1323.32000</td>\n",
       "      <td>5</td>\n",
       "      <td>4</td>\n",
       "      <td>2</td>\n",
       "      <td>52</td>\n",
       "    </tr>\n",
       "    <tr>\n",
       "      <th>12348.00000</th>\n",
       "      <td>74</td>\n",
       "      <td>1</td>\n",
       "      <td>222.16000</td>\n",
       "      <td>2</td>\n",
       "      <td>1</td>\n",
       "      <td>1</td>\n",
       "      <td>21</td>\n",
       "    </tr>\n",
       "    <tr>\n",
       "      <th>12349.00000</th>\n",
       "      <td>43</td>\n",
       "      <td>3</td>\n",
       "      <td>2671.14000</td>\n",
       "      <td>3</td>\n",
       "      <td>5</td>\n",
       "      <td>3</td>\n",
       "      <td>33</td>\n",
       "    </tr>\n",
       "    <tr>\n",
       "      <th>12351.00000</th>\n",
       "      <td>11</td>\n",
       "      <td>1</td>\n",
       "      <td>300.93000</td>\n",
       "      <td>5</td>\n",
       "      <td>2</td>\n",
       "      <td>1</td>\n",
       "      <td>51</td>\n",
       "    </tr>\n",
       "  </tbody>\n",
       "</table>\n",
       "</div>"
      ],
      "text/plain": [
       "             recency  frequency   monetary recency_score monetary_score  \\\n",
       "Customer ID                                                               \n",
       "12346.00000      165         11  372.86000             2              2   \n",
       "12347.00000        3          2 1323.32000             5              4   \n",
       "12348.00000       74          1  222.16000             2              1   \n",
       "12349.00000       43          3 2671.14000             3              5   \n",
       "12351.00000       11          1  300.93000             5              2   \n",
       "\n",
       "            frequency_score RFM_SCORE  \n",
       "Customer ID                            \n",
       "12346.00000               5        25  \n",
       "12347.00000               2        52  \n",
       "12348.00000               1        21  \n",
       "12349.00000               3        33  \n",
       "12351.00000               1        51  "
      ]
     },
     "execution_count": 35,
     "metadata": {},
     "output_type": "execute_result"
    }
   ],
   "source": [
    "rfm.head()"
   ]
  },
  {
   "cell_type": "markdown",
   "id": "5446d702",
   "metadata": {},
   "source": [
    "- aslında şimdilik basit bir şekilde müşteri segmentasyonunu gerçekleştirmiş olduk. *nasıl?* bizim için en değerli müşterileri görmek istersek eğer;"
   ]
  },
  {
   "cell_type": "code",
   "execution_count": 38,
   "id": "b2b0327d",
   "metadata": {},
   "outputs": [
    {
     "data": {
      "text/html": [
       "<div>\n",
       "<style scoped>\n",
       "    .dataframe tbody tr th:only-of-type {\n",
       "        vertical-align: middle;\n",
       "    }\n",
       "\n",
       "    .dataframe tbody tr th {\n",
       "        vertical-align: top;\n",
       "    }\n",
       "\n",
       "    .dataframe thead th {\n",
       "        text-align: right;\n",
       "    }\n",
       "</style>\n",
       "<table border=\"1\" class=\"dataframe\">\n",
       "  <thead>\n",
       "    <tr style=\"text-align: right;\">\n",
       "      <th></th>\n",
       "      <th>recency</th>\n",
       "      <th>frequency</th>\n",
       "      <th>monetary</th>\n",
       "      <th>recency_score</th>\n",
       "      <th>monetary_score</th>\n",
       "      <th>frequency_score</th>\n",
       "      <th>RFM_SCORE</th>\n",
       "    </tr>\n",
       "    <tr>\n",
       "      <th>Customer ID</th>\n",
       "      <th></th>\n",
       "      <th></th>\n",
       "      <th></th>\n",
       "      <th></th>\n",
       "      <th></th>\n",
       "      <th></th>\n",
       "      <th></th>\n",
       "    </tr>\n",
       "  </thead>\n",
       "  <tbody>\n",
       "    <tr>\n",
       "      <th>12415.00000</th>\n",
       "      <td>11</td>\n",
       "      <td>7</td>\n",
       "      <td>19543.84000</td>\n",
       "      <td>5</td>\n",
       "      <td>5</td>\n",
       "      <td>5</td>\n",
       "      <td>55</td>\n",
       "    </tr>\n",
       "    <tr>\n",
       "      <th>12431.00000</th>\n",
       "      <td>9</td>\n",
       "      <td>13</td>\n",
       "      <td>4370.52000</td>\n",
       "      <td>5</td>\n",
       "      <td>5</td>\n",
       "      <td>5</td>\n",
       "      <td>55</td>\n",
       "    </tr>\n",
       "    <tr>\n",
       "      <th>12471.00000</th>\n",
       "      <td>10</td>\n",
       "      <td>49</td>\n",
       "      <td>20139.74000</td>\n",
       "      <td>5</td>\n",
       "      <td>5</td>\n",
       "      <td>5</td>\n",
       "      <td>55</td>\n",
       "    </tr>\n",
       "    <tr>\n",
       "      <th>12472.00000</th>\n",
       "      <td>5</td>\n",
       "      <td>13</td>\n",
       "      <td>11308.48000</td>\n",
       "      <td>5</td>\n",
       "      <td>5</td>\n",
       "      <td>5</td>\n",
       "      <td>55</td>\n",
       "    </tr>\n",
       "    <tr>\n",
       "      <th>12474.00000</th>\n",
       "      <td>14</td>\n",
       "      <td>13</td>\n",
       "      <td>5048.66000</td>\n",
       "      <td>5</td>\n",
       "      <td>5</td>\n",
       "      <td>5</td>\n",
       "      <td>55</td>\n",
       "    </tr>\n",
       "  </tbody>\n",
       "</table>\n",
       "</div>"
      ],
      "text/plain": [
       "             recency  frequency    monetary recency_score monetary_score  \\\n",
       "Customer ID                                                                \n",
       "12415.00000       11          7 19543.84000             5              5   \n",
       "12431.00000        9         13  4370.52000             5              5   \n",
       "12471.00000       10         49 20139.74000             5              5   \n",
       "12472.00000        5         13 11308.48000             5              5   \n",
       "12474.00000       14         13  5048.66000             5              5   \n",
       "\n",
       "            frequency_score RFM_SCORE  \n",
       "Customer ID                            \n",
       "12415.00000               5        55  \n",
       "12431.00000               5        55  \n",
       "12471.00000               5        55  \n",
       "12472.00000               5        55  \n",
       "12474.00000               5        55  "
      ]
     },
     "execution_count": 38,
     "metadata": {},
     "output_type": "execute_result"
    }
   ],
   "source": [
    "rfm[rfm[\"RFM_SCORE\"] == \"55\"].head()"
   ]
  },
  {
   "cell_type": "markdown",
   "id": "d5cc50f9",
   "metadata": {},
   "source": [
    "- görece az değerli müşteriler;"
   ]
  },
  {
   "cell_type": "code",
   "execution_count": 39,
   "id": "9ed5446a",
   "metadata": {},
   "outputs": [
    {
     "data": {
      "text/html": [
       "<div>\n",
       "<style scoped>\n",
       "    .dataframe tbody tr th:only-of-type {\n",
       "        vertical-align: middle;\n",
       "    }\n",
       "\n",
       "    .dataframe tbody tr th {\n",
       "        vertical-align: top;\n",
       "    }\n",
       "\n",
       "    .dataframe thead th {\n",
       "        text-align: right;\n",
       "    }\n",
       "</style>\n",
       "<table border=\"1\" class=\"dataframe\">\n",
       "  <thead>\n",
       "    <tr style=\"text-align: right;\">\n",
       "      <th></th>\n",
       "      <th>recency</th>\n",
       "      <th>frequency</th>\n",
       "      <th>monetary</th>\n",
       "      <th>recency_score</th>\n",
       "      <th>monetary_score</th>\n",
       "      <th>frequency_score</th>\n",
       "      <th>RFM_SCORE</th>\n",
       "    </tr>\n",
       "    <tr>\n",
       "      <th>Customer ID</th>\n",
       "      <th></th>\n",
       "      <th></th>\n",
       "      <th></th>\n",
       "      <th></th>\n",
       "      <th></th>\n",
       "      <th></th>\n",
       "      <th></th>\n",
       "    </tr>\n",
       "  </thead>\n",
       "  <tbody>\n",
       "    <tr>\n",
       "      <th>12355.00000</th>\n",
       "      <td>203</td>\n",
       "      <td>1</td>\n",
       "      <td>488.21000</td>\n",
       "      <td>1</td>\n",
       "      <td>2</td>\n",
       "      <td>1</td>\n",
       "      <td>11</td>\n",
       "    </tr>\n",
       "    <tr>\n",
       "      <th>12362.00000</th>\n",
       "      <td>374</td>\n",
       "      <td>1</td>\n",
       "      <td>130.00000</td>\n",
       "      <td>1</td>\n",
       "      <td>1</td>\n",
       "      <td>1</td>\n",
       "      <td>11</td>\n",
       "    </tr>\n",
       "    <tr>\n",
       "      <th>12366.00000</th>\n",
       "      <td>269</td>\n",
       "      <td>1</td>\n",
       "      <td>500.24000</td>\n",
       "      <td>1</td>\n",
       "      <td>2</td>\n",
       "      <td>1</td>\n",
       "      <td>11</td>\n",
       "    </tr>\n",
       "    <tr>\n",
       "      <th>12368.00000</th>\n",
       "      <td>264</td>\n",
       "      <td>1</td>\n",
       "      <td>917.70000</td>\n",
       "      <td>1</td>\n",
       "      <td>3</td>\n",
       "      <td>1</td>\n",
       "      <td>11</td>\n",
       "    </tr>\n",
       "    <tr>\n",
       "      <th>12378.00000</th>\n",
       "      <td>198</td>\n",
       "      <td>1</td>\n",
       "      <td>1407.70000</td>\n",
       "      <td>1</td>\n",
       "      <td>4</td>\n",
       "      <td>1</td>\n",
       "      <td>11</td>\n",
       "    </tr>\n",
       "  </tbody>\n",
       "</table>\n",
       "</div>"
      ],
      "text/plain": [
       "             recency  frequency   monetary recency_score monetary_score  \\\n",
       "Customer ID                                                               \n",
       "12355.00000      203          1  488.21000             1              2   \n",
       "12362.00000      374          1  130.00000             1              1   \n",
       "12366.00000      269          1  500.24000             1              2   \n",
       "12368.00000      264          1  917.70000             1              3   \n",
       "12378.00000      198          1 1407.70000             1              4   \n",
       "\n",
       "            frequency_score RFM_SCORE  \n",
       "Customer ID                            \n",
       "12355.00000               1        11  \n",
       "12362.00000               1        11  \n",
       "12366.00000               1        11  \n",
       "12368.00000               1        11  \n",
       "12378.00000               1        11  "
      ]
     },
     "execution_count": 39,
     "metadata": {},
     "output_type": "execute_result"
    }
   ],
   "source": [
    "rfm[rfm[\"RFM_SCORE\"] == \"11\"].head()"
   ]
  },
  {
   "cell_type": "markdown",
   "id": "8d95f5f1",
   "metadata": {},
   "source": [
    "#### 6. RFM Segmentlerinin Oluşturulması ve Analiz Edilmesi (Creating & Analysing RFM Segments)\n",
    "- tamam ama hep böyle tek tek yazarak mı bulacağız? 55 bana çok mantıksız geldi; o gruba bir isim mi versek? daha anlaşılır olur hem?\n",
    "- segmentleri isimlendirmemiz gerekiyor.."
   ]
  },
  {
   "cell_type": "code",
   "execution_count": 40,
   "id": "43fb2a27",
   "metadata": {},
   "outputs": [],
   "source": [
    "# RFM isimlendirmesi\n",
    "seg_map = {\n",
    "    r'[1-2][1-2]': 'hibernating',\n",
    "    r'[1-2][3-4]': 'at_Risk',\n",
    "    r'[1-2]5': 'cant_loose',\n",
    "    r'3[1-2]': 'about_to_sleep',\n",
    "    r'33': 'need_attention',\n",
    "    r'[3-4][4-5]': 'loyal_customers',\n",
    "    r'41': 'promising',\n",
    "    r'51': 'new_customers',\n",
    "    r'[4-5][2-3]': 'potential_loyalists',\n",
    "    r'5[4-5]': 'champions'\n",
    "}"
   ]
  },
  {
   "cell_type": "code",
   "execution_count": 41,
   "id": "342b867b",
   "metadata": {},
   "outputs": [],
   "source": [
    "rfm['segment'] = rfm['RFM_SCORE'].replace(seg_map, regex=True)"
   ]
  },
  {
   "cell_type": "code",
   "execution_count": 42,
   "id": "c6bd921f",
   "metadata": {
    "scrolled": true
   },
   "outputs": [
    {
     "data": {
      "text/html": [
       "<div>\n",
       "<style scoped>\n",
       "    .dataframe tbody tr th:only-of-type {\n",
       "        vertical-align: middle;\n",
       "    }\n",
       "\n",
       "    .dataframe tbody tr th {\n",
       "        vertical-align: top;\n",
       "    }\n",
       "\n",
       "    .dataframe thead th {\n",
       "        text-align: right;\n",
       "    }\n",
       "</style>\n",
       "<table border=\"1\" class=\"dataframe\">\n",
       "  <thead>\n",
       "    <tr style=\"text-align: right;\">\n",
       "      <th></th>\n",
       "      <th>recency</th>\n",
       "      <th>frequency</th>\n",
       "      <th>monetary</th>\n",
       "      <th>recency_score</th>\n",
       "      <th>monetary_score</th>\n",
       "      <th>frequency_score</th>\n",
       "      <th>RFM_SCORE</th>\n",
       "      <th>segment</th>\n",
       "    </tr>\n",
       "    <tr>\n",
       "      <th>Customer ID</th>\n",
       "      <th></th>\n",
       "      <th></th>\n",
       "      <th></th>\n",
       "      <th></th>\n",
       "      <th></th>\n",
       "      <th></th>\n",
       "      <th></th>\n",
       "      <th></th>\n",
       "    </tr>\n",
       "  </thead>\n",
       "  <tbody>\n",
       "    <tr>\n",
       "      <th>12346.00000</th>\n",
       "      <td>165</td>\n",
       "      <td>11</td>\n",
       "      <td>372.86000</td>\n",
       "      <td>2</td>\n",
       "      <td>2</td>\n",
       "      <td>5</td>\n",
       "      <td>25</td>\n",
       "      <td>cant_loose</td>\n",
       "    </tr>\n",
       "    <tr>\n",
       "      <th>12347.00000</th>\n",
       "      <td>3</td>\n",
       "      <td>2</td>\n",
       "      <td>1323.32000</td>\n",
       "      <td>5</td>\n",
       "      <td>4</td>\n",
       "      <td>2</td>\n",
       "      <td>52</td>\n",
       "      <td>potential_loyalists</td>\n",
       "    </tr>\n",
       "    <tr>\n",
       "      <th>12348.00000</th>\n",
       "      <td>74</td>\n",
       "      <td>1</td>\n",
       "      <td>222.16000</td>\n",
       "      <td>2</td>\n",
       "      <td>1</td>\n",
       "      <td>1</td>\n",
       "      <td>21</td>\n",
       "      <td>hibernating</td>\n",
       "    </tr>\n",
       "    <tr>\n",
       "      <th>12349.00000</th>\n",
       "      <td>43</td>\n",
       "      <td>3</td>\n",
       "      <td>2671.14000</td>\n",
       "      <td>3</td>\n",
       "      <td>5</td>\n",
       "      <td>3</td>\n",
       "      <td>33</td>\n",
       "      <td>need_attention</td>\n",
       "    </tr>\n",
       "    <tr>\n",
       "      <th>12351.00000</th>\n",
       "      <td>11</td>\n",
       "      <td>1</td>\n",
       "      <td>300.93000</td>\n",
       "      <td>5</td>\n",
       "      <td>2</td>\n",
       "      <td>1</td>\n",
       "      <td>51</td>\n",
       "      <td>new_customers</td>\n",
       "    </tr>\n",
       "  </tbody>\n",
       "</table>\n",
       "</div>"
      ],
      "text/plain": [
       "             recency  frequency   monetary recency_score monetary_score  \\\n",
       "Customer ID                                                               \n",
       "12346.00000      165         11  372.86000             2              2   \n",
       "12347.00000        3          2 1323.32000             5              4   \n",
       "12348.00000       74          1  222.16000             2              1   \n",
       "12349.00000       43          3 2671.14000             3              5   \n",
       "12351.00000       11          1  300.93000             5              2   \n",
       "\n",
       "            frequency_score RFM_SCORE              segment  \n",
       "Customer ID                                                 \n",
       "12346.00000               5        25           cant_loose  \n",
       "12347.00000               2        52  potential_loyalists  \n",
       "12348.00000               1        21          hibernating  \n",
       "12349.00000               3        33       need_attention  \n",
       "12351.00000               1        51        new_customers  "
      ]
     },
     "execution_count": 42,
     "metadata": {},
     "output_type": "execute_result"
    }
   ],
   "source": [
    "rfm.head()"
   ]
  },
  {
   "cell_type": "markdown",
   "id": "86912abe",
   "metadata": {},
   "source": [
    "- peki bu segmentlerin analizini yapmak istersek?"
   ]
  },
  {
   "cell_type": "code",
   "execution_count": 43,
   "id": "d4aded39",
   "metadata": {
    "scrolled": true
   },
   "outputs": [
    {
     "data": {
      "text/html": [
       "<div>\n",
       "<style scoped>\n",
       "    .dataframe tbody tr th:only-of-type {\n",
       "        vertical-align: middle;\n",
       "    }\n",
       "\n",
       "    .dataframe tbody tr th {\n",
       "        vertical-align: top;\n",
       "    }\n",
       "\n",
       "    .dataframe thead tr th {\n",
       "        text-align: left;\n",
       "    }\n",
       "\n",
       "    .dataframe thead tr:last-of-type th {\n",
       "        text-align: right;\n",
       "    }\n",
       "</style>\n",
       "<table border=\"1\" class=\"dataframe\">\n",
       "  <thead>\n",
       "    <tr>\n",
       "      <th></th>\n",
       "      <th colspan=\"2\" halign=\"left\">recency</th>\n",
       "      <th colspan=\"2\" halign=\"left\">frequency</th>\n",
       "      <th colspan=\"2\" halign=\"left\">monetary</th>\n",
       "    </tr>\n",
       "    <tr>\n",
       "      <th></th>\n",
       "      <th>mean</th>\n",
       "      <th>count</th>\n",
       "      <th>mean</th>\n",
       "      <th>count</th>\n",
       "      <th>mean</th>\n",
       "      <th>count</th>\n",
       "    </tr>\n",
       "    <tr>\n",
       "      <th>segment</th>\n",
       "      <th></th>\n",
       "      <th></th>\n",
       "      <th></th>\n",
       "      <th></th>\n",
       "      <th></th>\n",
       "      <th></th>\n",
       "    </tr>\n",
       "  </thead>\n",
       "  <tbody>\n",
       "    <tr>\n",
       "      <th>about_to_sleep</th>\n",
       "      <td>53.81924</td>\n",
       "      <td>343</td>\n",
       "      <td>1.20117</td>\n",
       "      <td>343</td>\n",
       "      <td>441.32000</td>\n",
       "      <td>343</td>\n",
       "    </tr>\n",
       "    <tr>\n",
       "      <th>at_Risk</th>\n",
       "      <td>152.15876</td>\n",
       "      <td>611</td>\n",
       "      <td>3.07365</td>\n",
       "      <td>611</td>\n",
       "      <td>1188.87832</td>\n",
       "      <td>611</td>\n",
       "    </tr>\n",
       "    <tr>\n",
       "      <th>cant_loose</th>\n",
       "      <td>124.11688</td>\n",
       "      <td>77</td>\n",
       "      <td>9.11688</td>\n",
       "      <td>77</td>\n",
       "      <td>4099.45000</td>\n",
       "      <td>77</td>\n",
       "    </tr>\n",
       "    <tr>\n",
       "      <th>champions</th>\n",
       "      <td>7.11916</td>\n",
       "      <td>663</td>\n",
       "      <td>12.55354</td>\n",
       "      <td>663</td>\n",
       "      <td>6852.26417</td>\n",
       "      <td>663</td>\n",
       "    </tr>\n",
       "    <tr>\n",
       "      <th>hibernating</th>\n",
       "      <td>213.88571</td>\n",
       "      <td>1015</td>\n",
       "      <td>1.12611</td>\n",
       "      <td>1015</td>\n",
       "      <td>403.97784</td>\n",
       "      <td>1015</td>\n",
       "    </tr>\n",
       "    <tr>\n",
       "      <th>loyal_customers</th>\n",
       "      <td>36.28706</td>\n",
       "      <td>742</td>\n",
       "      <td>6.83019</td>\n",
       "      <td>742</td>\n",
       "      <td>2746.06735</td>\n",
       "      <td>742</td>\n",
       "    </tr>\n",
       "    <tr>\n",
       "      <th>need_attention</th>\n",
       "      <td>53.26570</td>\n",
       "      <td>207</td>\n",
       "      <td>2.44928</td>\n",
       "      <td>207</td>\n",
       "      <td>1060.35700</td>\n",
       "      <td>207</td>\n",
       "    </tr>\n",
       "    <tr>\n",
       "      <th>new_customers</th>\n",
       "      <td>8.58000</td>\n",
       "      <td>50</td>\n",
       "      <td>1.00000</td>\n",
       "      <td>50</td>\n",
       "      <td>386.19920</td>\n",
       "      <td>50</td>\n",
       "    </tr>\n",
       "    <tr>\n",
       "      <th>potential_loyalists</th>\n",
       "      <td>18.79304</td>\n",
       "      <td>517</td>\n",
       "      <td>2.01741</td>\n",
       "      <td>517</td>\n",
       "      <td>729.51099</td>\n",
       "      <td>517</td>\n",
       "    </tr>\n",
       "    <tr>\n",
       "      <th>promising</th>\n",
       "      <td>25.74713</td>\n",
       "      <td>87</td>\n",
       "      <td>1.00000</td>\n",
       "      <td>87</td>\n",
       "      <td>367.08678</td>\n",
       "      <td>87</td>\n",
       "    </tr>\n",
       "  </tbody>\n",
       "</table>\n",
       "</div>"
      ],
      "text/plain": [
       "                      recency       frequency         monetary      \n",
       "                         mean count      mean count       mean count\n",
       "segment                                                             \n",
       "about_to_sleep       53.81924   343   1.20117   343  441.32000   343\n",
       "at_Risk             152.15876   611   3.07365   611 1188.87832   611\n",
       "cant_loose          124.11688    77   9.11688    77 4099.45000    77\n",
       "champions             7.11916   663  12.55354   663 6852.26417   663\n",
       "hibernating         213.88571  1015   1.12611  1015  403.97784  1015\n",
       "loyal_customers      36.28706   742   6.83019   742 2746.06735   742\n",
       "need_attention       53.26570   207   2.44928   207 1060.35700   207\n",
       "new_customers         8.58000    50   1.00000    50  386.19920    50\n",
       "potential_loyalists  18.79304   517   2.01741   517  729.51099   517\n",
       "promising            25.74713    87   1.00000    87  367.08678    87"
      ]
     },
     "execution_count": 43,
     "metadata": {},
     "output_type": "execute_result"
    }
   ],
   "source": [
    "rfm[[\"segment\", \"recency\", \"frequency\", \"monetary\"]].groupby(\"segment\").agg([\"mean\", \"count\"])"
   ]
  },
  {
   "cell_type": "markdown",
   "id": "f9af63f5",
   "metadata": {},
   "source": [
    "- peki bu müşterilerin idlerine göre onlara ulaşmak ve onlara özel kampanyalar yapmak istersem?"
   ]
  },
  {
   "cell_type": "code",
   "execution_count": 44,
   "id": "e4968a4d",
   "metadata": {},
   "outputs": [
    {
     "data": {
      "text/plain": [
       "Float64Index([12346.0, 12380.0, 12482.0, 12510.0, 12891.0, 12932.0, 13044.0,\n",
       "              13313.0, 13680.0, 13782.0, 13799.0, 13856.0, 14025.0, 14063.0,\n",
       "              14160.0, 14221.0, 14548.0, 14607.0, 14685.0, 14745.0, 15003.0,\n",
       "              15013.0, 15015.0, 15125.0, 15141.0, 15222.0, 15306.0, 15321.0,\n",
       "              15359.0, 15369.0, 15372.0, 15443.0, 15538.0, 15607.0, 15633.0,\n",
       "              15722.0, 15751.0, 15754.0, 15768.0, 15911.0, 15912.0, 16027.0,\n",
       "              16032.0, 16158.0, 16177.0, 16197.0, 16335.0, 16467.0, 16631.0,\n",
       "              16742.0, 16743.0, 16875.0, 16986.0, 17021.0, 17032.0, 17092.0,\n",
       "              17113.0, 17157.0, 17188.0, 17230.0, 17268.0, 17426.0, 17448.0,\n",
       "              17454.0, 17512.0, 17578.0, 17602.0, 17651.0, 17940.0, 17969.0,\n",
       "              17988.0, 18009.0, 18051.0, 18064.0, 18094.0, 18251.0, 18258.0],\n",
       "             dtype='float64', name='Customer ID')"
      ]
     },
     "execution_count": 44,
     "metadata": {},
     "output_type": "execute_result"
    }
   ],
   "source": [
    "rfm[rfm[\"segment\"] == \"cant_loose\"].index"
   ]
  },
  {
   "cell_type": "code",
   "execution_count": 45,
   "id": "a9ee7dd2",
   "metadata": {},
   "outputs": [],
   "source": [
    "new_df = pd.DataFrame()"
   ]
  },
  {
   "cell_type": "code",
   "execution_count": 46,
   "id": "b2d54dcc",
   "metadata": {},
   "outputs": [],
   "source": [
    "new_df[\"new_customer_id\"] = rfm[rfm[\"segment\"] == \"new_customers\"].index"
   ]
  },
  {
   "cell_type": "code",
   "execution_count": 47,
   "id": "a562ccc4",
   "metadata": {},
   "outputs": [],
   "source": [
    "new_df[\"new_customer_id\"] = new_df[\"new_customer_id\"].astype(int)"
   ]
  },
  {
   "cell_type": "code",
   "execution_count": 48,
   "id": "bde6ae53",
   "metadata": {},
   "outputs": [],
   "source": [
    "new_df.to_csv(\"new_customers.csv\")"
   ]
  },
  {
   "cell_type": "markdown",
   "id": "9dd3b8cf",
   "metadata": {},
   "source": [
    "#### 7. Tüm Sürecin Fonksiyonlaştırılması\n",
    "- eğer script olarak kullanmak istersek; aynı projede güncellemek için."
   ]
  },
  {
   "cell_type": "code",
   "execution_count": 49,
   "id": "086c8957",
   "metadata": {},
   "outputs": [],
   "source": [
    "def create_rfm(dataframe, csv=False):\n",
    "\n",
    "    # VERIYI HAZIRLAMA\n",
    "    dataframe[\"TotalPrice\"] = dataframe[\"Quantity\"] * dataframe[\"Price\"]\n",
    "    dataframe.dropna(inplace=True)\n",
    "    dataframe = dataframe[~dataframe[\"Invoice\"].str.contains(\"C\", na=False)]\n",
    "\n",
    "    # RFM METRIKLERININ HESAPLANMASI\n",
    "    today_date = dt.datetime(2011, 12, 11)\n",
    "    rfm = dataframe.groupby('Customer ID').agg({'InvoiceDate': lambda date: (today_date - date.max()).days,\n",
    "                                                'Invoice': lambda num: num.nunique(),\n",
    "                                                \"TotalPrice\": lambda price: price.sum()})\n",
    "    rfm.columns = ['recency', 'frequency', \"monetary\"]\n",
    "    rfm = rfm[(rfm['monetary'] > 0)]\n",
    "\n",
    "    # RFM SKORLARININ HESAPLANMASI\n",
    "    rfm[\"recency_score\"] = pd.qcut(rfm['recency'], 5, labels=[5, 4, 3, 2, 1])\n",
    "    rfm[\"frequency_score\"] = pd.qcut(rfm[\"frequency\"].rank(method=\"first\"), 5, labels=[1, 2, 3, 4, 5])\n",
    "    rfm[\"monetary_score\"] = pd.qcut(rfm['monetary'], 5, labels=[1, 2, 3, 4, 5])\n",
    "\n",
    "    # cltv_df skorları kategorik değere dönüştürülüp df'e eklendi\n",
    "    rfm[\"RFM_SCORE\"] = (rfm['recency_score'].astype(str) +\n",
    "                        rfm['frequency_score'].astype(str))\n",
    "\n",
    "\n",
    "    # SEGMENTLERIN ISIMLENDIRILMESI\n",
    "    seg_map = {\n",
    "        r'[1-2][1-2]': 'hibernating',\n",
    "        r'[1-2][3-4]': 'at_risk',\n",
    "        r'[1-2]5': 'cant_loose',\n",
    "        r'3[1-2]': 'about_to_sleep',\n",
    "        r'33': 'need_attention',\n",
    "        r'[3-4][4-5]': 'loyal_customers',\n",
    "        r'41': 'promising',\n",
    "        r'51': 'new_customers',\n",
    "        r'[4-5][2-3]': 'potential_loyalists',\n",
    "        r'5[4-5]': 'champions'\n",
    "    }\n",
    "\n",
    "    rfm['segment'] = rfm['RFM_SCORE'].replace(seg_map, regex=True)\n",
    "    rfm = rfm[[\"recency\", \"frequency\", \"monetary\", \"segment\"]]\n",
    "    rfm.index = rfm.index.astype(int)\n",
    "\n",
    "    if csv:\n",
    "        rfm.to_csv(\"rfm.csv\")\n",
    "\n",
    "    return rfm"
   ]
  }
 ],
 "metadata": {
  "kernelspec": {
   "display_name": "Python 3 (ipykernel)",
   "language": "python",
   "name": "python3"
  },
  "language_info": {
   "codemirror_mode": {
    "name": "ipython",
    "version": 3
   },
   "file_extension": ".py",
   "mimetype": "text/x-python",
   "name": "python",
   "nbconvert_exporter": "python",
   "pygments_lexer": "ipython3",
   "version": "3.9.12"
  }
 },
 "nbformat": 4,
 "nbformat_minor": 5
}
